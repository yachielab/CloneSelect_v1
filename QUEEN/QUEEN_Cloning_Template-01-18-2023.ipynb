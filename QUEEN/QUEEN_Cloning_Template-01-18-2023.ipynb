{
 "cells": [
  {
   "cell_type": "markdown",
   "id": "668fc162-fda6-4854-818f-45e529e5b272",
   "metadata": {
    "tags": []
   },
   "source": [
    "# QUEEN Cloning Script for a Large Catalog of Plasmids\n",
    "### Samuel King | Yachie Lab | Last updated: January 2023\n",
    "\n",
    "This is a QUEEN script for constructing plasmids by Digestion-Ligation, Gibson Assembly, and Golden Gate Assembly for the plasmids described in the CloneSelect paper."
   ]
  },
  {
   "cell_type": "markdown",
   "id": "2d70f598-dbf8-46cc-8d1d-be1c1ab2ced7",
   "metadata": {},
   "source": [
    "### Setting up QUEEN\n",
    "\n",
    "* I recommend using Anaconda as a distribution and coding your QUEEN scripts in JupyterLab.\n",
    "* This tutorial https://biocircuits.github.io/chapters/00_setting_up_python_computing_environment.html describes very clearly how to set up your environment with Anaconda.\n",
    "* Write out the exact cloning plan for your desired plasmid step-by-step, including template plasmid names, primer names, enzyme names, etc., before starting your QUEEN script.\n",
    "* If designing many plasmids, a spreadsheet is useful to carry the information. Then, you can code your functions to work with the spreadsheet items.\n",
    "* The full tutorial for QUEEN can be found here: https://github.com/yachielab/QUEEN\n",
    "\n",
    "### After setting up Anaconda and getting JupyterLab going, start your script like this:"
   ]
  },
  {
   "cell_type": "code",
   "execution_count": 2316,
   "id": "e106fa51-bb9a-4d7d-849f-bb848cdd2fad",
   "metadata": {},
   "outputs": [],
   "source": [
    "%matplotlib agg\n",
    "#!pip install python-queen  #install QUEEN here!\n",
    "#!conda install graphviz    #graphviz is not automatically installed by Anaconda and you need to install it yourself here\n",
    "import sys\n",
    "from QUEEN.queen import *\n",
    "set_namespace(globals())\n",
    "from QUEEN import cutsite as cs\n",
    "import re\n",
    "import pandas as pd\n",
    "import numpy as np\n",
    "pd.set_option('display.max_colwidth', None)\n",
    "from Bio import GenBank, SeqIO"
   ]
  },
  {
   "cell_type": "markdown",
   "id": "505a2257-fdce-4257-8e66-4c58a2470dfe",
   "metadata": {},
   "source": [
    "### QUEEN Wrapper Functions\n",
    "Here we provide the following new functions that build upon Regular Expression and QUEEN to improve QUEEN's functionality for a large catalog of plasmids:  \n",
    "  \n",
    "__Sequence search functions__:\n",
    "* `find_primer_binding`: Provides a QUEEN feature list of a primer binding sequence on a template when given primer and template QUEEN objects.\n",
    "* `primer_binding_object`: Provides a QUEEN feature object of a (18bp+) primer binding sequence on a template when given primer and template QUEEN objects.\n",
    "* `primer_binding_object_short`: Provides a QUEEN feature object of a short (15bp+) primer binding sequence on a template when given primer and template QUEEN objects.\n",
    "* `find_primer_binding_str`: Provides a string of a primer binding sequence on a template when given primer (specified as 'FW' or 'RV\") and template QUEEN objects.\n",
    "* `find_primer_binding_str_short`: Provides a string of a primer binding sequence on a template when given primer (specified as 'FW' or 'RV\") and template QUEEN objects (with reduced annealing requirement).\n",
    "* `primer_binding_start_pos`: Provides the start index position of the template sequence of a primer binding on a searched template sequence.\n",
    "* `primer_binding_end_pos`: Provides the end index position of the template sequence of a primer binding on a searched template sequence.\n",
    "* `find_primer_binding_primer`: Provides a QUEEN feature list of a primer binding sequence on another primer when given two primer QUEEN objects.\n",
    "* `find_primer_binding_primer_str`: Provides a string of a primer binding sequence on another primer when given two primer QUEEN objects.\n",
    "* `find_primer_binding_primer_str_short`: Provides a string of a primer binding sequence on another primer when given two primer QUEEN objects (with reduced annealing requirement).\n",
    "* `find_primer_binding_primer_start`: Provides the start index position of the binding portion of a primer sequence bound on a searched primer.\n",
    "* `find_primer_binding_primer_end`: Provides the end index position of the binding portion of a primer sequence bound on a searched primer.\n",
    "* `find_similar_sequence`: Provides the string of the specified binding portion of a primer that contains a specified number of mismatches to a template/plasmid string.\n",
    "\n",
    "__DNA modification functions__:\n",
    "* `generate_complement`: Provides a string of the complementary sequence to the provided string DNA (not the reverse complement, this is what flipdna does).\n",
    "* `generate_dsdna`: Provides a double-stranded QUEEN object when given a single-stranded string DNA.\n",
    "* `anneal_oligos`: Creates a double-stranded DNA with or without overhangs on either side when given two single-stranded QUEEN objects.\n",
    "    * __Helper functions__:\n",
    "        * `five_prime_overhang`: Provides the 5' overhang of a ssDNA with a known annealing sequence to another ssDNA.\n",
    "        * `three_prime_overhang`: Provides the 3' overhang of a ssDNA with a known annealing sequence to another ssDNA.\n",
    "        * `primer_overhangs`: Provides both the 5' and 3' overhangs of a ssDNA with a known annealing sequence to another ssDNA.\n",
    "    * `anneal_oligos_object`: Same as `anneal_oligos` but provides the double-stranded QUEEN object.\n",
    "    * `anneal_oligos_object_short`: Same as `anneal_oligos_object` but has a reduced annealing requirement.\n",
    "* `gibson_assembly`: Provides the circular ligated product QUEEN object of 2 overlapping DNA fragments (akin to a Gibson Assembly reaction).\n",
    "* `stitch_fragments`: Provides the linear ligated product QUEEN object of 2 overlapping DNA fragments.\n",
    "* `template_free_pcr`: Provides the linear PCR product QUEEN object of 2 annealing primers.\n",
    "    \n",
    "__Wrapper cloning functions__:\n",
    "* `create_pcr_product`: Provides a PCR product QUEEN object when given primer and template QUEEN objects.\n",
    "* `create_pcr_product_special`: Provides a PCR product QUEEN object when given a *short* Fw primer (15bp+), Rv primer, and template QUEEN objects (special case).\n",
    "* `create_pcr_product_mismatches`: Provides a PCR product QUEEN object when given a Fw primer with mismatches, a Rv primer with no mismatches, and a template/plasmid QUEEN object.\n",
    "* `double_digest_insert`: Provides a digested QUEEN object when given two restriction enzymes and the insert QUEEN object.\n",
    "* `double_digest_backbone`: Provides a digested QUEEN object when given two restriction enzymes and the backbone QUEEN object.\n",
    "* `typeIIS_digest_insert`: Provides a digested QUEEN object when given a Type-IIS restriction enzyme and the insert QUEEN object.\n",
    "* `typeIIS_digest_backbone`: Provides a digested QUEEN object when given a Type-IIS restriction enzyme and the backbone QUEEN object. "
   ]
  },
  {
   "cell_type": "markdown",
   "id": "59911d30-5d64-4738-bbcc-cb30d3a315a1",
   "metadata": {},
   "source": [
    "## Sequence search functions"
   ]
  },
  {
   "cell_type": "code",
   "execution_count": 1957,
   "id": "19b4282e-b804-4df9-a19b-fb9b9dbfe2bd",
   "metadata": {
    "tags": []
   },
   "outputs": [
    {
     "name": "stdout",
     "output_type": "stream",
     "text": [
      "start  end   strand  sequence                  \n",
      "5341   5365  -       GGCCTGGGTTGTCCCGCAGGTACT  \n",
      "\n",
      "start  end   strand  sequence                 \n",
      "4744   4767  +       CCAAAGAGGTGCTGGACGCCACC  \n",
      "\n",
      "start  end   strand  sequence                                       \n",
      "4811   4856  +       CCTGTCTCAGCTGGGAGGTGACGGCGGAGGAGGAACTGGAGGAGG  \n",
      "\n"
     ]
    },
    {
     "data": {
      "text/plain": [
       "'No primer binding site found.'"
      ]
     },
     "execution_count": 1957,
     "metadata": {},
     "output_type": "execute_result"
    }
   ],
   "source": [
    "def find_primer_binding(primer,    #QUEEN object\n",
    "                        template   #QUEEN object\n",
    "                       ):\n",
    "    \"\"\"\n",
    "    Given a primer and template sequence, finds the initial binding site of the primer in the template sequence, whether the primer has an overhang or not.\n",
    "    Returns the features of the primer binding site including the start position, end position, if it's the + or - strand, and the binding sequence.\n",
    "    Requires minimum 18bp annealing between primer and template. The 3' end of the binding primer must anneal.\n",
    "    \"\"\"\n",
    "    if len(primer.seq) < 18:\n",
    "        return 'No primer binding site found.'\n",
    "    else:\n",
    "        pass\n",
    "    \n",
    "    n = len(primer.seq)     #length of primer\n",
    "    binding_site = []       #empty list for candidate binding sites\n",
    "    i=-18                   #initial binding site length, always minimum 18bp in PCR\n",
    "    \n",
    "    while i <= n:\n",
    "        template.searchsequence(query=primer.seq[i:], product=\"match\")   #cumulatively search for each 3' nucleotide in the primer until the max amount of primer matches the template\n",
    "        binding_site.append(match)                                       #as i iterates, each candidate match is listed in binding_site\n",
    "        if match == []:                                                  #match is a feature list object, thus QUEEN creates an empty feature list '[]' if there are no matching characters\n",
    "            break                                                        #end the loop when there are no more characters in the primer that match the template sequence\n",
    "        elif -i == n:                                                    #i in our loop is always negative, so when -i == the total length of the primer (n), end the loop\n",
    "            break                                                        #end the loop when there are no more characters in the primer to analyze\n",
    "        i = i-1                                                          #iterate back from each 3' nucleotide while searching\n",
    "    \n",
    "    if binding_site == [[]]:                                             #if there is no binding sequence, the binding_site list will be empty\n",
    "        return 'No primer binding site found.'                           #notify that no binding sequence for the primer was found in the template\n",
    "    elif binding_site[-1] == []:                                         #the while loop ends the binding_site list with an empty feature list if the primer has an overhang\n",
    "        return template.printfeature(binding_site[-2], seq=True, attribute=[\"start\", \"end\", \"strand\"])      #show the last matching binding site for a primer with an overhang\n",
    "    else:\n",
    "        return template.printfeature(binding_site[-1], seq=True, attribute=[\"start\", \"end\", \"strand\"])      #show the last matching binding site for a primer with no overhang\n",
    "\n",
    "\n",
    "#Examples\n",
    "    \n",
    "QUEEN(record=\"139107\", dbtype=\"addgene\", product=\"pSI_626\")\n",
    "\n",
    "#Example 1: Rv primer binds to 24 bp in pSI_626, but has 21 bp overhang that actually matches another part of pSI_626\n",
    "QUEEN(seq=\"CCACCTTGCGCTTCTTCTTTGGGCCTGGGTTGTCCCGCAGGTACT\",product=\"SK132\")\n",
    "find_primer_binding(SK132, pSI_626) #works!\n",
    "\n",
    "#Example 2: Fw primer binds to 23 bp in pSI_626 with no overhang\n",
    "QUEEN(seq=\"ccaaagaggtgctggacgccacc\", product=\"SI1313\")\n",
    "find_primer_binding(SI1313, pSI_626) #works!\n",
    "\n",
    "#Example 3: Fw primer binds to 45 bp in pSI_626 with no overhang\n",
    "QUEEN(seq=\"cctgtctcagctgggaggtgacGGCGGAGGAGGAACTGGAGGAGG\", product=\"SI1304\")\n",
    "find_primer_binding(SI1304, pSI_626) #works!\n",
    "\n",
    "#Example 4: The 3'-most 18bp of the fw primer do not bind pSI_626, and the 25bp 5' overhang matches pSI_626\n",
    "QUEEN(seq=\"cactatagggagagccgccaccatgggacacactctttacgcc\", product=\"SK130\")\n",
    "find_primer_binding(SK130, pSI_626) #works!\n",
    "\n",
    "#Example 5: None of the rv primer matches pSI_626\n",
    "QUEEN(seq=\"gccagcacccccttcaagtt\", product=\"SK109\")\n",
    "find_primer_binding(SK109, pSI_626) #works!\n",
    "\n",
    "#Example 6: Primer is shorter than 18bp\n",
    "QUEEN(seq=\"CTAGACCGAGCGTGTCAGGGTCATAAGGGCTAG\", product=\"SI2003\") #template\n",
    "QUEEN(seq=\"ACACGCTCGGT\", product=\"SI2004cantanneal\") #primer\n",
    "find_primer_binding(SI2004cantanneal, SI2003) #works!"
   ]
  },
  {
   "cell_type": "code",
   "execution_count": 1958,
   "id": "cbd1d394-ad65-4cef-a393-fbd45e6b5b1a",
   "metadata": {},
   "outputs": [
    {
     "data": {
      "text/plain": [
       "<queen.QUEEN object; project='pSI_802', length='8725 bp', topology='circular'>"
      ]
     },
     "execution_count": 1958,
     "metadata": {},
     "output_type": "execute_result"
    }
   ],
   "source": [
    "def primer_binding_object(primer,   #QUEEN object\n",
    "                          template  #QUEEN object\n",
    "                         ):\n",
    "    \"\"\"\n",
    "    Given a primer and template sequence, finds the initial binding site of the primer in the template sequence, whether the primer has an overhang or not.\n",
    "    Returns the template.searchsequence feature object of the primer binding site that QUEEN can use to perform cropDNA.\n",
    "    Requires minimum 18bp annealing between primer and template. The 3' end of the binding primer must anneal.\n",
    "    \"\"\"\n",
    "    n = len(primer.seq)     #length of primer\n",
    "    binding_site = []       #empty list for candidate binding sites\n",
    "    i=-18                   #initial binding site length, always minimum 18bp in PCR\n",
    "    \n",
    "    while i <= n:\n",
    "        template.searchsequence(query=primer.seq[i:], product=\"match\")   #cumulatively search for each 3' nucleotide in the primer until the max amount of primer matches the template\n",
    "        binding_site.append(match)                                       #as i iterates, each candidate match is listed in binding_site\n",
    "        if match == []:                                                  #match is a feature list object, thus QUEEN creates an empty feature list '[]' if there are no matching characters\n",
    "            break                                                        #end the loop when there are no more characters in the primer that match the template sequence\n",
    "        elif -i == n:                                                    #i in our loop is always negative, so when -i == the total length of the primer (n), end the loop\n",
    "            break                                                        #end the loop when there are no more characters in the primer to analyze\n",
    "        i = i-1                                                          #iterate back from each 3' nucleotide while searching\n",
    "    \n",
    "    if binding_site == [[]]:                                             #if there is no binding sequence, the binding_site list will be empty\n",
    "        return 'No primer binding site found.'                           #notify that no binding sequence for the primer was found in the template\n",
    "    elif binding_site[-1] == []:                                         #the while loop ends the binding_site list with an empty feature list if the primer has an overhang\n",
    "        return binding_site[-2]                                          #show the last matching binding site for a primer with an overhang\n",
    "    else:\n",
    "        return binding_site[-1]                                          #show the last matching binding site for a primer with no overhang\n",
    "\n",
    "\n",
    "\n",
    "QUEEN(record=\"139107\", dbtype=\"addgene\", product=\"pSI_626\")\n",
    "\n",
    "#Example 1: Rv primer binds to 24 bp in pSI_626, but has 21 bp overhang that actually matches another part of pSI_626\n",
    "#QUEEN(seq=\"CCACCTTGCGCTTCTTCTTTGGGCCTGGGTTGTCCCGCAGGTACT\",product=\"SK132\")\n",
    "#primer_binding_object(SK132, pSI_626) #works!\n",
    "\n",
    "#Example 2: Fw primer binds to 23 bp in pSI_626 with no overhang\n",
    "#QUEEN(seq=\"ccaaagaggtgctggacgccacc\", product=\"SI1313\")\n",
    "#primer_binding_object(SI1313, pSI_626) #works!\n",
    "\n",
    "#Example 3: Fw primer binds to 45 bp in pSI_626 with no overhang\n",
    "#QUEEN(seq=\"cctgtctcagctgggaggtgacGGCGGAGGAGGAACTGGAGGAGG\", product=\"SI1304\")\n",
    "#primer_binding_object(SI1304, pSI_626) #works!\n",
    "\n",
    "#Example 4: The 3'-most 18bp of the fw primer do not bind pSI_626, and the 25bp 5' overhang matches pSI_626\n",
    "#QUEEN(seq=\"cactatagggagagccgccaccatgggacacactctttacgcc\", product=\"SK130\")\n",
    "#primer_binding_object(SK130, pSI_626) #works!\n",
    "\n",
    "#Example 5: None of the rv primer matches pSI_626\n",
    "#QUEEN(seq=\"gccagcacccccttcaagtt\", product=\"SK109\")\n",
    "#primer_binding_object(SK109, pSI_626) #works!"
   ]
  },
  {
   "cell_type": "code",
   "execution_count": 1959,
   "id": "7d52fb6f-1055-4aff-8e4b-caddca7d38c8",
   "metadata": {},
   "outputs": [
    {
     "data": {
      "text/plain": [
       "[DNAfeature(FeatureLocation(ExactPosition(4701), ExactPosition(4717), strand=-1), type='misc_feature')]"
      ]
     },
     "execution_count": 1959,
     "metadata": {},
     "output_type": "execute_result"
    }
   ],
   "source": [
    "def primer_binding_object_short(primer,   #QUEEN object\n",
    "                                template  #QUEEN object\n",
    "                                ):\n",
    "    \"\"\"\n",
    "    *FUNCTION SPECIALLY MADE FOR BINDING PRIMERS THAT ANNEAL 15 BP OR LONGER.*\n",
    "    Given a primer and template sequence, finds the initial binding site of the primer in the template sequence, whether the primer has an overhang or not.\n",
    "    Returns the template.searchsequence feature object of the primer binding site that QUEEN can use to perform cropDNA.\n",
    "    Requires minimum 15bp annealing between primer and template. The 3' end of the binding primer must anneal.\n",
    "    \"\"\"\n",
    "    n = len(primer.seq)      #length of primer\n",
    "    binding_site = []        #empty list for candidate binding sites\n",
    "    i=-15                    #initial binding site length, special for primers with binding sites less than 18 bp long\n",
    "    \n",
    "    while i <= n:\n",
    "        template.searchsequence(query=primer.seq[i:], product=\"match\")   #cumulatively search for each 3' nucleotide in the primer until the max amount of primer matches the template\n",
    "        binding_site.append(match)                                       #as i iterates, each candidate match is listed in binding_site\n",
    "        if match == []:                                                  #match is a feature list object, thus QUEEN creates an empty feature list '[]' if there are no matching characters\n",
    "            break                                                        #end the loop when there are no more characters in the primer that match the template sequence\n",
    "        elif -i == n:                                                    #i in our loop is always negative, so when -i == the total length of the primer (n), end the loop\n",
    "            break                                                        #end the loop when there are no more characters in the primer to analyze\n",
    "        i = i-1                                                          #iterate back from each 3' nucleotide while searching\n",
    "    \n",
    "    if binding_site == [[]]:                                             #if there is no binding sequence, the binding_site list will be empty\n",
    "        return 'No primer binding site found.'                           #notify that no binding sequence for the primer was found in the template\n",
    "    elif binding_site[-1] == []:                                         #the while loop ends the binding_site list with an empty feature list if the primer has an overhang\n",
    "        return binding_site[-2]                                          #show the last matching binding site for a primer with an overhang\n",
    "    else:\n",
    "        return binding_site[-1]                                          #show the last matching binding site for a primer with no overhang\n",
    "\n",
    "\n",
    "\n",
    "QUEEN(record=\"139107\", dbtype=\"addgene\", product=\"pSI_626\")\n",
    "QUEEN(record=\"36084\", dbtype=\"addgene\", product=\"pLV_mCherry\")\n",
    "\n",
    "#Example 1: Rv primer binds to 24 bp in pSI_626, but has 21 bp overhang that actually matches another part of pSI_626\n",
    "QUEEN(seq=\"CCACCTTGCGCTTCTTCTTTGGGCCTGGGTTGTCCCGCAGGTACT\",product=\"SK132\")\n",
    "primer_binding_object_short(SK132, pSI_626) #works!\n",
    "\n",
    "#Example 2: Fw primer binds to 23 bp in pSI_626 with no overhang\n",
    "QUEEN(seq=\"ccaaagaggtgctggacgccacc\", product=\"SI1313\")\n",
    "primer_binding_object_short(SI1313, pSI_626) #works!\n",
    "\n",
    "#Example 3: Fw primer binds to 45 bp in pSI_626 with no overhang\n",
    "QUEEN(seq=\"cctgtctcagctgggaggtgacGGCGGAGGAGGAACTGGAGGAGG\", product=\"SI1304\")\n",
    "primer_binding_object_short(SI1304, pSI_626) #works!\n",
    "\n",
    "#Example 4: The 3'-most 18bp of the fw primer do not bind pSI_626, and the 25bp 5' overhang matches pSI_626\n",
    "QUEEN(seq=\"cactatagggagagccgccaccatgggacacactctttacgcc\", product=\"SK130\")\n",
    "primer_binding_object_short(SK130, pSI_626) #works!\n",
    "\n",
    "#Example 5: None of the rv primer matches pSI_626\n",
    "QUEEN(seq=\"gccagcacccccttcaagtt\", product=\"SK109\")\n",
    "primer_binding_object_short(SK109, pSI_626) #works!\n",
    "\n",
    "#Example 6: Rv primer matches 21 bp in pLV_mCherry\n",
    "QUEEN(seq=\"AATTGGATCCTTACTTGTACAGCTCGTCCA\", product=\"SI680\")\n",
    "primer_binding_object_short(SI680, pLV_mCherry) #works!\n",
    "\n",
    "#Example 7: Fw primer matches 16 bp in pLV_mCherry\n",
    "QUEEN(seq=\"GGTGAATTCCCGAGCGTGTCAGGGTGACCGTGAGCAAGGGCGAGG\", product=\"SI1293\")\n",
    "primer_binding_object_short(SI1293, pLV_mCherry) #works!\n",
    "#add more examples for primers that have mismatches in their binding site"
   ]
  },
  {
   "cell_type": "code",
   "execution_count": 1960,
   "id": "180380b7-853c-48b6-a947-cbff2c58abde",
   "metadata": {},
   "outputs": [
    {
     "name": "stdout",
     "output_type": "stream",
     "text": [
      "start  end   strand  sequence                  \n",
      "5341   5365  -       GGCCTGGGTTGTCCCGCAGGTACT  \n",
      "\n",
      "start  end   strand  sequence                 \n",
      "4744   4767  +       CCAAAGAGGTGCTGGACGCCACC  \n",
      "\n",
      "start  end   strand  sequence                 \n",
      "4744   4767  +       CCAAAGAGGTGCTGGACGCCACC  \n",
      "\n"
     ]
    },
    {
     "data": {
      "text/plain": [
       "'CCCTTATGACCCTGACACGCTCGGT'"
      ]
     },
     "execution_count": 1960,
     "metadata": {},
     "output_type": "execute_result"
    }
   ],
   "source": [
    "def find_primer_binding_str(primer_type,  #'FW' or 'RV'\n",
    "                            primer,       #QUEEN object\n",
    "                            template      #QUEEN object\n",
    "                           ):\n",
    "    \"\"\"\n",
    "    Given a type of primer ('FW' or 'RV'), the primer, and template sequence, finds the initial binding site of the primer in the template sequence, whether the primer has an overhang or not.\n",
    "    Returns the string sequence of the portion of the primer that binds the template sequence.\n",
    "    Requires minimum 18bp annealing between primer and template. The 3' end of the binding primer must anneal.\n",
    "    \"\"\"\n",
    "    # Note: re.search cannot search in the 3' to 5' direction on a QUEEN DNA object, so the function will not work for Rv primers unless the template is flipped\n",
    "    # For example:\n",
    "      # match1 = re.search('hell', 'hello') #Finds match='hell'\n",
    "      # print(match1)\n",
    "      # match2 = re.search('lleh', 'hello') #Finds None\n",
    "      # print(match2)\n",
    "    \n",
    "    n = len(primer.seq)                  #length of primer\n",
    "    i=-18                                #starting point of i\n",
    "    flippedtemplate = flipdna(template)  #reverse complement of template\n",
    "    binding_site = []\n",
    "    \n",
    "    \n",
    "    if primer_type == 'FW':                                 #for searching templates with Fw primer\n",
    "        while i <= n:\n",
    "            match = re.search(primer.seq[i:], template.seq) #search for each character in the primer string until the maximum amount of the primer matches the template string\n",
    "            binding_site.append(match)                      #add matching string to the list binding_site\n",
    "            if match == None:                               #end loop when there are no more matches\n",
    "                break\n",
    "            elif -i == n:                                   #end loop when there are no is no more primer string to iterate on\n",
    "                break\n",
    "            i = i-1\n",
    "    elif primer_type == 'RV':                               #for searching templates with Rv primer; template must be reverse complement because re can't search on dsDNA like QUEEN can\n",
    "        while i <= n:\n",
    "            match = re.search(primer.seq[i:], flippedtemplate.seq)\n",
    "            binding_site.append(match)\n",
    "            if match == None:\n",
    "                break\n",
    "            elif -i == n:\n",
    "                break\n",
    "            i = i-1\n",
    "            \n",
    "    if len(binding_site) == 1 and binding_site[-1] == None:  #if there is no binding sequence, the binding_site list will only contain 1 NoneType object\n",
    "        return 'No primer binding site found.'               #notify that no binding sequence for the primer was found in the template\n",
    "    elif binding_site[-1] == None:                           #the while loop ends the binding_site list with a NoneType object if the primer has an overhang\n",
    "        return binding_site[-2].group()                      #show the last matching binding site for a primer with an overhang\n",
    "    else:\n",
    "        return binding_site[-1].group()                      #show the last matching binding site for a primer with no overhang\n",
    "        \n",
    "\n",
    "#Examples\n",
    "\n",
    "QUEEN(record=\"139107\", dbtype=\"addgene\", product=\"pSI_626\")\n",
    "\n",
    "#Example 1: Rv primer binds to 24 bp in pSI_626, but has 21 bp overhang that actually matches another part of pSI_626\n",
    "QUEEN(seq=\"CCACCTTGCGCTTCTTCTTTGGGCCTGGGTTGTCCCGCAGGTACT\",product=\"SK132\")  #Rv primer that binds 24bp of pSI_626\n",
    "find_primer_binding(SK132, pSI_626)                                         #Finds GGCCTGGGTTGTCCCGCAGGTACT \n",
    "find_primer_binding_str('RV', SK132, pSI_626)                               #Returns string of binding portion of primer\n",
    "\n",
    "#Example 2: Fw primer binds to 23 bp in pSI_626 with no overhang\n",
    "QUEEN(seq=\"ccaaagaggtgctggacgccacc\", product=\"SI1313\")                      #Fw primer that has no overhang and binds all 23bp\n",
    "find_primer_binding(SI1313, pSI_626)                                        #Finds CCAAAGAGGTGCTGGACGCCACC\n",
    "find_primer_binding_str('FW', SI1313, pSI_626)                              #Returns string of binding portion of primer, no opportunity to return None as the last call\n",
    "\n",
    "#Example 3: Fw primer binds to 23 bp in pSI_626 with no overhang but is given with wrong primer type\n",
    "QUEEN(seq=\"ccaaagaggtgctggacgccacc\", product=\"SI1313\")                      #Fw primer that has no overhang and binds all 23bp\n",
    "find_primer_binding(SI1313, pSI_626)                                        #Finds CCAAAGAGGTGCTGGACGCCACC\n",
    "find_primer_binding_str('RV', SI1313, pSI_626)                              #Returns 'No primer binding site found.'\n",
    "\n",
    "#Example 4: Rv primer binds to a Fw primer\n",
    "QUEEN(seq=\"CTAGACCGAGCGTGTCAGGGTCATAAGGGCTAG\", product=\"SI2003\") \n",
    "QUEEN(seq=\"CCCTTATGACCCTGACACGCTCGGT\", product=\"SI2004\")\n",
    "find_primer_binding_str('RV', SI2004, SI2003)\n"
   ]
  },
  {
   "cell_type": "code",
   "execution_count": 1961,
   "id": "f4079cf6-ee3f-4a58-bce0-1e4e61630c8e",
   "metadata": {},
   "outputs": [
    {
     "name": "stdout",
     "output_type": "stream",
     "text": [
      "start  end   strand  sequence                  \n",
      "5341   5365  -       GGCCTGGGTTGTCCCGCAGGTACT  \n",
      "\n",
      "start  end   strand  sequence                 \n",
      "4744   4767  +       CCAAAGAGGTGCTGGACGCCACC  \n",
      "\n",
      "start  end   strand  sequence                 \n",
      "4744   4767  +       CCAAAGAGGTGCTGGACGCCACC  \n",
      "\n"
     ]
    },
    {
     "data": {
      "text/plain": [
       "'CCCTTATGACCCTGACACGCTCGGT'"
      ]
     },
     "execution_count": 1961,
     "metadata": {},
     "output_type": "execute_result"
    }
   ],
   "source": [
    "def find_primer_binding_str_short(primer_type,  #'FW' or 'RV'\n",
    "                                  primer,       #QUEEN object\n",
    "                                  template      #QUEEN object\n",
    "                                 ):\n",
    "    \"\"\"\n",
    "    Given a type of primer ('FW' or 'RV'), the primer, and template sequence, finds the initial binding site of the primer in the template sequence, whether the primer has an overhang or not.\n",
    "    Returns the string sequence of the portion of the primer that binds the template sequence.\n",
    "    Requires minimum 15bp annealing between primer and template. The 3' end of the binding primer must anneal.\n",
    "    \"\"\"\n",
    "    # Note: re.search cannot search in the 3' to 5' direction on a QUEEN DNA object, so the function will not work for Rv primers unless the template is flipped\n",
    "    # For example:\n",
    "      # match1 = re.search('hell', 'hello') #Finds match='hell'\n",
    "      # print(match1)\n",
    "      # match2 = re.search('lleh', 'hello') #Finds None\n",
    "      # print(match2)\n",
    "    \n",
    "    n = len(primer.seq)                  #length of primer\n",
    "    i=-15                                #starting point of i\n",
    "    flippedtemplate = flipdna(template)  #reverse complement of template\n",
    "    binding_site = []\n",
    "    \n",
    "    \n",
    "    if primer_type == 'FW':                                 #for searching templates with Fw primer\n",
    "        while i <= n:\n",
    "            match = re.search(primer.seq[i:], template.seq) #search for each character in the primer string until the maximum amount of the primer matches the template string\n",
    "            binding_site.append(match)                      #add matching string to the list binding_site\n",
    "            if match == None:                               #end loop when there are no more matches\n",
    "                break\n",
    "            elif -i == n:                                   #end loop when there are no is no more primer string to iterate on\n",
    "                break\n",
    "            i = i-1\n",
    "    elif primer_type == 'RV':                               #for searching templates with Rv primer; template must be reverse complement because re can't search on dsDNA like QUEEN can\n",
    "        while i <= n:\n",
    "            match = re.search(primer.seq[i:], flippedtemplate.seq)\n",
    "            binding_site.append(match)\n",
    "            if match == None:\n",
    "                break\n",
    "            elif -i == n:\n",
    "                break\n",
    "            i = i-1\n",
    "            \n",
    "    if len(binding_site) == 1 and binding_site[-1] == None:  #if there is no binding sequence, the binding_site list will only contain 1 NoneType object\n",
    "        return 'No primer binding site found.'               #notify that no binding sequence for the primer was found in the template\n",
    "    elif binding_site[-1] == None:                           #the while loop ends the binding_site list with a NoneType object if the primer has an overhang\n",
    "        return binding_site[-2].group()                      #show the last matching binding site for a primer with an overhang\n",
    "    else:\n",
    "        return binding_site[-1].group()                      #show the last matching binding site for a primer with no overhang\n",
    "        \n",
    "\n",
    "#Examples\n",
    "\n",
    "QUEEN(record=\"139107\", dbtype=\"addgene\", product=\"pSI_626\")\n",
    "\n",
    "#Example 1: Rv primer binds to 24 bp in pSI_626, but has 21 bp overhang that actually matches another part of pSI_626\n",
    "QUEEN(seq=\"CCACCTTGCGCTTCTTCTTTGGGCCTGGGTTGTCCCGCAGGTACT\",product=\"SK132\")  #Rv primer that binds 24bp of pSI_626\n",
    "find_primer_binding(SK132, pSI_626)                                         #Finds GGCCTGGGTTGTCCCGCAGGTACT \n",
    "find_primer_binding_str_short('RV', SK132, pSI_626)                               #Returns string of binding portion of primer\n",
    "\n",
    "#Example 2: Fw primer binds to 23 bp in pSI_626 with no overhang\n",
    "QUEEN(seq=\"ccaaagaggtgctggacgccacc\", product=\"SI1313\")                      #Fw primer that has no overhang and binds all 23bp\n",
    "find_primer_binding(SI1313, pSI_626)                                        #Finds CCAAAGAGGTGCTGGACGCCACC\n",
    "find_primer_binding_str_short('FW', SI1313, pSI_626)                              #Returns string of binding portion of primer, no opportunity to return None as the last call\n",
    "\n",
    "#Example 3: Fw primer binds to 23 bp in pSI_626 with no overhang but is given with wrong primer type\n",
    "QUEEN(seq=\"ccaaagaggtgctggacgccacc\", product=\"SI1313\")                      #Fw primer that has no overhang and binds all 23bp\n",
    "find_primer_binding(SI1313, pSI_626)                                        #Finds CCAAAGAGGTGCTGGACGCCACC\n",
    "find_primer_binding_str_short('RV', SI1313, pSI_626)                              #Returns 'No primer binding site found.'\n",
    "\n",
    "#Example 4: Rv primer binds to a Fw primer\n",
    "QUEEN(seq=\"CTAGACCGAGCGTGTCAGGGTCATAAGGGCTAG\", product=\"SI2003\") \n",
    "QUEEN(seq=\"CCCTTATGACCCTGACACGCTCGGT\", product=\"SI2004\")\n",
    "find_primer_binding_str_short('RV', SI2004, SI2003)\n"
   ]
  },
  {
   "cell_type": "code",
   "execution_count": 1962,
   "id": "10a06463-cb31-4835-b4e6-72268497b7fc",
   "metadata": {},
   "outputs": [
    {
     "data": {
      "text/plain": [
       "4"
      ]
     },
     "execution_count": 1962,
     "metadata": {},
     "output_type": "execute_result"
    }
   ],
   "source": [
    "def primer_binding_start_pos(primer_type,  #'FW' or 'RV'\n",
    "                             primer,       #QUEEN object\n",
    "                             template      #QUEEN object\n",
    "                            ):\n",
    "    \"\"\"\n",
    "    Given a type of primer ('FW' or 'RV'), the primer, and template sequence, finds the initial binding site of the primer in the template sequence, whether the primer has an overhang or not.\n",
    "    Returns the start index position of the template sequence from the portion of the primer that binds the template sequence.\n",
    "    Requires minimum 18bp annealing between primer and template. The 3' end of the binding primer must anneal.\n",
    "    \"\"\"\n",
    "    # Note: re.search cannot search in the 3' to 5' direction on a QUEEN DNA object, so the function will not work for Rv primers unless the template is flipped\n",
    "    # For example:\n",
    "      # match1 = re.search('hell', 'hello') #Finds match='hell'\n",
    "      # print(match1)\n",
    "      # match2 = re.search('lleh', 'hello') #Finds None\n",
    "      # print(match2)\n",
    "    \n",
    "    n = len(primer.seq)                  #length of primer\n",
    "    i=-18                                #starting point of i\n",
    "    flippedtemplate = flipdna(template)  #reverse complement of template\n",
    "    binding_site = []\n",
    "    \n",
    "    \n",
    "    if primer_type == 'FW':                                 #for searching templates with Fw primer\n",
    "        while i <= n:\n",
    "            match = re.search(primer.seq[i:], template.seq) #search for each character in the primer string until the maximum amount of the primer matches the template string\n",
    "            binding_site.append(match)                      #add matching string to the list binding_site\n",
    "            if match == None:                               #end loop when there are no more matches\n",
    "                break\n",
    "            elif -i == n:                                   #end loop when there are no is no more primer string to iterate on\n",
    "                break\n",
    "            i = i-1\n",
    "    elif primer_type == 'RV':                               #for searching templates with Rv primer; template must be reverse complement because re can't search on dsDNA like QUEEN can\n",
    "        while i <= n:\n",
    "            match = re.search(primer.seq[i:], flippedtemplate.seq)\n",
    "            binding_site.append(match)\n",
    "            if match == None:\n",
    "                break\n",
    "            elif -i == n:\n",
    "                break\n",
    "            i = i-1\n",
    "            \n",
    "    if len(binding_site) == 1 and binding_site[-1] == None:  #if there is no binding sequence, the binding_site list will only contain 1 NoneType object\n",
    "        return 'No primer binding site found.'               #notify that no binding sequence for the primer was found in the template\n",
    "    elif binding_site[-1] == None:                           #the while loop ends the binding_site list with a NoneType object if the primer has an overhang\n",
    "        return binding_site[-2].start()                      #show the last matching binding site for a primer with an overhang\n",
    "    else:\n",
    "        return binding_site[-1].start()                      #show the last matching binding site for a primer with no overhang\n",
    "        \n",
    "\n",
    "#Examples\n",
    "\n",
    "QUEEN(record=\"139107\", dbtype=\"addgene\", product=\"pSI_626\")\n",
    "\n",
    "#Example 1: Rv primer binds to 24 bp in pSI_626, but has 21 bp overhang that actually matches another part of pSI_626\n",
    "QUEEN(seq=\"CCACCTTGCGCTTCTTCTTTGGGCCTGGGTTGTCCCGCAGGTACT\",product=\"SK132\")  #Rv primer that binds 24bp of pSI_626\n",
    "find_primer_binding_str('RV', SK132, pSI_626)                               #Finds GGCCTGGGTTGTCCCGCAGGTACT \n",
    "primer_binding_start_pos('RV', SK132, pSI_626)                              #Returns start position of binding portion of primer\n",
    "\n",
    "#Example 2: Fw primer binds to 23 bp in pSI_626 with no overhang\n",
    "QUEEN(seq=\"ccaaagaggtgctggacgccacc\", product=\"SI1313\")                      #Fw primer that has no overhang and binds all 23bp\n",
    "find_primer_binding_str('FW', SI1313, pSI_626)                              #Finds CCAAAGAGGTGCTGGACGCCACC\n",
    "primer_binding_start_pos('FW', SI1313, pSI_626)                             #Returns start position of binding portion of primer, no opportunity to return None as the last call\n",
    "\n",
    "#Example 3: Fw primer binds to 23 bp in pSI_626 with no overhang but is given with wrong primer type\n",
    "QUEEN(seq=\"ccaaagaggtgctggacgccacc\", product=\"SI1313\")                      #Fw primer that has no overhang and binds all 23bp\n",
    "find_primer_binding_str('RV', SI1313, pSI_626)                              #Finds CCAAAGAGGTGCTGGACGCCACC\n",
    "primer_binding_start_pos('RV', SI1313, pSI_626)                             #Returns 'No primer binding site found.'\n",
    "\n",
    "#Example 4: Rv primer binds to a Fw primer\n",
    "QUEEN(seq=\"CTAGACCGAGCGTGTCAGGGTCATAAGGGCTAG\", product=\"SI2003\") \n",
    "QUEEN(seq=\"CCCTTATGACCCTGACACGCTCGGT\", product=\"SI2004\")\n",
    "find_primer_binding_str('RV', SI2004, SI2003)\n",
    "primer_binding_start_pos('RV', SI2004, SI2003)"
   ]
  },
  {
   "cell_type": "code",
   "execution_count": 1963,
   "id": "3a35d933-2b12-4204-bdd0-359eda037918",
   "metadata": {},
   "outputs": [
    {
     "data": {
      "text/plain": [
       "29"
      ]
     },
     "execution_count": 1963,
     "metadata": {},
     "output_type": "execute_result"
    }
   ],
   "source": [
    "def primer_binding_end_pos(primer_type,  #'FW' or 'RV'\n",
    "                           primer,       #QUEEN object\n",
    "                           template      #QUEEN object\n",
    "                          ):\n",
    "    \"\"\"\n",
    "    Given a type of primer ('FW' or 'RV'), the primer, and template sequence, finds the initial binding site of the primer in the template sequence, whether the primer has an overhang or not.\n",
    "    Returns the end index position of the template sequence from the portion of the primer that binds the template sequence.\n",
    "    Requires minimum 18bp annealing between primer and template. The 3' end of the binding primer must anneal.\n",
    "    \"\"\"\n",
    "    # Note: re.search cannot search in the 3' to 5' direction on a QUEEN DNA object, so the function will not work for Rv primers unless the template is flipped\n",
    "    # For example:\n",
    "      # match1 = re.search('hell', 'hello') #Finds match='hell'\n",
    "      # print(match1)\n",
    "      # match2 = re.search('lleh', 'hello') #Finds None\n",
    "      # print(match2)\n",
    "    \n",
    "    n = len(primer.seq)                  #length of primer\n",
    "    i=-18                                #starting point of i\n",
    "    flippedtemplate = flipdna(template)  #reverse complement of template\n",
    "    binding_site = []\n",
    "    \n",
    "    \n",
    "    if primer_type == 'FW':                                 #for searching templates with Fw primer\n",
    "        while i <= n:\n",
    "            match = re.search(primer.seq[i:], template.seq) #search for each character in the primer string until the maximum amount of the primer matches the template string\n",
    "            binding_site.append(match)                      #add matching string to the list binding_site\n",
    "            if match == None:                               #end loop when there are no more matches\n",
    "                break\n",
    "            elif -i == n:                                   #end loop when there are no is no more primer string to iterate on\n",
    "                break\n",
    "            i = i-1\n",
    "    elif primer_type == 'RV':                               #for searching templates with Rv primer; template must be reverse complement because re can't search on dsDNA like QUEEN can\n",
    "        while i <= n:\n",
    "            match = re.search(primer.seq[i:], flippedtemplate.seq)\n",
    "            binding_site.append(match)\n",
    "            if match == None:\n",
    "                break\n",
    "            elif -i == n:\n",
    "                break\n",
    "            i = i-1\n",
    "            \n",
    "    if len(binding_site) == 1 and binding_site[-1] == None:  #if there is no binding sequence, the binding_site list will only contain 1 NoneType object\n",
    "        return 'No primer binding site found.'               #notify that no binding sequence for the primer was found in the template\n",
    "    elif binding_site[-1] == None:                           #the while loop ends the binding_site list with a NoneType object if the primer has an overhang\n",
    "        return binding_site[-2].end()                        #show the last matching binding site for a primer with an overhang\n",
    "    else:\n",
    "        return binding_site[-1].end()                        #show the last matching binding site for a primer with no overhang\n",
    "        \n",
    "\n",
    "#Examples\n",
    "\n",
    "QUEEN(record=\"139107\", dbtype=\"addgene\", product=\"pSI_626\")\n",
    "\n",
    "#Example 1: Rv primer binds to 24 bp in pSI_626, but has 21 bp overhang that actually matches another part of pSI_626\n",
    "QUEEN(seq=\"CCACCTTGCGCTTCTTCTTTGGGCCTGGGTTGTCCCGCAGGTACT\",product=\"SK132\")  #Rv primer that binds 24bp of pSI_626\n",
    "find_primer_binding_str('RV', SK132, pSI_626)                               #Finds GGCCTGGGTTGTCCCGCAGGTACT \n",
    "primer_binding_end_pos('RV', SK132, pSI_626)                              #Returns start position of binding portion of primer\n",
    "\n",
    "#Example 2: Fw primer binds to 23 bp in pSI_626 with no overhang\n",
    "QUEEN(seq=\"ccaaagaggtgctggacgccacc\", product=\"SI1313\")                      #Fw primer that has no overhang and binds all 23bp\n",
    "find_primer_binding_str('FW', SI1313, pSI_626)                              #Finds CCAAAGAGGTGCTGGACGCCACC\n",
    "primer_binding_end_pos('FW', SI1313, pSI_626)                             #Returns start position of binding portion of primer, no opportunity to return None as the last call\n",
    "\n",
    "#Example 3: Fw primer binds to 23 bp in pSI_626 with no overhang but is given with wrong primer type\n",
    "QUEEN(seq=\"ccaaagaggtgctggacgccacc\", product=\"SI1313\")                      #Fw primer that has no overhang and binds all 23bp\n",
    "find_primer_binding_str('RV', SI1313, pSI_626)                              #Finds CCAAAGAGGTGCTGGACGCCACC\n",
    "primer_binding_end_pos('RV', SI1313, pSI_626)                             #Returns 'No primer binding site found.'\n",
    "\n",
    "#Example 4: Rv primer binds to a Fw primer\n",
    "QUEEN(seq=\"CTAGACCGAGCGTGTCAGGGTCATAAGGGCTAG\", product=\"SI2003\") \n",
    "QUEEN(seq=\"CCCTTATGACCCTGACACGCTCGGT\", product=\"SI2004\")\n",
    "find_primer_binding_str('RV', SI2004, SI2003)\n",
    "primer_binding_end_pos('RV', SI2004, SI2003)\n"
   ]
  },
  {
   "cell_type": "code",
   "execution_count": 1964,
   "id": "6d533910-9126-4493-a525-c66ef008fa76",
   "metadata": {},
   "outputs": [
    {
     "name": "stdout",
     "output_type": "stream",
     "text": [
      "start  end  strand  sequence                   \n",
      "4      29   -       CCCTTATGACCCTGACACGCTCGGT  \n",
      "\n",
      "start  end  strand  sequence                   \n",
      "4      29   -       CCCTTATGACCCTGACACGCTCGGT  \n",
      "\n"
     ]
    },
    {
     "data": {
      "text/plain": [
       "'No primer binding site found.'"
      ]
     },
     "execution_count": 1964,
     "metadata": {},
     "output_type": "execute_result"
    }
   ],
   "source": [
    "def find_primer_binding_primer(fw_primer,  #QUEEN object\n",
    "                               rv_primer   #QUEEN object\n",
    "                              ):\n",
    "    \"\"\"\n",
    "    Searches for binding sites between two primers (useful for template-free PCR or annealing of two ssDNA oligos).\n",
    "    Returns feature list of QUEEN search, including start, end, strand, and sequence. 3' end of primer must anneal.\n",
    "    Requires minimum 18-bp annealing between two oligos.\n",
    "    \"\"\"\n",
    "    if len(fw_primer.seq) > len(rv_primer.seq):             #The smaller primer needs to be the query and the larger primer needs to be the template searched on.\n",
    "        return find_primer_binding(rv_primer, fw_primer)   \n",
    "    elif len(fw_primer.seq) < len(rv_primer.seq):\n",
    "        return find_primer_binding(fw_primer, rv_primer)\n",
    "    else:\n",
    "        return find_primer_binding(fw_primer, rv_primer)\n",
    "\n",
    "\n",
    "#Examples\n",
    "\n",
    "QUEEN(seq=\"CTAGACCGAGCGTGTCAGGGTCATAAGGGCTAG\", product=\"testfw\")\n",
    "QUEEN(seq=\"CCCTTATGACCCTGACACGCTCGGT\", product=\"testrv\") #testrv is the reverse complement of the inner sequence of SI2003 flanked by each CTAG\n",
    "find_primer_binding_primer(testfw, testrv)  #Larger primer given as first item - works\n",
    "\n",
    "find_primer_binding_primer(testrv, testfw)  #Larger primer given as second item - works\n",
    "\n",
    "QUEEN(seq=\"AAAACCCTTATGACCCTGACACGCTCGGTAAAA\", product=\"testrv2\")\n",
    "find_primer_binding_primer(testfw, testrv2) #Primers are equal size with the second primer having overhangs that don't match - works\n"
   ]
  },
  {
   "cell_type": "code",
   "execution_count": 1965,
   "id": "e1bcc726-39c2-4069-9545-1795af5842a3",
   "metadata": {},
   "outputs": [
    {
     "data": {
      "text/plain": [
       "'CCCTTATGACCCTGACACGCTCGGT'"
      ]
     },
     "execution_count": 1965,
     "metadata": {},
     "output_type": "execute_result"
    }
   ],
   "source": [
    "def find_primer_binding_primer_str(fw_primer,  #QUEEN object\n",
    "                                   rv_primer   #QUEEN object\n",
    "                                  ):\n",
    "    \"\"\"\n",
    "    Searches for binding sites between two primers (useful for template-free PCR or annealing of two ssDNA oligos).\n",
    "    Returns string of the binding portion of the primer that anneals to the other primer. 3' end of primer must anneal.\n",
    "    If primers anneal and are equal size, returns string of the binding portion of the primer provided second.\n",
    "    Requires minimum 18-bp annealing between two oligos.\n",
    "    \"\"\"\n",
    "    \n",
    "    #The 'RV' feature must be set for every search because by design, every template (whether it's a Fw primer or Rv primer),\n",
    "    #will be antisense to the query, unlike when we're searching on a plasmid, which has a sense strand and an antisense strand\n",
    "    \n",
    "    if len(fw_primer.seq) > len(rv_primer.seq):                         #The smaller primer needs to be the query and the larger primer needs to be the template searched on.\n",
    "        return find_primer_binding_str('RV', rv_primer, fw_primer)      \n",
    "    elif len(fw_primer.seq) < len(rv_primer.seq):\n",
    "        return find_primer_binding_str('RV', fw_primer, rv_primer)\n",
    "    elif len(fw_primer.seq) == len(rv_primer.seq):\n",
    "        return find_primer_binding_str('RV', fw_primer, rv_primer)\n",
    "\n",
    "\n",
    "#Examples\n",
    "\n",
    "QUEEN(seq=\"CTAGACCGAGCGTGTCAGGGTCATAAGGGCTAG\", product=\"SI2003\")\n",
    "QUEEN(seq=\"CCCTTATGACCCTGACACGCTCGGT\", product=\"SI2004\")                #The reverse complement of the inner sequence of SI2003 flanked by each CTAG\n",
    "find_primer_binding_primer_str(SI2003, SI2004)                          #Larger primer given as first item - works\n",
    "find_primer_binding_primer_str(SI2004, SI2003)                          #Larger primer given as second item - works\n",
    "find_primer_binding_primer_str(SI2004, SI2004)                          #Primers are the same size and identical - works (no match because primers aren't complementary)\n",
    "\n",
    "QUEEN(seq=\"AAAACCCTTATGACCCTGACACGCTCGGTAAAA\", product=\"test\")\n",
    "find_primer_binding_primer_str(SI2003, test)                            #Primers are equal size with second having overhangs that don't match - works (no match because no 3' annealing)\n",
    "\n",
    "QUEEN(seq=\"AAAACCCTTATGACCCTGACACGCTCGGT\", product=\"test2\")\n",
    "find_primer_binding_primer_str(SI2003, test2)                           #Rv primer is smaller with a 5' overhang that doesn't match - works\n",
    "\n",
    "QUEEN(seq=\"ACCGAGCGTGTCAGGGTCATAAGGG\", product=\"SI2003trunc\")\n",
    "find_primer_binding_primer_str(SI2004, SI2003trunc)                     #Primers are equal size and anneal fully - works"
   ]
  },
  {
   "cell_type": "code",
   "execution_count": 1966,
   "id": "07131d85-9859-465c-88da-cca9a065e1e9",
   "metadata": {},
   "outputs": [
    {
     "data": {
      "text/plain": [
       "'CCCTTATGACCCTGACACGCTCGGT'"
      ]
     },
     "execution_count": 1966,
     "metadata": {},
     "output_type": "execute_result"
    }
   ],
   "source": [
    "def find_primer_binding_primer_str_short(fw_primer,  #QUEEN object\n",
    "                                         rv_primer   #QUEEN object\n",
    "                                        ):\n",
    "    \"\"\"\n",
    "    Searches for binding sites between two primers (useful for template-free PCR or annealing of two ssDNA oligos).\n",
    "    Returns string of the binding portion of the primer that anneals to the other primer. 3' end of primer must anneal.\n",
    "    If primers anneal and are equal size, returns string of the binding portion of the primer provided second.\n",
    "    Requires minimum 15-bp annealing between two oligos.\n",
    "    \"\"\"\n",
    "    \n",
    "    #The 'RV' feature must be set for every search because by design, every template (whether it's a Fw primer or Rv primer),\n",
    "    #will be antisense to the query, unlike when we're searching on a plasmid, which has a sense strand and an antisense strand\n",
    "    \n",
    "    if len(fw_primer.seq) > len(rv_primer.seq):                         #The smaller primer needs to be the query and the larger primer needs to be the template searched on.\n",
    "        return find_primer_binding_str_short('RV', rv_primer, fw_primer)      \n",
    "    elif len(fw_primer.seq) < len(rv_primer.seq):\n",
    "        return find_primer_binding_str_short('RV', fw_primer, rv_primer)\n",
    "    elif len(fw_primer.seq) == len(rv_primer.seq):\n",
    "        return find_primer_binding_str_short('RV', fw_primer, rv_primer)\n",
    "\n",
    "\n",
    "#Examples\n",
    "\n",
    "QUEEN(seq=\"CTAGACCGAGCGTGTCAGGGTCATAAGGGCTAG\", product=\"SI2003\")\n",
    "QUEEN(seq=\"CCCTTATGACCCTGACACGCTCGGT\", product=\"SI2004\")                      #The reverse complement of the inner sequence of SI2003 flanked by each CTAG\n",
    "find_primer_binding_primer_str_short(SI2003, SI2004)                          #Larger primer given as first item - works\n",
    "find_primer_binding_primer_str_short(SI2004, SI2003)                          #Larger primer given as second item - works\n",
    "find_primer_binding_primer_str_short(SI2004, SI2004)                          #Primers are the same size and identical - works (no match because primers aren't complementary)\n",
    "\n",
    "QUEEN(seq=\"AAAACCCTTATGACCCTGACACGCTCGGTAAAA\", product=\"test\")\n",
    "find_primer_binding_primer_str_short(SI2003, test)                            #Primers are equal size with second having overhangs that don't match - works (no match because no 3' annealing)\n",
    "\n",
    "QUEEN(seq=\"AAAACCCTTATGACCCTGACACGCTCGGT\", product=\"test2\")\n",
    "find_primer_binding_primer_str_short(SI2003, test2)                           #Rv primer is smaller with a 5' overhang that doesn't match - works\n",
    "\n",
    "QUEEN(seq=\"ACCGAGCGTGTCAGGGTCATAAGGG\", product=\"SI2003trunc\")\n",
    "find_primer_binding_primer_str_short(SI2004, SI2003trunc)                     #Primers are equal size and anneal fully - works"
   ]
  },
  {
   "cell_type": "code",
   "execution_count": 1967,
   "id": "25971808-b9cb-4ed9-b010-bf2c949a58a7",
   "metadata": {
    "tags": []
   },
   "outputs": [
    {
     "data": {
      "text/plain": [
       "0"
      ]
     },
     "execution_count": 1967,
     "metadata": {},
     "output_type": "execute_result"
    }
   ],
   "source": [
    "def find_primer_binding_primer_start(fw_primer,  #QUEEN object\n",
    "                                     rv_primer   #QUEEN object\n",
    "                                    ):\n",
    "    \"\"\"\n",
    "    Searches for binding sites between two primers (useful for template-free PCR or annealing of two ssDNA oligos).\n",
    "    Returns the start index position of the template sequence from the binding portion of the primer that anneals to the other primer. 3' end of primer must anneal.\n",
    "    Requires minimum 18-bp annealing between two oligos.\n",
    "    \"\"\"\n",
    "    \n",
    "    #The 'RV' feature must be set for every search because by design, every template (whether it's a Fw primer or Rv primer),\n",
    "    #will be antisense to the query, unlike when we're searching on a plasmid, which has a sense strand and an antisense strand\n",
    "    \n",
    "    if len(fw_primer.seq) > len(rv_primer.seq):                         #The smaller primer needs to be the query and the larger primer needs to be the template searched on.\n",
    "        return primer_binding_start_pos('RV', rv_primer, fw_primer)      \n",
    "    elif len(fw_primer.seq) < len(rv_primer.seq):\n",
    "        return primer_binding_start_pos('RV', fw_primer, rv_primer)\n",
    "    elif len(fw_primer.seq) == len(rv_primer.seq):\n",
    "        return primer_binding_start_pos('RV', fw_primer, rv_primer)\n",
    "\n",
    "\n",
    "#Examples\n",
    "\n",
    "QUEEN(seq=\"CTAGACCGAGCGTGTCAGGGTCATAAGGGCTAG\", product=\"SI2003\")\n",
    "QUEEN(seq=\"CCCTTATGACCCTGACACGCTCGGT\", product=\"SI2004\")                #The reverse complement of the inner sequence of SI2003 flanked by each CTAG\n",
    "find_primer_binding_primer_start(SI2003, SI2004)                        #Larger primer given as first item - works\n",
    "find_primer_binding_primer_start(SI2004, SI2003)                        #Larger primer given as second item - works\n",
    "find_primer_binding_primer_start(SI2004, SI2004)                        #Primers are the same size and identical - works (no match because primers aren't complementary)\n",
    "\n",
    "QUEEN(seq=\"AAAACCCTTATGACCCTGACACGCTCGGTAAAA\", product=\"test\")\n",
    "find_primer_binding_primer_start(SI2003, test)                           #Primers are equal size with second having overhangs that don't match - works (no match because no 3' annealing)\n",
    "\n",
    "QUEEN(seq=\"AAAACCCTTATGACCCTGACACGCTCGGT\", product=\"test2\")\n",
    "find_primer_binding_primer_start(SI2003, test2)                          #Rv primer is smaller with a 5' overhang that doesn't match - works\n",
    "\n",
    "QUEEN(seq=\"ACCGAGCGTGTCAGGGTCATAAGGG\", product=\"SI2003trunc\")\n",
    "find_primer_binding_primer_start(SI2004, SI2003trunc)                     #Primers are equal size and anneal fully - works"
   ]
  },
  {
   "cell_type": "code",
   "execution_count": 1968,
   "id": "e80bfb33-a06a-42f0-8a43-48a3cee003c0",
   "metadata": {
    "tags": []
   },
   "outputs": [
    {
     "data": {
      "text/plain": [
       "25"
      ]
     },
     "execution_count": 1968,
     "metadata": {},
     "output_type": "execute_result"
    }
   ],
   "source": [
    "def find_primer_binding_primer_end(fw_primer,  #QUEEN object\n",
    "                                   rv_primer   #QUEEN object\n",
    "                                  ):\n",
    "    \"\"\"\n",
    "    Searches for binding sites between two primers (useful for template-free PCR or annealing of two ssDNA oligos).\n",
    "    Returns the start index position of the template sequence from the binding portion of the primer that anneals to the other primer. 3' end of primer must anneal.\n",
    "    Requires minimum 18-bp annealing between two oligos.\n",
    "    \"\"\"\n",
    "    \n",
    "    #The 'RV' feature must be set for every search because by design, every template (whether it's a Fw primer or Rv primer),\n",
    "    #will be antisense to the query, unlike when we're searching on a plasmid, which has a sense strand and an antisense strand\n",
    "    \n",
    "    if len(fw_primer.seq) > len(rv_primer.seq):                         #The smaller primer needs to be the query and the larger primer needs to be the template searched on.\n",
    "        return primer_binding_end_pos('RV', rv_primer, fw_primer)      \n",
    "    elif len(fw_primer.seq) < len(rv_primer.seq):\n",
    "        return primer_binding_end_pos('RV', fw_primer, rv_primer)\n",
    "    elif len(fw_primer.seq) == len(rv_primer.seq):\n",
    "        return primer_binding_end_pos('RV', fw_primer, rv_primer)\n",
    "\n",
    "\n",
    "#Examples\n",
    "\n",
    "QUEEN(seq=\"CTAGACCGAGCGTGTCAGGGTCATAAGGGCTAG\", product=\"SI2003\")\n",
    "QUEEN(seq=\"CCCTTATGACCCTGACACGCTCGGT\", product=\"SI2004\")                #The reverse complement of the inner sequence of SI2003 flanked by each CTAG\n",
    "find_primer_binding_primer_end(SI2003, SI2004)                        #Larger primer given as first item - works\n",
    "find_primer_binding_primer_end(SI2004, SI2003)                        #Larger primer given as second item - works\n",
    "find_primer_binding_primer_end(SI2004, SI2004)                        #Primers are the same size and identical - works (no match because primers aren't complementary)\n",
    "\n",
    "QUEEN(seq=\"AAAACCCTTATGACCCTGACACGCTCGGTAAAA\", product=\"test\")\n",
    "find_primer_binding_primer_end(SI2003, test)                           #Primers are equal size with second having overhangs that don't match - works (no match because no 3' annealing)\n",
    "\n",
    "QUEEN(seq=\"AAAACCCTTATGACCCTGACACGCTCGGT\", product=\"test2\")\n",
    "find_primer_binding_primer_end(SI2003, test2)                          #Rv primer is smaller with a 5' overhang that doesn't match - works\n",
    "\n",
    "QUEEN(seq=\"ACCGAGCGTGTCAGGGTCATAAGGG\", product=\"SI2003trunc\")\n",
    "find_primer_binding_primer_end(SI2004, SI2003trunc)                     #Primers are equal size and anneal fully - works"
   ]
  },
  {
   "cell_type": "code",
   "execution_count": 2402,
   "id": "21f25164-bf29-4923-aa52-84742da3c38e",
   "metadata": {},
   "outputs": [
    {
     "data": {
      "text/plain": [
       "''"
      ]
     },
     "execution_count": 2402,
     "metadata": {},
     "output_type": "execute_result"
    }
   ],
   "source": [
    "def find_similar_sequence(seq1,                  #str for Fw primer\n",
    "                          seq2,                  #str for template/plasmid\n",
    "                          max_mismatches=3       #user-defined, default is 3\n",
    "                         ): \n",
    "    \"\"\"\n",
    "    Given a Fw primer (str) and template/plasmid (str), and the maximum number of mismatches allowed (default is 3),\n",
    "    finds the best match to the primer query in the template/plasmid.\n",
    "    Searches in a window size equal to the length of seq1.\n",
    "    Returns the best match as a substring from the template/plasmid.\n",
    "    \"\"\"\n",
    "    #Function written with help from ChatGPT\n",
    "    \n",
    "    # Convert the sequences to uppercase\n",
    "    seq1 = seq1.upper()\n",
    "    seq2 = seq2.upper()\n",
    "\n",
    "    # Initialize the variables to track the best match\n",
    "    best_match = \"\"\n",
    "    best_start = -1\n",
    "    best_mismatches = max_mismatches + 1\n",
    "\n",
    "    # Iterate over all possible substrings of seq2 that are the same length as seq1\n",
    "    for i in range(len(seq2) - len(seq1) + 1):\n",
    "        # Get the substring of seq2 that starts at position i and has the same length as seq1\n",
    "        substring = seq2[i:i+len(seq1)]\n",
    "\n",
    "        # Count the number of mismatches between the substring and seq1\n",
    "        mismatches = 0\n",
    "        for j in range(len(substring)):\n",
    "            if substring[j] != seq1[j]:\n",
    "                mismatches += 1\n",
    "\n",
    "        # If this is the best match so far (fewest mismatches), update the best match\n",
    "        if mismatches < best_mismatches:\n",
    "            best_match = substring\n",
    "            best_start = i\n",
    "            best_mismatches = mismatches\n",
    "\n",
    "    # Return the best matching substring in the plasmid\n",
    "    return (best_match)\n",
    "\n",
    "\n",
    "#Examples\n",
    "\n",
    "QUEEN(record=\"https://benchling.com/s/seq-lyizd9Ah3jyfw9GFwW9v\", dbtype=\"benchling\", product=\"pLV_mCherry\")\n",
    "\n",
    "QUEEN(seq=\"GGTGAATTCCCGAGCGTGTCAGGGTGACCGTGAGCAAGGGCGAGG\", product = \"SI1293\")\n",
    "QUEEN(seq=\"GGTGAATTCCCGAGCGTGTCAGGGTGACCGTGAGCAAGGGCGAGGAGGATAACGCTGCCATC\", product=\"SI1294\")\n",
    "QUEEN(seq=\"GGTGAATTCCCGAGCGTGTCAGGGTGACCGTGGCCATCATCAAGGAGTTCA\", product=\"SI1295\")\n",
    "QUEEN(seq=\"GGTGAATTCCCGAGCGTGTCAGGGTGACCATGAGCAAGGGCGAGGAGGATAACGCTGCCATC\", product=\"SI1297\") \n",
    "\n",
    "pn1='test'\n",
    "pn2='test2'\n",
    "pd1='test3'\n",
    "pd2='test4'\n",
    "\n",
    "#Example 1: 35bp-annealing primer with 3bp mismatch to pLV_mCherry\n",
    "find_similar_sequence(SI1294.seq[-18:], pLV_mCherry.seq, max_mismatches = 3) #works\n",
    "\n",
    "#Example 2: 21bp-annealing primer to pLV_mCherry\n",
    "find_similar_sequence(SI1295.seq[-18:], pLV_mCherry.seq, max_mismatches = 3) #works\n",
    "\n",
    "#Example 3: 34bp-annealing primer with 3bp mismatch to pLV_mCherry\n",
    "find_similar_sequence(SI1297.seq[-18:], pLV_mCherry.seq, max_mismatches = 3) #works\n",
    "\n",
    "#Example 3: 34bp-annealing primer with 3bp mismatch to pLV_mCherry\n",
    "find_similar_sequence(SI1297.seq[-18:], pLV_mCherry.seq, max_mismatches = 2) #works, returns no string because mismatches are too low"
   ]
  },
  {
   "cell_type": "markdown",
   "id": "d1111c20-6aba-412a-825d-38c820de7af3",
   "metadata": {},
   "source": [
    "## DNA modification functions"
   ]
  },
  {
   "cell_type": "code",
   "execution_count": 1970,
   "id": "7757e115-035c-4bfc-a04e-b2bf22fc4ac6",
   "metadata": {},
   "outputs": [
    {
     "data": {
      "text/plain": [
       "'gatctggctcgcacagtcccagtattcccgatc'"
      ]
     },
     "execution_count": 1970,
     "metadata": {},
     "output_type": "execute_result"
    }
   ],
   "source": [
    "def generate_complement(dna #str\n",
    "                       ):\n",
    "    \"\"\"\n",
    "    Given a string of DNA in UPPERCASE letters only, returns complement of the DNA (not the reverse complement).\n",
    "    \"\"\"\n",
    "    complementary_dna = dna.replace('A', 't').replace('T', 'a').replace('G', 'c').replace('C', 'g')\n",
    "    return complementary_dna\n",
    "\n",
    "\n",
    "#Examples\n",
    "generate_complement('ACGT') #makes 'tgca'\n",
    "generate_complement('acgt') #doesn't work because input is only uppercase letters\n",
    "\n",
    "QUEEN(seq=\"CTAGACCGAGCGTGTCAGGGTCATAAGGGCTAG\", product=\"SI2003\")\n",
    "generate_complement(SI2003.seq) #works!"
   ]
  },
  {
   "cell_type": "code",
   "execution_count": 1971,
   "id": "3eb61c7d-f0d4-4296-9241-d6cb76bde898",
   "metadata": {},
   "outputs": [
    {
     "data": {
      "text/plain": [
       "<queen.QUEEN object; project='dna_14165', length='33 bp', sequence='CTAGACCGAGCGTGTCAGGGTCATAAGGGCTAG', topology='linear'>"
      ]
     },
     "execution_count": 1971,
     "metadata": {},
     "output_type": "execute_result"
    }
   ],
   "source": [
    "def generate_dsdna(dna  #str\n",
    "                  ):\n",
    "    \"\"\"\n",
    "    Given a single-stranded string of DNA in UPPERCASE letters only, returns the double-stranded QUEEN object.\n",
    "    \"\"\"\n",
    "    sense = dna                                  #sense strand of dna\n",
    "    antisense = generate_complement(dna)         #antisense strand of dna\n",
    "    concatenate = sense + '/' + antisense        #concatenate into one string for QUEEN to recognize the object\n",
    "    dsdna = QUEEN(seq=concatenate)               #generate dsDNA\n",
    "    return dsdna                                 #print dsDNA\n",
    "\n",
    "\n",
    "#Examples\n",
    "generate_dsdna('ACGT') #works!\n",
    "#generate_dsDNA('acgt') #returns an error because the sequence is not in uppercase\n",
    "\n",
    "QUEEN(seq=\"CTAGACCGAGCGTGTCAGGGTCATAAGGGCTAG\", product=\"SI2003\")\n",
    "generate_dsdna(SI2003.seq) #works!"
   ]
  },
  {
   "cell_type": "code",
   "execution_count": 1972,
   "id": "b86cef49-13a2-4d85-a439-c5406e1ca9ed",
   "metadata": {},
   "outputs": [
    {
     "data": {
      "text/plain": [
       "''"
      ]
     },
     "execution_count": 1972,
     "metadata": {},
     "output_type": "execute_result"
    }
   ],
   "source": [
    "#Helper function for anneal_oligos.\n",
    "def five_prime_overhang(string,\n",
    "                       ):\n",
    "    \"\"\"\n",
    "    Given a string of format 'NNN|NNN' where N can represent any nucleotide or absence of a nucleotide, returns the 5' side of the string (characters before the '|').\n",
    "    Helper function for anneal_oligos.\n",
    "    \"\"\" \n",
    "    i = 0\n",
    "    string_new = ''\n",
    "    n = len(string)\n",
    "    \n",
    "    while i <= n:\n",
    "        string_new = string_new + string[i]\n",
    "        if string[i] == '|':\n",
    "            break\n",
    "        elif i == n:\n",
    "            break\n",
    "        i = i+1\n",
    "        \n",
    "    return string_new[:i]\n",
    "\n",
    "#Examples\n",
    "five_prime_overhang('CTAG|CTAG') #Returns 'CTAG', len 4\n",
    "five_prime_overhang('CTAGAA|')   #Returns 'CTAGAA', len 6\n",
    "five_prime_overhang('|AAA')      #Returns '', this case doesn't return '|' because [:i] excludes position i (which is '|' here), len 0\n",
    "five_prime_overhang('|')         #Returns '', this case doesn't return '|' because [:i] excludes position i (which is '|' here), len 0\n",
    "#five_prime_overhang('')          #Returns IndexError"
   ]
  },
  {
   "cell_type": "code",
   "execution_count": 1973,
   "id": "ef543477-eba6-4cdf-81b2-f3e9488fa861",
   "metadata": {},
   "outputs": [
    {
     "data": {
      "text/plain": [
       "''"
      ]
     },
     "execution_count": 1973,
     "metadata": {},
     "output_type": "execute_result"
    }
   ],
   "source": [
    "#Helper function for anneal_oligos.\n",
    "def three_prime_overhang(string,\n",
    "                        ):\n",
    "    \"\"\"\n",
    "    Given a string of format 'NNN|NNN' where N can represent any nucleotide or absence of a nucleotide, returns the 3' side of the string (characters after the '|').\n",
    "    Helper function for anneal_oligos.\n",
    "    \"\"\" \n",
    "    i = -1\n",
    "    string_new = ''\n",
    "    n = len(string)\n",
    "    \n",
    "    while i <= n:\n",
    "        string_new = string[i] + string_new\n",
    "        if string[i] == '|':\n",
    "            break\n",
    "        elif i == n:\n",
    "            break\n",
    "        i = i-1\n",
    "    \n",
    "    j = i+1 \n",
    "    if string_new == '|':   #When '|' is the first character that i sees, then string_new becomes '|' and the loop ends. We remove this to give '' in such cases.\n",
    "        return ''\n",
    "    else:\n",
    "        return string_new[j:]\n",
    "\n",
    "#Examples\n",
    "three_prime_overhang('CTAG|CTAG') #Returns 'CTAG', len 4\n",
    "three_prime_overhang('CTAGAA|')   #Returns '', len 0\n",
    "three_prime_overhang('|AAA')      #Returns 'AAA', len 3\n",
    "three_prime_overhang('|')         #Returns '', len 0\n",
    "#three_prime_overhang('')          #Returns IndexError"
   ]
  },
  {
   "cell_type": "code",
   "execution_count": 1974,
   "id": "fa1a715a-9985-4555-9fd0-88e006db2bba",
   "metadata": {},
   "outputs": [
    {
     "data": {
      "text/plain": [
       "'CTAGACCGAGCGTGTCAGGGTCATAAGGGCTAG'"
      ]
     },
     "execution_count": 1974,
     "metadata": {},
     "output_type": "execute_result"
    }
   ],
   "source": [
    "#Helper function for anneal_oligos.\n",
    "def primer_overhangs(primer, #QUEEN object\n",
    "                     anneal  #str\n",
    "                    ):\n",
    "    \"\"\"\n",
    "    Given a primer and its known annealing sequence to another primer (*required to anneal*), determines the overhangs on its 5' and 3' ends (if any).\n",
    "    Returns the overhangs in the format 'NNN|NNN', where '|' separates the 5' overhang (left of the | ) and the 3' overhang (right of the bar | ).\n",
    "    There can be 0 or more N's on either side of the '|'.\n",
    "    Helper function for anneal_oligos.\n",
    "    \"\"\"\n",
    "    p = primer.seq\n",
    "    \n",
    "    if p.__contains__(anneal) == True:\n",
    "        return p.replace(anneal, '|')\n",
    "    elif p.__contains__(anneal) == False:\n",
    "        return p.replace(flipdna(anneal), '|')\n",
    "\n",
    "\n",
    "#Examples\n",
    "QUEEN(seq=\"CTAGACCGAGCGTGTCAGGGTCATAAGGGCTAG\", product=\"SI2003\")\n",
    "QUEEN(seq=\"ACCGAGCGTGTCAGGGTCATAAGGG\", product=\"SI2003inner\")\n",
    "QUEEN(seq=\"CCCTTATGACCCTGACACGCTCGGT\", product=\"SI2004\")\n",
    "\n",
    "primer_overhangs(SI2003, SI2003inner.seq)               #The identified annealing sequence is the inner 25bp of SI2003\n",
    "primer_overhangs(SI2003, 'CCCTTATGACCCTGACACGCTCGGT')   #The identified annealing sequence is SI2004.seq (written as string because flipdna operates on a pure string or QUEEN object)\n",
    "primer_overhangs(SI2004, SI2004.seq)                    #The identified annealing sequence is the same as the primer, which leaves no overhangs and thus '|'\n",
    "primer_overhangs(SI2003, 'ACTGTG')                      #The identified annealing sequence has no match in the primer, and the whole primer is returned"
   ]
  },
  {
   "cell_type": "code",
   "execution_count": 1975,
   "id": "53b938f3-69db-4ff4-a072-a8e3e211db6b",
   "metadata": {},
   "outputs": [],
   "source": [
    "def anneal_oligos(fw_primer,  #QUEEN object\n",
    "                  rv_primer,  #QUEEN object\n",
    "                  pn,         #str\n",
    "                  pd          #str\n",
    "                 ):\n",
    "    \"\"\"\n",
    "    Given Fw and Rv primers, creates a new fragment through ssDNA annealing of the two primers to each other.\n",
    "    *Requirement: Primers must anneal with at least 18 bp of binding.\n",
    "    Leaves overhangs on either, neither, or both sides depending on the design of the two oligos.\n",
    "    User may specify a process name (pn) and process description (pd) as strings.\n",
    "    Returns the annealed oligo sequence.\n",
    "    \"\"\"\n",
    "    #\n",
    "    # To build dsDNAs from two ssDNA oligos annealing (but not extending), we must consider the nine possible combinations of oligos:\n",
    "    #\n",
    "    #               Case 1           Case 2                           Case 3                           Case 4                           Case 5\n",
    "    # Fw primer:    5'-anneal-3'     5'-overhang-anneal-overhang-3'   5'----------anneal----------3'   5'-overhang-anneal----------3'   5'----------anneal-overhang-3'\n",
    "    # Rv primer:    3'-anneal-5'     3'----------anneal----------5'   3'-overhang-anneal-overhang-5'   3'----------anneal-overhang-5'   3'-overhang-anneal----------5'\n",
    "    #                  Frag.1            Frag.2          Frag.3           Frag.4          Frag.5   \n",
    "    #\n",
    "    #                                Case 6                           Case 7                           Case 8                           Case 9\n",
    "    # Fw primer:                     5'-overhang-anneal-3'            5'----------anneal-3'            5'-anneal-overhang-3'            5'-anneal----------3'\n",
    "    # Rv primer:                     3'----------anneal-5'            3'-overhang-anneal-5'            3'-anneal----------5'            3'-anneal-overhang-5'\n",
    "    #\n",
    "    #\n",
    "    # With the information of two primer sequences we must generate 5 unique fragments that will exist or not exist depending on which IF statement is satisified.\n",
    "    # Then, we will concatenate fragments depending on the condition satisfied.\n",
    "    #\n",
    "    # Approach: Generate each fragment, then concatenate them on the ds_anneal string, and the product should be one of cases 1-9.\n",
    "    # If an annealed oligo doesn't exist, it should notify the user.\n",
    "    #\n",
    "    \n",
    "    fw_primer_str = fw_primer.seq                                            #String of Fw primer sequence\n",
    "    rv_primer_str = rv_primer.seq                                            #String of Rv primer sequence\n",
    "    \n",
    "    if fw_primer_str == rv_primer_str:                                       #Function can't run if oligos are exactly identical\n",
    "        return 'Identical ssDNAs cannot anneal. Please revise your entry.'\n",
    "    elif len(fw_primer_str) < 18:                                            #Function can't run if oligos have <18 bp annealing.\n",
    "        return 'Oligos could not anneal because at least one is too short. Please revise your entry.'\n",
    "    elif len(rv_primer_str) < 18:                                            #Function can't run if oligos have <18 bp annealing.\n",
    "        return 'Oligos could not anneal because at least one is too short. Please revise your entry.'\n",
    "    else:\n",
    "        pass\n",
    "    \n",
    "    fw_overhang_list = []                                                    #Empty list for Fw overhang(s)\n",
    "    rv_overhang_list = []                                                    #Empty list for Rv overhang(s)\n",
    "    fw_fragment_list = []                                                    #Empty list for Fw overhang fragment(s)\n",
    "    rv_fragment_list = []                                                    #Empty list for Fw overhang fragment(s)\n",
    "    \n",
    "    #Generate Frag.1\n",
    "    anneal = find_primer_binding_primer_str(fw_primer, rv_primer)            #Finds the annealing site between the two primers\n",
    "    if fw_primer_str.__contains__(anneal) == True:\n",
    "        ds_anneal = generate_dsdna(anneal)                                   #Generates the double-stranded sequence of the binding sites of the two primers upon annealing\n",
    "    elif fw_primer_str.__contains__(anneal) == False:                        #Error for Case 5 occurs here because the 3' end of the Rv primer doesn't anneal\n",
    "        ds_anneal = generate_dsdna(flipdna(anneal))                          #Generates the double-stranded sequence of the binding sites of the two primers upon annealing\n",
    "    \n",
    "    \n",
    "    #Generate Frag.2 and Frag.3\n",
    "    overhangs_fw_primer = primer_overhangs(fw_primer, anneal)\n",
    "    five_fw = five_prime_overhang(overhangs_fw_primer)                       #Provides the 5' overhang of the Fw primer (if any)\n",
    "    fw_overhang_list.append(five_fw)\n",
    "    three_fw = three_prime_overhang(overhangs_fw_primer)                     #Provides the 3' overhang of the Fw primer (if any)\n",
    "    fw_overhang_list.append(three_fw)\n",
    "    \n",
    "    #Position 0 of fw_fragment_list will correspond to Frag.2\n",
    "    #Position 1 of fw_fragment_list will correspond to Frag.3\n",
    "    i=0\n",
    "    while i < 2:\n",
    "        if fw_overhang_list[i] != '':\n",
    "            fragment = QUEEN(seq=fw_overhang_list[i] + '/' + ('-' * len(fw_overhang_list[i])))\n",
    "            fw_fragment_list.append(fragment)\n",
    "        elif fw_overhang_list[i] == '':\n",
    "            fw_fragment_list.append('No overhang')\n",
    "        elif i == 2:\n",
    "            break\n",
    "        i = i+1\n",
    "    \n",
    "    \n",
    "    #Generate Frag.4 and Frag.5\n",
    "    overhangs_rv_primer = primer_overhangs(rv_primer, anneal)\n",
    "    five_rv = five_prime_overhang(overhangs_rv_primer)                       #Provides the 5' overhang of the Rv primer (if any)\n",
    "    rv_overhang_list.append(five_rv)\n",
    "    three_rv = three_prime_overhang(overhangs_rv_primer)                     #Provides the 3' overhang of the Rv primer (if any)\n",
    "    rv_overhang_list.append(three_rv)\n",
    "    \n",
    "    #Position 0 of rv_fragment_list will correspond to Frag.4\n",
    "    #Position 1 of rv_fragment_list will correspond to Frag.5\n",
    "    i=0\n",
    "    while i < 2:\n",
    "        if rv_overhang_list[i] != '':\n",
    "            fragment = QUEEN(seq=rv_overhang_list[i] + '/' + ('-' * len(rv_overhang_list[i])))\n",
    "            rv_fragment_list.append(fragment)\n",
    "        elif rv_overhang_list[i] == '':\n",
    "            rv_fragment_list.append('No overhang')\n",
    "        elif i == 2:\n",
    "            break\n",
    "        i = i+1\n",
    "\n",
    "    \n",
    "    if anneal != 'No primer binding site found.':\n",
    "        \n",
    "        if fw_fragment_list[0] != 'No overhang':    #Add upstream Fw overhang if possible\n",
    "            frag2 = QUEEN(seq=fw_fragment_list[0].seq + ds_anneal.seq[0] + '/' + '-' * len(fw_fragment_list[0].seq) + generate_complement(ds_anneal.seq[0]))\n",
    "            ds_anneal_left_trim = cropdna(ds_anneal, 1, len(ds_anneal.seq))\n",
    "            anneal_left = joindna(frag2, ds_anneal_left_trim, pn=pn, pd=pd)\n",
    "            \n",
    "        elif rv_fragment_list[1] != 'No overhang':  #Add upstream Rv overhang if possible\n",
    "            frag4 = QUEEN(seq=('-' * len(rv_fragment_list[1].seq) + ds_anneal.seq[0] + '/' + rv_fragment_list[1].seq[::-1] + generate_complement(ds_anneal.seq[0])))\n",
    "            ds_anneal_left_trim = cropdna(ds_anneal, 1, len(ds_anneal.seq))\n",
    "            anneal_left = joindna(frag4, ds_anneal_left_trim, pn=pn, pd=pd)\n",
    "            \n",
    "        else:\n",
    "            anneal_left = ds_anneal\n",
    "    \n",
    "        if fw_fragment_list[1] != 'No overhang':    #Add downstream Fw overhang if possible\n",
    "            frag3 = QUEEN(seq=ds_anneal.seq[-1] + fw_fragment_list[1].seq + '/' + generate_complement(ds_anneal.seq[-1]) + ('-' * len(fw_fragment_list[1].seq)))\n",
    "            ds_anneal_right_trim = cropdna(anneal_left, 0, (len(anneal_left.seq) - 1))\n",
    "            annealed_oligo = joindna(ds_anneal_right_trim, frag3, pn=pn, pd=pd)\n",
    "            annealed_oligo.printsequence(display=True)\n",
    "            \n",
    "        elif rv_fragment_list[0] != 'No overhang':  #Add downstream Rv overhang if possible\n",
    "            frag5 = QUEEN(seq= ds_anneal.seq[-1] + ('-' * len(rv_fragment_list[0].seq)) + '/' + generate_complement(ds_anneal.seq[-1]) + rv_fragment_list[0].seq[::-1])\n",
    "            ds_anneal_right_trim = cropdna(anneal_left, 0, (len(anneal_left.seq) - 1))\n",
    "            annealed_oligo = joindna(ds_anneal_right_trim, frag5, pn=pn, pd=pd)\n",
    "            annealed_oligo.printsequence(display=True)\n",
    "        \n",
    "        elif fw_fragment_list[0] != 'No overhang':\n",
    "            anneal_left.printsequence(display=True)\n",
    "            \n",
    "        elif rv_fragment_list[1] != 'No overhang':\n",
    "            anneal_left.printsequence(display=True) \n",
    "        \n",
    "        else:\n",
    "            annealed_oligo = ds_anneal\n",
    "            annealed_oligo.printsequence(display=True) #temporarily print sequences but change to QUEEN objects later\n",
    "            \n",
    "    else:\n",
    "        'Oligos could not anneal.'\n",
    "    \n",
    "\n",
    "#Examples\n",
    "\n",
    "QUEEN(seq=\"CTAGACCGAGCGTGTCAGGGTCATAAGGGCTAG\", product=\"SI2003\") \n",
    "QUEEN(seq=\"ACCGAGCGTGTCAGGGTCATAAGGG\", product=\"SI2003truncated\") \n",
    "QUEEN(seq=\"CTAGACCGAGCGTGTCAGGGTCATAAGGG\", product = \"SI2003shortright\")\n",
    "QUEEN(seq=\"ACCGAGCGTGTCAGGGTCATAAGGGCTAG\", product=\"SI2003shortleft\")  \n",
    "QUEEN(seq=\"CCCTTATGACCCTGACACGCTCGGT\", product=\"SI2004\")\n",
    "QUEEN(seq=\"CCCTTATGACCCTGACACGCTCGGTCTAG\", product=\"SI2004longright\")\n",
    "QUEEN(seq=\"CTAGCCCTTATGACCCTGACACGCTCGGT\", product=\"SI2004longleft\")\n",
    "QUEEN(seq=\"ACACGCTCGGT\", product=\"SI2004cantanneal\")\n",
    "pn1='test'\n",
    "pn2='test2'\n",
    "pd1='test3'\n",
    "pd2='test4'\n",
    "\n",
    "#anneal_oligos(SI2003, SI2003, pn=pn1, pd=pd2)            #Produces 'Identical ssDNAs cannot anneal. Please revise your entry.' #works\n",
    "#anneal_oligos(SI2003, SI2004cantanneal, pn=pn1, pd=pd2)  #Produces 'Oligos could not anneal because at least one is too short. Please revise your entry.' #works\n",
    "#anneal_oligos(SI2004cantanneal, SI2003, pn=pn1, pd=pd2)  #Produces 'Oligos could not anneal because at least one is too short. Please revise your entry.' #works\n",
    "\n",
    "#anneal_oligos(SI2003truncated, SI2004, pn=pn1, pd=pd2)                     #Produces Case 1 #works\n",
    " # 5' ACCGAGCGTGTCAGGGTCATAAGGG 3'\n",
    " # 3' TGGCTCGCACAGTCCCAGTATTCCC 5'\n",
    "\n",
    "#anneal_oligos(SI2004, SI2003truncated, pn=pn1, pd=pd2)                     #Produces Case 1 but treats SI2004 as sense strand #works\n",
    " # 5' CCCTTATGACCCTGACACGCTCGGT 3'\n",
    " # 3' GGGAATACTGGGACTGTGCGAGCCA 5'\n",
    "\n",
    "#anneal_oligos(SI2003, SI2004, pn=pn1, pd=pd2)                              #Produces Case 2 #works\n",
    " # 5' CTAGACCGAGCGTGTCAGGGTCATAAGGGCTAG 3'\n",
    " # 3' ----TGGCTCGCACAGTCCCAGTATTCCC---- 5'\n",
    "\n",
    "#anneal_oligos(SI2004, SI2003, pn=pn1, pd=pd2)                              #Produces Case 3 #works\n",
    " # 5' ----CCCTTATGACCCTGACACGCTCGGT---- 3'\n",
    " # 3' GATCGGGAATACTGGGACTGTGCGAGCCAGATC 5'\n",
    "\n",
    "#anneal_oligos(SI2003shortright, SI2004longleft, pn=pn1, pd=pd2)            #Produces Case 4 #works\n",
    " # 5' CTAGACCGAGCGTGTCAGGGTCATAAGGG---- 3'\n",
    " # 3' ----TGGCTCGCACAGTCCCAGTATTCCCGATC 5'\n",
    "\n",
    "#anneal_oligos(SI2003shortleft, SI2004longright, pn=pn1, pd=pd2)            #Produces Case 5 #makes error because 3' end of Rv primer doesn't anneal\n",
    " # 5' ----ACCGAGCGTGTCAGGGTCATAAGGGCTAG 3'\n",
    " # 3' GATCTGGCTCGCACAGTCCCAGTATTCCC---- 5'\n",
    "\n",
    "#anneal_oligos(SI2003, SI2004longleft, pn=pn1, pd=pd2)                      #Produces Case 6 #works\n",
    " # 5' CTAGACCGAGCGTGTCAGGGTCATAAGGGCTAG 3'\n",
    " # 3' ----TGGCTCGCACAGTCCCAGTATTCCCGATC 5'\n",
    "\n",
    "#anneal_oligos(SI2004longright, SI2003, pn=pn1, pd=pd2)                     #Produces Case 7 #works\n",
    " # 5' ----CCCTTATGACCCTGACACGCTCGGTCTAG 3'\n",
    " # 3' GATCGGGAATACTGGGACTGTGCGAGCCAGATC 5'\n",
    "\n",
    "#anneal_oligos(SI2003, SI2004longright, pn=pn1, pd=pd2)                     #Produces Case 8 #works\n",
    " # 5' CTAGACCGAGCGTGTCAGGGTCATAAGGGCTAG 3'\n",
    " # 3' GATCTGGCTCGCACAGTCCCAGTATTCCC---- 5'\n",
    "\n",
    "#anneal_oligos(SI2004longleft, SI2003, pn=pn1, pd=pd2)                      #Produces Case 9 #works\n",
    " # 5' CTAGCCCTTATGACCCTGACACGCTCGGT---- 3'\n",
    " # 3' GATCGGGAATACTGGGACTGTGCGAGCCAGATC 5'"
   ]
  },
  {
   "cell_type": "code",
   "execution_count": 1976,
   "id": "3c8b7b77-d1e2-47d8-a5cf-f7375edeecda",
   "metadata": {},
   "outputs": [],
   "source": [
    "def anneal_oligos_object(fw_primer,  #QUEEN object\n",
    "                         rv_primer,  #QUEEN object\n",
    "                         pn,         #str\n",
    "                         pd          #str\n",
    "                        ):\n",
    "    \"\"\"\n",
    "    Given Fw and Rv primers, creates a new fragment through ssDNA annealing of the two primers to each other.\n",
    "    *Requirement: Primers must anneal with at least 18 bp of binding.\n",
    "    Leaves overhangs on either, neither, or both sides depending on the design of the two oligos.\n",
    "    User may specify a process name (pn) and process description (pd) as strings.\n",
    "    Returns the QUEEN object with name \" \". Also provides length and the object's topology (linear in this case).\n",
    "    \"\"\"\n",
    "    #\n",
    "    # To build dsDNAs from two ssDNA oligos annealing (but not extending), we must consider the nine possible combinations of oligos:\n",
    "    #\n",
    "    #               Case 1           Case 2                           Case 3                           Case 4                           Case 5\n",
    "    # Fw primer:    5'-anneal-3'     5'-overhang-anneal-overhang-3'   5'----------anneal----------3'   5'-overhang-anneal----------3'   5'----------anneal-overhang-3'\n",
    "    # Rv primer:    3'-anneal-5'     3'----------anneal----------5'   3'-overhang-anneal-overhang-5'   3'----------anneal-overhang-5'   3'-overhang-anneal----------5'\n",
    "    #                  Frag.1            Frag.2          Frag.3           Frag.4          Frag.5   \n",
    "    #\n",
    "    #                                Case 6                           Case 7                           Case 8                           Case 9\n",
    "    # Fw primer:                     5'-overhang-anneal-3'            5'----------anneal-3'            5'-anneal-overhang-3'            5'-anneal----------3'\n",
    "    # Rv primer:                     3'----------anneal-5'            3'-overhang-anneal-5'            3'-anneal----------5'            3'-anneal-overhang-5'\n",
    "    #\n",
    "    #\n",
    "    # With the information of two primer sequences we must generate 5 unique fragments that will exist or not exist depending on which IF statement is satisified.\n",
    "    # Then, we will concatenate fragments depending on the condition satisfied.\n",
    "    #\n",
    "    # Approach: Generate each fragment, then concatenate them on the ds_anneal string, and the product should be one of cases 1-9.\n",
    "    # If an annealed oligo doesn't exist, it should notify the user.\n",
    "    #\n",
    "    \n",
    "    fw_primer_str = fw_primer.seq                                            #String of Fw primer sequence\n",
    "    rv_primer_str = rv_primer.seq                                            #String of Rv primer sequence\n",
    "    \n",
    "    if fw_primer_str == rv_primer_str:                                       #Function can't run if oligos are exactly identical\n",
    "        return 'Identical ssDNAs cannot anneal. Please revise your entry.'\n",
    "    elif len(fw_primer_str) < 18:                                            #Function can't run if oligos have <18 bp annealing.\n",
    "        return 'Oligos could not anneal because at least one is too short. Please revise your entry.'\n",
    "    elif len(rv_primer_str) < 18:                                            #Function can't run if oligos have <18 bp annealing.\n",
    "        return 'Oligos could not anneal because at least one is too short. Please revise your entry.'\n",
    "    else:\n",
    "        pass\n",
    "    \n",
    "    fw_overhang_list = []                                                    #Empty list for Fw overhang(s)\n",
    "    rv_overhang_list = []                                                    #Empty list for Rv overhang(s)\n",
    "    fw_fragment_list = []                                                    #Empty list for Fw overhang fragment(s)\n",
    "    rv_fragment_list = []                                                    #Empty list for Fw overhang fragment(s)\n",
    "    \n",
    "    #Generate Frag.1\n",
    "    anneal = find_primer_binding_primer_str(fw_primer, rv_primer)            #Finds the annealing site between the two primers\n",
    "    if fw_primer_str.__contains__(anneal) == True:\n",
    "        ds_anneal = generate_dsdna(anneal)                                   #Generates the double-stranded sequence of the binding sites of the two primers upon annealing\n",
    "    elif fw_primer_str.__contains__(anneal) == False:                        #Error for Case 5 occurs here because the 3' end of the Rv primer doesn't anneal\n",
    "        ds_anneal = generate_dsdna(flipdna(anneal))                          #Generates the double-stranded sequence of the binding sites of the two primers upon annealing\n",
    "    \n",
    "    \n",
    "    #Generate Frag.2 and Frag.3\n",
    "    overhangs_fw_primer = primer_overhangs(fw_primer, anneal)\n",
    "    five_fw = five_prime_overhang(overhangs_fw_primer)                       #Provides the 5' overhang of the Fw primer (if any)\n",
    "    fw_overhang_list.append(five_fw)\n",
    "    three_fw = three_prime_overhang(overhangs_fw_primer)                     #Provides the 3' overhang of the Fw primer (if any)\n",
    "    fw_overhang_list.append(three_fw)\n",
    "    \n",
    "    #Position 0 of fw_fragment_list will correspond to Frag.2\n",
    "    #Position 1 of fw_fragment_list will correspond to Frag.3\n",
    "    i=0\n",
    "    while i < 2:\n",
    "        if fw_overhang_list[i] != '':\n",
    "            fragment = QUEEN(seq=fw_overhang_list[i] + '/' + ('-' * len(fw_overhang_list[i])))\n",
    "            fw_fragment_list.append(fragment)\n",
    "        elif fw_overhang_list[i] == '':\n",
    "            fw_fragment_list.append('No overhang')\n",
    "        elif i == 2:\n",
    "            break\n",
    "        i = i+1\n",
    "    \n",
    "    \n",
    "    #Generate Frag.4 and Frag.5\n",
    "    overhangs_rv_primer = primer_overhangs(rv_primer, anneal)\n",
    "    five_rv = five_prime_overhang(overhangs_rv_primer)                       #Provides the 5' overhang of the Rv primer (if any)\n",
    "    rv_overhang_list.append(five_rv)\n",
    "    three_rv = three_prime_overhang(overhangs_rv_primer)                     #Provides the 3' overhang of the Rv primer (if any)\n",
    "    rv_overhang_list.append(three_rv)\n",
    "    \n",
    "    #Position 0 of rv_fragment_list will correspond to Frag.4\n",
    "    #Position 1 of rv_fragment_list will correspond to Frag.5\n",
    "    i=0\n",
    "    while i < 2:\n",
    "        if rv_overhang_list[i] != '':\n",
    "            fragment = QUEEN(seq=rv_overhang_list[i] + '/' + ('-' * len(rv_overhang_list[i])))\n",
    "            rv_fragment_list.append(fragment)\n",
    "        elif rv_overhang_list[i] == '':\n",
    "            rv_fragment_list.append('No overhang')\n",
    "        elif i == 2:\n",
    "            break\n",
    "        i = i+1\n",
    "\n",
    "    \n",
    "    if anneal != 'No primer binding site found.':\n",
    "        \n",
    "        if fw_fragment_list[0] != 'No overhang':    #Add upstream Fw overhang if possible\n",
    "            frag2 = QUEEN(seq=fw_fragment_list[0].seq + ds_anneal.seq[0] + '/' + '-' * len(fw_fragment_list[0].seq) + generate_complement(ds_anneal.seq[0]))\n",
    "            ds_anneal_left_trim = cropdna(ds_anneal, 1, len(ds_anneal.seq))\n",
    "            anneal_left = joindna(frag2, ds_anneal_left_trim, pn=pn, pd=pd)\n",
    "            \n",
    "        elif rv_fragment_list[1] != 'No overhang':  #Add upstream Rv overhang if possible\n",
    "            frag4 = QUEEN(seq=('-' * len(rv_fragment_list[1].seq) + ds_anneal.seq[0] + '/' + rv_fragment_list[1].seq[::-1] + generate_complement(ds_anneal.seq[0])))\n",
    "            ds_anneal_left_trim = cropdna(ds_anneal, 1, len(ds_anneal.seq))\n",
    "            anneal_left = joindna(frag4, ds_anneal_left_trim, pn=pn, pd=pd)\n",
    "            \n",
    "        else:\n",
    "            anneal_left = ds_anneal\n",
    "    \n",
    "        if fw_fragment_list[1] != 'No overhang':    #Add downstream Fw overhang if possible\n",
    "            frag3 = QUEEN(seq=ds_anneal.seq[-1] + fw_fragment_list[1].seq + '/' + generate_complement(ds_anneal.seq[-1]) + ('-' * len(fw_fragment_list[1].seq)))\n",
    "            ds_anneal_right_trim = cropdna(anneal_left, 0, (len(anneal_left.seq) - 1))\n",
    "            annealed_oligo = joindna(ds_anneal_right_trim, frag3, pn=pn, pd=pd)\n",
    "            return annealed_oligo\n",
    "            \n",
    "        elif rv_fragment_list[0] != 'No overhang':  #Add downstream Rv overhang if possible\n",
    "            frag5 = QUEEN(seq= ds_anneal.seq[-1] + ('-' * len(rv_fragment_list[0].seq)) + '/' + generate_complement(ds_anneal.seq[-1]) + rv_fragment_list[0].seq[::-1])\n",
    "            ds_anneal_right_trim = cropdna(anneal_left, 0, (len(anneal_left.seq) - 1))\n",
    "            annealed_oligo = joindna(ds_anneal_right_trim, frag5, pn=pn, pd=pd)\n",
    "            return annealed_oligo\n",
    "        \n",
    "        elif fw_fragment_list[0] != 'No overhang':\n",
    "            return anneal_left\n",
    "            \n",
    "        elif rv_fragment_list[1] != 'No overhang':\n",
    "            return anneal_left\n",
    "        \n",
    "        else:\n",
    "            annealed_oligo = ds_anneal\n",
    "            return annealed_oligo\n",
    "            \n",
    "    else:\n",
    "        'Oligos could not anneal.'\n",
    "    \n",
    "\n",
    "#Examples\n",
    "\n",
    "QUEEN(seq=\"CTAGACCGAGCGTGTCAGGGTCATAAGGGCTAG\", product=\"SI2003\") \n",
    "QUEEN(seq=\"ACCGAGCGTGTCAGGGTCATAAGGG\", product=\"SI2003truncated\") \n",
    "QUEEN(seq=\"CTAGACCGAGCGTGTCAGGGTCATAAGGG\", product = \"SI2003shortright\")\n",
    "QUEEN(seq=\"ACCGAGCGTGTCAGGGTCATAAGGGCTAG\", product=\"SI2003shortleft\")  \n",
    "QUEEN(seq=\"CCCTTATGACCCTGACACGCTCGGT\", product=\"SI2004\")\n",
    "QUEEN(seq=\"CCCTTATGACCCTGACACGCTCGGTCTAG\", product=\"SI2004longright\")\n",
    "QUEEN(seq=\"CTAGCCCTTATGACCCTGACACGCTCGGT\", product=\"SI2004longleft\")\n",
    "QUEEN(seq=\"ACACGCTCGGT\", product=\"SI2004cantanneal\")\n",
    "pn1='test'\n",
    "pn2='test2'\n",
    "pd1='test3'\n",
    "pd2='test4'\n",
    "\n",
    "#anneal_oligos_object(SI2003, SI2003, pn=pn1, pd=pd2)            #Produces 'Identical ssDNAs cannot anneal. Please revise your entry.' #works\n",
    "#anneal_oligos_object(SI2003, SI2004cantanneal, pn=pn1, pd=pd2)  #Produces 'Oligos could not anneal because at least one is too short. Please revise your entry.' #works\n",
    "#anneal_oligos_object(SI2004cantanneal, SI2003, pn=pn1, pd=pd2)  #Produces 'Oligos could not anneal because at least one is too short. Please revise your entry.' #works\n",
    "\n",
    "#anneal_oligos_object(SI2003truncated, SI2004, pn=pn1, pd=pd2)                     #Produces Case 1 #works\n",
    " # 5' ACCGAGCGTGTCAGGGTCATAAGGG 3'\n",
    " # 3' TGGCTCGCACAGTCCCAGTATTCCC 5'\n",
    "\n",
    "#anneal_oligos_object(SI2004, SI2003truncated, pn=pn1, pd=pd2)                     #Produces Case 1 but treats SI2004 as sense strand #works\n",
    " # 5' CCCTTATGACCCTGACACGCTCGGT 3'\n",
    " # 3' GGGAATACTGGGACTGTGCGAGCCA 5'\n",
    "\n",
    "#anneal_oligos_object(SI2003, SI2004, pn=pn1, pd=pd2)                              #Produces Case 2 #works\n",
    " # 5' CTAGACCGAGCGTGTCAGGGTCATAAGGGCTAG 3'\n",
    " # 3' ----TGGCTCGCACAGTCCCAGTATTCCC---- 5'\n",
    "\n",
    "#anneal_oligos_object(SI2004, SI2003, pn=pn1, pd=pd2)                              #Produces Case 3 #works\n",
    " # 5' ----CCCTTATGACCCTGACACGCTCGGT---- 3'\n",
    " # 3' GATCGGGAATACTGGGACTGTGCGAGCCAGATC 5'\n",
    "\n",
    "#anneal_oligos_object(SI2003shortright, SI2004longleft, pn=pn1, pd=pd2)            #Produces Case 4 #works\n",
    " # 5' CTAGACCGAGCGTGTCAGGGTCATAAGGG---- 3'\n",
    " # 3' ----TGGCTCGCACAGTCCCAGTATTCCCGATC 5'\n",
    "\n",
    "#anneal_oligos_object(SI2003shortleft, SI2004longright, pn=pn1, pd=pd2)            #Produces Case 5 #makes error because 3' end of Rv primer doesn't anneal\n",
    " # 5' ----ACCGAGCGTGTCAGGGTCATAAGGGCTAG 3'\n",
    " # 3' GATCTGGCTCGCACAGTCCCAGTATTCCC---- 5'\n",
    "\n",
    "#anneal_oligos_object(SI2003, SI2004longleft, pn=pn1, pd=pd2)                      #Produces Case 6 #works\n",
    " # 5' CTAGACCGAGCGTGTCAGGGTCATAAGGGCTAG 3'\n",
    " # 3' ----TGGCTCGCACAGTCCCAGTATTCCCGATC 5'\n",
    "\n",
    "#anneal_oligos_object(SI2004longright, SI2003, pn=pn1, pd=pd2)                     #Produces Case 7 #works\n",
    " # 5' ----CCCTTATGACCCTGACACGCTCGGTCTAG 3'\n",
    " # 3' GATCGGGAATACTGGGACTGTGCGAGCCAGATC 5'\n",
    "\n",
    "#anneal_oligos_object(SI2003, SI2004longright, pn=pn1, pd=pd2)                     #Produces Case 8 #works\n",
    " # 5' CTAGACCGAGCGTGTCAGGGTCATAAGGGCTAG 3'\n",
    " # 3' GATCTGGCTCGCACAGTCCCAGTATTCCC---- 5'\n",
    "\n",
    "#anneal_oligos_object(SI2004longleft, SI2003, pn=pn1, pd=pd2)                      #Produces Case 9 #works\n",
    " # 5' CTAGCCCTTATGACCCTGACACGCTCGGT---- 3'\n",
    " # 3' GATCGGGAATACTGGGACTGTGCGAGCCAGATC 5'"
   ]
  },
  {
   "cell_type": "code",
   "execution_count": 1977,
   "id": "376f843a-b247-4a7e-8ecf-0c692e3cb626",
   "metadata": {},
   "outputs": [],
   "source": [
    "def anneal_oligos_object_short(fw_primer,  #QUEEN object\n",
    "                               rv_primer,  #QUEEN object\n",
    "                               pn,         #str\n",
    "                               pd          #str\n",
    "                              ):\n",
    "    \"\"\"\n",
    "    Given Fw and Rv primers, creates a new fragment through ssDNA annealing of the two primers to each other.\n",
    "    *Requirement: Primers must anneal with at least 15 bp of binding.\n",
    "    Leaves overhangs on either, neither, or both sides depending on the design of the two oligos.\n",
    "    User may specify a process name (pn) and process description (pd) as strings.\n",
    "    Returns the QUEEN object with name \" \". Also provides length and the object's topology (linear in this case).\n",
    "    \"\"\"\n",
    "    #\n",
    "    # To build dsDNAs from two ssDNA oligos annealing (but not extending), we must consider the nine possible combinations of oligos:\n",
    "    #\n",
    "    #               Case 1           Case 2                           Case 3                           Case 4                           Case 5\n",
    "    # Fw primer:    5'-anneal-3'     5'-overhang-anneal-overhang-3'   5'----------anneal----------3'   5'-overhang-anneal----------3'   5'----------anneal-overhang-3'\n",
    "    # Rv primer:    3'-anneal-5'     3'----------anneal----------5'   3'-overhang-anneal-overhang-5'   3'----------anneal-overhang-5'   3'-overhang-anneal----------5'\n",
    "    #                  Frag.1            Frag.2          Frag.3           Frag.4          Frag.5   \n",
    "    #\n",
    "    #                                Case 6                           Case 7                           Case 8                           Case 9\n",
    "    # Fw primer:                     5'-overhang-anneal-3'            5'----------anneal-3'            5'-anneal-overhang-3'            5'-anneal----------3'\n",
    "    # Rv primer:                     3'----------anneal-5'            3'-overhang-anneal-5'            3'-anneal----------5'            3'-anneal-overhang-5'\n",
    "    #\n",
    "    #\n",
    "    # With the information of two primer sequences we must generate 5 unique fragments that will exist or not exist depending on which IF statement is satisified.\n",
    "    # Then, we will concatenate fragments depending on the condition satisfied.\n",
    "    #\n",
    "    # Approach: Generate each fragment, then concatenate them on the ds_anneal string, and the product should be one of cases 1-9.\n",
    "    # If an annealed oligo doesn't exist, it should notify the user.\n",
    "    #\n",
    "    \n",
    "    fw_primer_str = fw_primer.seq                                            #String of Fw primer sequence\n",
    "    rv_primer_str = rv_primer.seq                                            #String of Rv primer sequence\n",
    "    \n",
    "    if fw_primer_str == rv_primer_str:                                       #Function can't run if oligos are exactly identical\n",
    "        return 'Identical ssDNAs cannot anneal. Please revise your entry.'\n",
    "    elif len(fw_primer_str) < 15:                                            #Function can't run if oligos have <15 bp annealing.\n",
    "        return 'Oligos could not anneal because at least one is too short. Please revise your entry.'\n",
    "    elif len(rv_primer_str) < 15:                                            #Function can't run if oligos have <15 bp annealing.\n",
    "        return 'Oligos could not anneal because at least one is too short. Please revise your entry.'\n",
    "    else:\n",
    "        pass\n",
    "    \n",
    "    fw_overhang_list = []                                                    #Empty list for Fw overhang(s)\n",
    "    rv_overhang_list = []                                                    #Empty list for Rv overhang(s)\n",
    "    fw_fragment_list = []                                                    #Empty list for Fw overhang fragment(s)\n",
    "    rv_fragment_list = []                                                    #Empty list for Fw overhang fragment(s)\n",
    "    \n",
    "    #Generate Frag.1\n",
    "    anneal = find_primer_binding_primer_str_short(fw_primer, rv_primer)            #Finds the annealing site between the two primers\n",
    "    if fw_primer_str.__contains__(anneal) == True:\n",
    "        ds_anneal = generate_dsdna(anneal)                                   #Generates the double-stranded sequence of the binding sites of the two primers upon annealing\n",
    "    elif fw_primer_str.__contains__(anneal) == False:                        #Error for Case 5 occurs here because the 3' end of the Rv primer doesn't anneal\n",
    "        ds_anneal = generate_dsdna(flipdna(anneal))                          #Generates the double-stranded sequence of the binding sites of the two primers upon annealing\n",
    "    \n",
    "    \n",
    "    #Generate Frag.2 and Frag.3\n",
    "    overhangs_fw_primer = primer_overhangs(fw_primer, anneal)\n",
    "    five_fw = five_prime_overhang(overhangs_fw_primer)                       #Provides the 5' overhang of the Fw primer (if any)\n",
    "    fw_overhang_list.append(five_fw)\n",
    "    three_fw = three_prime_overhang(overhangs_fw_primer)                     #Provides the 3' overhang of the Fw primer (if any)\n",
    "    fw_overhang_list.append(three_fw)\n",
    "    \n",
    "    #Position 0 of fw_fragment_list will correspond to Frag.2\n",
    "    #Position 1 of fw_fragment_list will correspond to Frag.3\n",
    "    i=0\n",
    "    while i < 2:\n",
    "        if fw_overhang_list[i] != '':\n",
    "            fragment = QUEEN(seq=fw_overhang_list[i] + '/' + ('-' * len(fw_overhang_list[i])))\n",
    "            fw_fragment_list.append(fragment)\n",
    "        elif fw_overhang_list[i] == '':\n",
    "            fw_fragment_list.append('No overhang')\n",
    "        elif i == 2:\n",
    "            break\n",
    "        i = i+1\n",
    "    \n",
    "    \n",
    "    #Generate Frag.4 and Frag.5\n",
    "    overhangs_rv_primer = primer_overhangs(rv_primer, anneal)\n",
    "    five_rv = five_prime_overhang(overhangs_rv_primer)                       #Provides the 5' overhang of the Rv primer (if any)\n",
    "    rv_overhang_list.append(five_rv)\n",
    "    three_rv = three_prime_overhang(overhangs_rv_primer)                     #Provides the 3' overhang of the Rv primer (if any)\n",
    "    rv_overhang_list.append(three_rv)\n",
    "    \n",
    "    #Position 0 of rv_fragment_list will correspond to Frag.4\n",
    "    #Position 1 of rv_fragment_list will correspond to Frag.5\n",
    "    i=0\n",
    "    while i < 2:\n",
    "        if rv_overhang_list[i] != '':\n",
    "            fragment = QUEEN(seq=rv_overhang_list[i] + '/' + ('-' * len(rv_overhang_list[i])))\n",
    "            rv_fragment_list.append(fragment)\n",
    "        elif rv_overhang_list[i] == '':\n",
    "            rv_fragment_list.append('No overhang')\n",
    "        elif i == 2:\n",
    "            break\n",
    "        i = i+1\n",
    "\n",
    "    \n",
    "    if anneal != 'No primer binding site found.':\n",
    "        \n",
    "        if fw_fragment_list[0] != 'No overhang':    #Add upstream Fw overhang if possible\n",
    "            frag2 = QUEEN(seq=fw_fragment_list[0].seq + ds_anneal.seq[0] + '/' + '-' * len(fw_fragment_list[0].seq) + generate_complement(ds_anneal.seq[0]))\n",
    "            ds_anneal_left_trim = cropdna(ds_anneal, 1, len(ds_anneal.seq))\n",
    "            anneal_left = joindna(frag2, ds_anneal_left_trim, pn=pn, pd=pd)\n",
    "            \n",
    "        elif rv_fragment_list[1] != 'No overhang':  #Add upstream Rv overhang if possible\n",
    "            frag4 = QUEEN(seq=('-' * len(rv_fragment_list[1].seq) + ds_anneal.seq[0] + '/' + rv_fragment_list[1].seq[::-1] + generate_complement(ds_anneal.seq[0])))\n",
    "            ds_anneal_left_trim = cropdna(ds_anneal, 1, len(ds_anneal.seq))\n",
    "            anneal_left = joindna(frag4, ds_anneal_left_trim, pn=pn, pd=pd)\n",
    "            \n",
    "        else:\n",
    "            anneal_left = ds_anneal\n",
    "    \n",
    "        if fw_fragment_list[1] != 'No overhang':    #Add downstream Fw overhang if possible\n",
    "            frag3 = QUEEN(seq=ds_anneal.seq[-1] + fw_fragment_list[1].seq + '/' + generate_complement(ds_anneal.seq[-1]) + ('-' * len(fw_fragment_list[1].seq)))\n",
    "            ds_anneal_right_trim = cropdna(anneal_left, 0, (len(anneal_left.seq) - 1))\n",
    "            annealed_oligo = joindna(ds_anneal_right_trim, frag3, pn=pn, pd=pd)\n",
    "            return annealed_oligo\n",
    "            \n",
    "        elif rv_fragment_list[0] != 'No overhang':  #Add downstream Rv overhang if possible\n",
    "            frag5 = QUEEN(seq= ds_anneal.seq[-1] + ('-' * len(rv_fragment_list[0].seq)) + '/' + generate_complement(ds_anneal.seq[-1]) + rv_fragment_list[0].seq[::-1])\n",
    "            ds_anneal_right_trim = cropdna(anneal_left, 0, (len(anneal_left.seq) - 1))\n",
    "            annealed_oligo = joindna(ds_anneal_right_trim, frag5, pn=pn, pd=pd)\n",
    "            return annealed_oligo\n",
    "        \n",
    "        elif fw_fragment_list[0] != 'No overhang':\n",
    "            return anneal_left\n",
    "            \n",
    "        elif rv_fragment_list[1] != 'No overhang':\n",
    "            return anneal_left\n",
    "        \n",
    "        else:\n",
    "            annealed_oligo = ds_anneal\n",
    "            return annealed_oligo\n",
    "            \n",
    "    else:\n",
    "        'Oligos could not anneal.'\n",
    "    \n",
    "\n",
    "#Examples\n",
    "\n",
    "QUEEN(seq=\"CTAGACCGAGCGTGTCAGGGTCATAAGGGCTAG\", product=\"SI2003\") \n",
    "QUEEN(seq=\"ACCGAGCGTGTCAGGGTCATAAGGG\", product=\"SI2003truncated\") \n",
    "QUEEN(seq=\"CTAGACCGAGCGTGTCAGGGTCATAAGGG\", product = \"SI2003shortright\")\n",
    "QUEEN(seq=\"ACCGAGCGTGTCAGGGTCATAAGGGCTAG\", product=\"SI2003shortleft\")  \n",
    "QUEEN(seq=\"CCCTTATGACCCTGACACGCTCGGT\", product=\"SI2004\")\n",
    "QUEEN(seq=\"CCCTTATGACCCTGACACGCTCGGTCTAG\", product=\"SI2004longright\")\n",
    "QUEEN(seq=\"CTAGCCCTTATGACCCTGACACGCTCGGT\", product=\"SI2004longleft\")\n",
    "QUEEN(seq=\"ACACGCTCGGT\", product=\"SI2004cantanneal\")\n",
    "pn1='test'\n",
    "pn2='test2'\n",
    "pd1='test3'\n",
    "pd2='test4'\n",
    "\n",
    "#anneal_oligos_object_short(SI2003, SI2003, pn=pn1, pd=pd2)            #Produces 'Identical ssDNAs cannot anneal. Please revise your entry.' #works\n",
    "#anneal_oligos_object_short(SI2003, SI2004cantanneal, pn=pn1, pd=pd2)  #Produces 'Oligos could not anneal because at least one is too short. Please revise your entry.' #works\n",
    "#anneal_oligos_object_short(SI2004cantanneal, SI2003, pn=pn1, pd=pd2)  #Produces 'Oligos could not anneal because at least one is too short. Please revise your entry.' #works\n",
    "\n",
    "#anneal_oligos_object_short(SI2003truncated, SI2004, pn=pn1, pd=pd2)                     #Produces Case 1 #works\n",
    " # 5' ACCGAGCGTGTCAGGGTCATAAGGG 3'\n",
    " # 3' TGGCTCGCACAGTCCCAGTATTCCC 5'\n",
    "\n",
    "#anneal_oligos_object_short(SI2004, SI2003truncated, pn=pn1, pd=pd2)                     #Produces Case 1 but treats SI2004 as sense strand #works\n",
    " # 5' CCCTTATGACCCTGACACGCTCGGT 3'\n",
    " # 3' GGGAATACTGGGACTGTGCGAGCCA 5'\n",
    "\n",
    "#anneal_oligos_object_short(SI2003, SI2004, pn=pn1, pd=pd2)                              #Produces Case 2 #works\n",
    " # 5' CTAGACCGAGCGTGTCAGGGTCATAAGGGCTAG 3'\n",
    " # 3' ----TGGCTCGCACAGTCCCAGTATTCCC---- 5'\n",
    "\n",
    "#anneal_oligos_object_short(SI2004, SI2003, pn=pn1, pd=pd2)                              #Produces Case 3 #works\n",
    " # 5' ----CCCTTATGACCCTGACACGCTCGGT---- 3'\n",
    " # 3' GATCGGGAATACTGGGACTGTGCGAGCCAGATC 5'\n",
    "\n",
    "#anneal_oligos_object_short(SI2003shortright, SI2004longleft, pn=pn1, pd=pd2)            #Produces Case 4 #works\n",
    " # 5' CTAGACCGAGCGTGTCAGGGTCATAAGGG---- 3'\n",
    " # 3' ----TGGCTCGCACAGTCCCAGTATTCCCGATC 5'\n",
    "\n",
    "#anneal_oligos_object_short(SI2003shortleft, SI2004longright, pn=pn1, pd=pd2)            #Produces Case 5 #makes error because 3' end of Rv primer doesn't anneal\n",
    " # 5' ----ACCGAGCGTGTCAGGGTCATAAGGGCTAG 3'\n",
    " # 3' GATCTGGCTCGCACAGTCCCAGTATTCCC---- 5'\n",
    "\n",
    "#anneal_oligos_object_short(SI2003, SI2004longleft, pn=pn1, pd=pd2)                      #Produces Case 6 #works\n",
    " # 5' CTAGACCGAGCGTGTCAGGGTCATAAGGGCTAG 3'\n",
    " # 3' ----TGGCTCGCACAGTCCCAGTATTCCCGATC 5'\n",
    "\n",
    "#anneal_oligos_object_short(SI2004longright, SI2003, pn=pn1, pd=pd2)                     #Produces Case 7 #works\n",
    " # 5' ----CCCTTATGACCCTGACACGCTCGGTCTAG 3'\n",
    " # 3' GATCGGGAATACTGGGACTGTGCGAGCCAGATC 5'\n",
    "\n",
    "#anneal_oligos_object_short(SI2003, SI2004longright, pn=pn1, pd=pd2)                     #Produces Case 8 #works\n",
    " # 5' CTAGACCGAGCGTGTCAGGGTCATAAGGGCTAG 3'\n",
    " # 3' GATCTGGCTCGCACAGTCCCAGTATTCCC---- 5'\n",
    "\n",
    "#anneal_oligos_object_short(SI2004longleft, SI2003, pn=pn1, pd=pd2)                      #Produces Case 9 #works\n",
    " # 5' CTAGCCCTTATGACCCTGACACGCTCGGT---- 3'\n",
    " # 3' GATCGGGAATACTGGGACTGTGCGAGCCAGATC 5'"
   ]
  },
  {
   "cell_type": "code",
   "execution_count": 2241,
   "id": "48935158-af6e-472f-99cb-688ba0831305",
   "metadata": {},
   "outputs": [
    {
     "data": {
      "text/plain": [
       "<queen.QUEEN object; project='test_plasmid_6', length='9842 bp', topology='circular'>"
      ]
     },
     "execution_count": 2241,
     "metadata": {},
     "output_type": "execute_result"
    }
   ],
   "source": [
    "def gibson_assembly(frag1,         #QUEEN object\n",
    "                    frag2,         #QUEEN object\n",
    "                    assembly_name, #str\n",
    "                    pn,            #str\n",
    "                    pd             #str\n",
    "                   ):\n",
    "    \"\"\"\n",
    "    Given two fragments with overlapping 5' and 3' ends, searches the two fragments for their overlapping sequences,\n",
    "    modifies them by 'digesting' the 5' ends of the overlapping regions (removes the overlapping regions from the larger fragment using modifyends)\n",
    "    and ligates (using joindna) the modified products to form a single product.\n",
    "    Returns the product as a circular QUEEN object.\n",
    "    \"\"\"\n",
    "    \n",
    "    #\n",
    "    # The input fragments by nature should be double-stranded, so the function will operate on the Fw strands of the fragments when executing.\n",
    "    #\n",
    "    # Approach:\n",
    "    # 1. With the two input fragments, use the smaller fragment (query) to search on the larger fragment (template). The query is likely the insert and the template is likely the backbone.\n",
    "    #    Distinguish the smaller fragment from the larger fragment.\n",
    "    # 2. Use the find_similar_sequence function to first search the 5' end of the query for its overlapping region with the template.\n",
    "    #    Then, use find_similar_sequence to search the 3' end of the query for its overlapping region with the template.\n",
    "    # 3. Remove the 5' overlap from the 3' end of the template and the 3' overlap from the 5' end of the template\n",
    "    # 4. Use joindna to piece together the fragments into a circular QUEEN object (plasmid)\n",
    "    #\n",
    "    \n",
    "    #Make the smaller fragment 'fragment1' and the larger fragment 'fragment2'. This gives the user flexibility to enter fragments in any order when calling the function.\n",
    "    fragment1 = []\n",
    "    fragment2 = []\n",
    "    if len(frag1.seq) < len(frag2.seq):\n",
    "        fragment1 = frag1\n",
    "        fragment2 = frag2\n",
    "    elif len(frag1.seq) > len(frag2.seq):\n",
    "        fragment1 = frag2\n",
    "        fragment2 = frag1\n",
    "    else:\n",
    "        pass #doesn't matter which is first or second if they are equal size\n",
    "        \n",
    "    #Generate the five_prime_overlap sequence and length   \n",
    "    i = 1\n",
    "    five_prime_overlap = []\n",
    "    five_prime_overlap_len = []\n",
    "    \n",
    "    while i < 100: #arbitrary limit for i\n",
    "        if find_similar_sequence(fragment1.seq[:i], fragment2.seq, max_mismatches=0) != '':\n",
    "            five_prime_overlap = find_similar_sequence(fragment1.seq[:i], fragment2.seq, max_mismatches=0)\n",
    "            five_prime_overlap_len = i\n",
    "        else:\n",
    "            break\n",
    "        i = i+1\n",
    "    \n",
    "    #Generate the three_prime_overlap sequence and length   \n",
    "    i = 1\n",
    "    three_prime_overlap = []\n",
    "    three_prime_overlap_len = []\n",
    "    \n",
    "    while i < 100: #arbitrary limit for i\n",
    "        if find_similar_sequence(fragment1.seq[-i:], fragment2.seq, max_mismatches=0) != '':\n",
    "            three_prime_overlap = find_similar_sequence(fragment1.seq[-i:], fragment2.seq, max_mismatches=0)\n",
    "            three_prime_overlap_len = i\n",
    "        else:\n",
    "            break\n",
    "        i = i+1\n",
    "    \n",
    "    #Remove overlap\n",
    "    five_prime_overlap_cutsite = len(fragment2.seq) - five_prime_overlap_len\n",
    "    truncated_template = cropdna(fragment2, three_prime_overlap_len, five_prime_overlap_cutsite) \n",
    "    \n",
    "    #Piece together the fragments\n",
    "    assembled_product = joindna(truncated_template, fragment1, product=assembly_name, topology=\"circular\", pn=pn, pd=pd)\n",
    "    \n",
    "    return assembled_product\n",
    "\n",
    "#Examples\n",
    "QUEEN(seq=\"TGGACGAGCTGTACAAGTAATTAATTAACTAGGTCTTGAAAGGAGTGGGAATTGGC\", product=\"SI415\") \n",
    "QUEEN(seq=\"TGAGTAAAGTTTGAAGCCATGAATTCCCTGTGTTCTGGCGGCAAACCCGTTG\", product=\"SI417\")\n",
    "#QUEEN(record=\"https://benchling.com/s/seq-KzYdG9UVFpnuTv5G3FIP\", dbtype=\"benchling\", product=\"pLV_CS_038\")\n",
    "#QUEEN(record=\"https://benchling.com/s/seq-AXIf1rdVlbb2QDPoOudT\", dbtype=\"benchling\", product=\"pLV_CS_043\")\n",
    "pn1='test'\n",
    "pn2='test2'\n",
    "pd1='test3'\n",
    "pd2='test4'\n",
    "#testinsert = create_pcr_product(pLV_CS_038, SI415, SI417, pn1, pd1)\n",
    "testbackbone = double_digest_insert(pLV_CS_043, 'EcoRI', 'PacI', pn1, pd1) #creates digested product with re1 digest at 5' end and re2 digest at 3'end\n",
    "\n",
    "#Example 1: pLV_CS_060 construction; 1 insert + 1 digested backbone\n",
    "gibson_assembly(testinsert, testbackbone, 'test_plasmid', pn1, pd1) #works! generates expected 9842 bp product with exact match to pLV_CS_060"
   ]
  },
  {
   "cell_type": "code",
   "execution_count": 2384,
   "id": "cd1c5a22-5c3d-473c-bae8-5fff3008c64f",
   "metadata": {},
   "outputs": [
    {
     "data": {
      "text/plain": [
       "<queen.QUEEN object; project='SI739_121', length='113 bp', topology='linear'>"
      ]
     },
     "execution_count": 2384,
     "metadata": {},
     "output_type": "execute_result"
    }
   ],
   "source": [
    "def stitch_fragments(frag1,  #QUEEN object\n",
    "                     frag2,  #QUEEN object\n",
    "                    ):\n",
    "    \"\"\"\n",
    "    *Fragments must be entered in the order in which they are stitched (5' to 3'). Function only works with fragments in same sense.*\n",
    "    Given two fragments with overlapping 5' and 3' ends, searches the two fragments for their overlapping region,\n",
    "    modifies them by 'digesting' the ends of the overlapping regions (removes the overlapping regions from the first fragment using modifyends)\n",
    "    and ligates (using joindna) the modified products to form a single product.\n",
    "    Returns the product as a linear QUEEN object.\n",
    "    The stitch_fragments function can be used multiple times in a row to attach several inserts together during a multi-fragment assembly.\n",
    "    \"\"\"\n",
    "    \n",
    "    #Find the overlap sequence and length at the 3' end of frag1 and the 5' end of frag2  \n",
    "    i = 1\n",
    "    overlap = []\n",
    "    overlap_len = []\n",
    "    \n",
    "    while i < 100: #arbitrary limit for i\n",
    "        if find_similar_sequence(frag1.seq[-i:], frag2.seq, max_mismatches=0) != '':\n",
    "            overlap = find_similar_sequence(frag1.seq[-i:], frag2.seq, max_mismatches=0)\n",
    "            overlap_len = i\n",
    "        else:\n",
    "            break\n",
    "        i = i+1\n",
    "    \n",
    "    #Remove overlap\n",
    "    overlap_cutsite = len(frag1.seq) - overlap_len\n",
    "    truncated_frag1 = cropdna(frag1, 0, overlap_cutsite)\n",
    "    \n",
    "    #Piece together the fragments\n",
    "    assembled_product = joindna(truncated_frag1, frag2, topology=\"linear\")\n",
    "    \n",
    "    return assembled_product\n",
    "\n",
    "#Examples\n",
    "QUEEN(seq=\"TGGACGAGCTGTACAAGTAATTAATTAACTAGGTCTTGAAAGGAGTGGGAATTGGC\", product=\"testoligo1\") \n",
    "QUEEN(seq=\"GAAAGGAGTGGGAATTGGCTGAGTAAAGTTTGAAGCCATGAATTCCCTGTGTTCTGGCGGCAAACCCGTTG\", product=\"testoligo2\")\n",
    "QUEEN(seq=\"GTCTGACAGCGTCTCTAGCCGTGAGAGCGTGTCAGTGTGTGGTGNCCGAGCGTGTCAGGGTGACCGTGGTGNCCGAGTCTGTCTCTCACAGCGTGGTGGAGACGAGCAGAGCT\", product=\"SI739\") \n",
    "QUEEN(seq=\"AGCTCTGCTCGTCTCCACCAC\", product=\"SI738\") \n",
    "pn1='test'\n",
    "pn2='test2'\n",
    "pd1='test3'\n",
    "pd2='test4'\n",
    "\n",
    "#Example 1: Stitch together testoligo1 and testoligo2, should form TGGACGAGCTGTACAAGTAATTAATTAACTAGGTCTTGAAAGGAGTGGGAATTGGCTGAGTAAAGTTTGAAGCCATGAATTCCCTGTGTTCTGGCGGCAAACCCGTTG\n",
    "stitch_fragments(testoligo1, testoligo2) #works!\n",
    "\n",
    "#Example 2: Stitch together SI739 and SI738 (SI738 encodes for the exact 3' end of SI739)\n",
    "#Expected upon amplification\n",
    "#5' GTCTGACAGCGTCTCTAGCCGTGAGAGCGTGTCAGTGTGTGGTGNCCGAGCGTGTCAGGGTGACCGTGGTGNCCGAGTCTGTCTCTCACAGCGTGGTGGAGACGAGCAGAGCT 3'\n",
    "#3' CAGACTGTCGCAGAGATCGGCACTCTCGCACAGTCACACACCACNGGCTCGCACAGTCCCACTGGCACCACNGGCTCAGACAGAGAGTGTCGCACCACCTCTGCTCGTCTCGA 5'\n",
    "stitch_fragments(SI739, flipdna(SI738)) #works! stitch_fragments works for stitching a Fw primer and Rv primer if flipdna is used"
   ]
  },
  {
   "cell_type": "code",
   "execution_count": 2348,
   "id": "31cf4256-c9a0-45a9-a646-13268e57462b",
   "metadata": {},
   "outputs": [
    {
     "data": {
      "text/plain": [
       "<queen.QUEEN object; project='SI739_115', length='113 bp', topology='linear'>"
      ]
     },
     "execution_count": 2348,
     "metadata": {},
     "output_type": "execute_result"
    }
   ],
   "source": [
    "def template_free_pcr(fw_primer,  #QUEEN object\n",
    "                      rv_primer,  #QUEEN object\n",
    "                      pn,         #str\n",
    "                      pd          #str\n",
    "                     ):\n",
    "    \"\"\"\n",
    "    *Primers should be entered in the order in which they are desired (5' to 3').*\n",
    "    Given two PCR primers that can anneal to each other (no minimum annealing length required), searches the two fragments for their overlapping region,\n",
    "    modifies them by removing the overlapping regions from the first fragment using modifyends,\n",
    "    and ligates (using joindna) the modified products to form a single product.\n",
    "    Returns the product as a linear QUEEN object.\n",
    "    \"\"\"\n",
    "    \n",
    "    rv_primer_rc = flipdna(rv_primer) #Need to operate on reverse complement of rv_primer to produce PCR product with correct orientation\n",
    "    \n",
    "    #Find the overlap sequence and length at the 3' end of fw_primer and the 5' end of rv_primer_rc  \n",
    "    i = 1\n",
    "    overlap = []\n",
    "    overlap_len = []\n",
    "    \n",
    "    while i < 100: #arbitrary limit for i\n",
    "        if find_similar_sequence(fw_primer.seq[-i:], rv_primer_rc.seq, max_mismatches=0) != '':\n",
    "            overlap = find_similar_sequence(fw_primer.seq[-i:], rv_primer_rc.seq, max_mismatches=0)\n",
    "            overlap_len = i\n",
    "        else:\n",
    "            break\n",
    "        i = i+1\n",
    "    \n",
    "    overlap_cutoff = len(fw_primer.seq) - overlap_len\n",
    "    truncated_fw_primer = cropdna(fw_primer, 0, overlap_cutoff) \n",
    "    assembled_product = joindna(truncated_fw_primer, rv_primer_rc, topology=\"linear\", pn=pn, pd=pd)\n",
    "    \n",
    "    return assembled_product\n",
    "\n",
    "#Examples\n",
    "QUEEN(seq=\"GACCTCCATAGAAGACACCGATGAATGCATGTCATGTAATGCTATGAGAGGATCTATGATTTCCGGTGAATTCATGC\", product=\"SI1086\") \n",
    "QUEEN(seq=\"GCTCCTCGCCCTTGCTCACACTTTCGGGTGTGGCGGACTCTGAGGTCCCGGGAGTCTCGCTGCCGCTTCCATATGACCCTGACACTTACGGCATGAATTCACCGG\", product=\"SI1087\")\n",
    "QUEEN(seq=\"GCTCCTCGCCCTTGCTCACACTTTCGGGTGTGGCGGACTCTGAGGTCCCGGGAGTCTCGCTGCCGCTTCCATATGACCCTGATTAGCTCGGCATGAATTCACCGG\", product=\"SI1089\")\n",
    "QUEEN(seq=\"GTCTGACAGCGTCTCTAGCCGTGAGAGCGTGTCAGTGTGTGGTGNCCGAGCGTGTCAGGGTGACCGTGGTGNCCGAGTCTGTCTCTCACAGCGTGGTGGAGACGAGCAGAGCT\", product=\"SI739\") \n",
    "QUEEN(seq=\"AGCTCTGCTCGTCTCCACCAC\", product=\"SI738\") \n",
    "pn1='test'\n",
    "pd1='test3'\n",
    "\n",
    "#Example 1: Template-free PCR of SI1086 and SI1087, should form \n",
    "# 5'-GACCTCCATAGAAGACACCGATGAATGCATGTCATGTAATGCTATGAGAGGATCTATGATTTCCGGTGAATTCATGCCGTAAGTGTCAGGGTCATATGGAAGCGGCAGCGAGACTCCCGGGACCTCAGAGTCCGCCACACCCGAAAGTGTGAGCAAGGGCGAGGAGC-3'\n",
    "# 3'-CTGGAGGTATCTTCTGTGGCTACTTACGTACAGTACATTACGATACTCTCCTAGATACTAAAGGCCACTTAAGTACGGCATTCACAGTCCCAGTATACCTTCGCCGTCGCTCTGAGGGCCCTGGAGTCTCAGGCGGTGTGGGCTTTCACACTCGTTCCCGCTCCTCG-5'\n",
    "template_free_pcr(SI1086, SI1087, pn1, pd1) #works!\n",
    "\n",
    "#Example 2: Template-free PCR of SI1086 and SI1089, should form \n",
    "# 5'-GACCTCCATAGAAGACACCGATGAATGCATGTCATGTAATGCTATGAGAGGATCTATGATTTCCGGTGAATTCATGCCGAGCTAATCAGGGTCATATGGAAGCGGCAGCGAGACTCCCGGGACCTCAGAGTCCGCCACACCCGAAAGTGTGAGCAAGGGCGAGGAGC-3'\n",
    "# 3'-CTGGAGGTATCTTCTGTGGCTACTTACGTACAGTACATTACGATACTCTCCTAGATACTAAAGGCCACTTAAGTACGGCTCGATTAGTCCCAGTATACCTTCGCCGTCGCTCTGAGGGCCCTGGAGTCTCAGGCGGTGTGGGCTTTCACACTCGTTCCCGCTCCTCG-5'\n",
    "template_free_pcr(SI1086, SI1089, pn1, pd1) #works!\n",
    "\n",
    "#Example 3: Template free PCR of SI739 and SI738 (SI738 encodes for the exact 3' end of SI739), should form\n",
    "#5' GTCTGACAGCGTCTCTAGCCGTGAGAGCGTGTCAGTGTGTGGTGNCCGAGCGTGTCAGGGTGACCGTGGTGNCCGAGTCTGTCTCTCACAGCGTGGTGGAGACGAGCAGAGCT 3'\n",
    "#3' CAGACTGTCGCAGAGATCGGCACTCTCGCACAGTCACACACCACNGGCTCGCACAGTCCCACTGGCACCACNGGCTCAGACAGAGAGTGTCGCACCACCTCTGCTCGTCTCGA 5'\n",
    "template_free_pcr(SI739, SI738, pn1, pd1) #works!"
   ]
  },
  {
   "cell_type": "markdown",
   "id": "a5fa35ab-fa67-4e9b-aa3c-6227d3ce4460",
   "metadata": {},
   "source": [
    "## Wrapper cloning functions"
   ]
  },
  {
   "cell_type": "code",
   "execution_count": 1981,
   "id": "a5df9aaa-07a6-417c-bc71-d0d0aa070437",
   "metadata": {
    "tags": []
   },
   "outputs": [],
   "source": [
    "def create_pcr_product(template,  #QUEEN object\n",
    "                       fw_primer, #QUEEN object\n",
    "                       rv_primer, #QUEEN object\n",
    "                       pn,        #str\n",
    "                       pd         #str\n",
    "                      ):\n",
    "    \"\"\"\n",
    "    Given a template sequence for PCR, and the Fw and Rv primers for amplifying a fragment, creates the new fragment using primer binding sites and primer overhangs.\n",
    "    User may specify a process name (pn) and process description (pd) as strings.\n",
    "    Returns the modifyends object with an object named \"PCR_product\". Also provides length and the object's topology (linear in this case).\n",
    "    \"\"\"\n",
    "    FW = primer_binding_object(fw_primer, template)        #Create object for the 3’-end binding sequence of the forward primer.\n",
    "    RV = primer_binding_object(rv_primer, template)        #Create object for the 3’-end binding sequence of the reverse primer.\n",
    "    \n",
    "    cropdna(template, FW[0].end, RV[0].start, product=\"extract1\", pn=pn, pd=pd)          #Crop the internal DNA sequence flanked by the primer annealing sites.\n",
    "    \n",
    "    return modifyends(extract1, fw_primer.seq, rv_primer.rcseq, product=\"PCR_product\", pn=pn, pd=pd)    #Add Fw and Rv primer sequences to both ends of the cropped fragment."
   ]
  },
  {
   "cell_type": "code",
   "execution_count": 1982,
   "id": "3f2f9cce-22a0-4664-ae79-b7a4471f98fc",
   "metadata": {
    "tags": []
   },
   "outputs": [],
   "source": [
    "def create_pcr_product_special(template,  #QUEEN object\n",
    "                               fw_primer, #QUEEN object (shorter annealing primer if needed)\n",
    "                               rv_primer, #QUEEN object (shorter annealing primer if needed)\n",
    "                               pn,        #str\n",
    "                               pd         #str\n",
    "                              ):\n",
    "    \"\"\"\n",
    "    **Special case function for using Fw primers that are only 15 bp or longer, compatible with the primer_binding_object_short function.**\n",
    "    Given a template sequence for PCR, and the Fw and Rv primers for amplifying a fragment, creates the new fragment using primer binding sites and primer overhangs.\n",
    "    User may specify a process name (pn) and process description (pd) as strings.\n",
    "    Returns the modifyends object with an object named \"PCR_product\". Also provides length and the object's topology (linear in this case).\n",
    "    \"\"\"\n",
    "    FW = primer_binding_object_short(fw_primer, template)        #Create object for the 3’-end binding sequence of the forward primer.\n",
    "    RV = primer_binding_object_short(rv_primer, template)        #Create object for the 3’-end binding sequence of the reverse primer.\n",
    "    \n",
    "    cropdna(template, FW[0].end, RV[0].start, product=\"extract1\", pn=pn, pd=pd)          #Crop the internal DNA sequence flanked by the primer annealing sites.\n",
    "    \n",
    "    return modifyends(extract1, fw_primer.seq, rv_primer.rcseq, product=\"PCR_product\", pn=pn, pd=pd)    #Add Fw and Rv primer sequences to both ends of the cropped fragment."
   ]
  },
  {
   "cell_type": "code",
   "execution_count": 1983,
   "id": "642f807d-3c35-475c-8cd3-d56b5a51a938",
   "metadata": {},
   "outputs": [
    {
     "data": {
      "text/plain": [
       "<queen.QUEEN object; project='PCR_product_674', length='723 bp', topology='linear'>"
      ]
     },
     "execution_count": 1983,
     "metadata": {},
     "output_type": "execute_result"
    }
   ],
   "source": [
    "def create_pcr_product_mismatches(template,  #QUEEN object\n",
    "                                  fw_primer, #QUEEN object with 3 mismatches\n",
    "                                  rv_primer, #QUEEN object\n",
    "                                  pn,        #str\n",
    "                                  pd         #str\n",
    "                                 ):\n",
    "    \"\"\"\n",
    "    Given a template sequence for PCR, and the Fw and Rv primers for amplifying a fragment, creates the new fragment using primer binding sites and primer overhangs.\n",
    "    User may specify a process name (pn) and process description (pd) as strings.\n",
    "    Returns the modifyends object with an object named \"PCR_product\". Also provides length and the object's topology (linear in this case).\n",
    "    \"\"\"\n",
    "    \n",
    "    FW_str = find_similar_sequence(fw_primer.seq[-18:], template.seq, max_mismatches=3)        #Create object for the 3’-end binding sequence of the forward primer.\n",
    "    RV = primer_binding_object(rv_primer, template)                                            #Create object for the 3’-end binding sequence of the reverse primer.\n",
    "    \n",
    "    FW_queen = QUEEN(seq=FW_str)\n",
    "    FW = template.searchsequence(query=FW_queen.seq)\n",
    "    \n",
    "    cropdna(template, FW[0].end, RV[0].start, product=\"extract1\", pn=pn, pd=pd)          #Crop the internal DNA sequence flanked by the primer annealing sites.\n",
    "    \n",
    "    return modifyends(extract1, fw_primer.seq, rv_primer.rcseq, product=\"PCR_product\", pn=pn, pd=pd)    #Add Fw and Rv primer sequences to both ends of the cropped fragment.\n",
    "\n",
    "\n",
    "#Examples\n",
    "\n",
    "QUEEN(record=\"https://benchling.com/s/seq-lyizd9Ah3jyfw9GFwW9v\", dbtype=\"benchling\", product=\"pLV_mCherry\")\n",
    "\n",
    "QUEEN(seq=\"GGTGAATTCCCGAGCGTGTCAGGGTGACCGTGAGCAAGGGCGAGGAGGATAACGCTGCCATC\", product=\"SI1294\")\n",
    "QUEEN(seq=\"GGTGAATTCCCGAGCGTGTCAGGGTGACCGTGGCCATCATCAAGGAGTTCA\", product=\"SI1295\")\n",
    "QUEEN(seq=\"GGTGAATTCCCGAGCGTGTCAGGGTGACCATGAGCAAGGGCGAGGAGGATAACGCTGCCATC\", product=\"SI1297\") \n",
    "QUEEN(seq=\"AATTGGATCCTTACTTGTACAGCTCGTCCA\", product=\"SI680\")\n",
    "\n",
    "#Example 1: Fw primer contains 3 mismatches\n",
    "create_pcr_product_mismatches(pLV_mCherry, SI1294, SI680, pn=pn1, pd=pd1) #works\n",
    "\n",
    "#Example 2: Fw primer contains 0 mismatches\n",
    "create_pcr_product_mismatches(pLV_mCherry, SI1295, SI680, pn=pn1, pd=pd1) #works"
   ]
  },
  {
   "cell_type": "code",
   "execution_count": 1984,
   "id": "a4af73ae-9b6b-4201-92bd-87202c77a2fc",
   "metadata": {
    "tags": []
   },
   "outputs": [],
   "source": [
    "def double_digest_insert(dna, #QUEEN object\n",
    "                         re1, #str\n",
    "                         re2, #str\n",
    "                         pn,  #str\n",
    "                         pd   #str\n",
    "                        ):\n",
    "    \"\"\"\n",
    "    Given a QUEEN DNA sequence for a fragment/insert, finds the restriction sites and digests at the found sites.\n",
    "    User may specify a process name (pn) and process description (pd) as strings.\n",
    "    Returns the cropdna object with an object named \"digested_fragment\". Also provides length and the object's topology (linear in this case).\n",
    "    \"\"\"\n",
    "    \n",
    "    dna.searchsequence(cs.lib[re1], product=\"re1site\")                          #Search for restriction site of enzyme 1.\n",
    "    dna.searchsequence(cs.lib[re2], product=\"re2site\")                          #Search for restriction site of enzyme 2.\n",
    "    \n",
    "    return cropdna(dna, re1site[0], re2site[0], product=\"digested_insert\", pn=pn, pd=pd)      #Return the digested DNA."
   ]
  },
  {
   "cell_type": "code",
   "execution_count": 1985,
   "id": "aeaad378-6312-4a4d-b467-4a1dd64d6e97",
   "metadata": {
    "tags": []
   },
   "outputs": [],
   "source": [
    "def double_digest_backbone(dna,  #QUEEN object\n",
    "                           re1,  #str\n",
    "                           re2,  #str\n",
    "                           pn,   #str\n",
    "                           pd    #str\n",
    "                          ):\n",
    "    \"\"\"\n",
    "    Given a QUEEN DNA sequence for a backbone, finds the restriction sites and digests at the found sites.\n",
    "    User may specify a process name (pn) and process description (pd) as strings.\n",
    "    Returns the cropdna object with an object named \"digested_backbone\". Also provides length and the object's topology (linear in this case).\n",
    "    \"\"\"\n",
    "    \n",
    "    dna.searchsequence(cs.lib[re1], product=\"re1site\")                          #Search for restriction site of enzyme 1.\n",
    "    dna.searchsequence(cs.lib[re2], product=\"re2site\")                          #Search for restriction site of enzyme 2.\n",
    "\n",
    "    return cropdna(dna, re2site[0], re1site[0], product=\"digested_backbone\", pn=pn, pd=pd)    #Return the digested DNA."
   ]
  },
  {
   "cell_type": "code",
   "execution_count": 1986,
   "id": "a68f5e34-c31d-4ffe-b586-0c3bfad38a75",
   "metadata": {},
   "outputs": [
    {
     "name": "stdout",
     "output_type": "stream",
     "text": [
      "5' AGCCGTGAGAGCGTGTCAGTGTGTGGTGNCCGAGCGTGTCAGGGTGACCGTGGTGNCCGAGTCTGTCTCTCACAGCG---- 3'\n",
      "3' ----CACTCTCGCACAGTCACACACCACNGGCTCGCACAGTCCCACTGGCACCACNGGCTCAGACAGAGAGTGTCGCACCA 5'\n",
      "\n"
     ]
    },
    {
     "data": {
      "text/plain": [
       "'AGCCGTGAGAGCGTGTCAGTGTGTGGTGNCCGAGCGTGTCAGGGTGACCGTGGTGNCCGAGTCTGTCTCTCACAGCG----/----CACTCTCGCACAGTCACACACCACNGGCTCGCACAGTCCCACTGGCACCACNGGCTCAGACAGAGAGTGTCGCACCA'"
      ]
     },
     "execution_count": 1986,
     "metadata": {},
     "output_type": "execute_result"
    }
   ],
   "source": [
    "def typeIIS_digest_insert(dna,  #QUEEN object\n",
    "                          re,   #str\n",
    "                          pn,   #str\n",
    "                          pd    #str\n",
    "                         ):\n",
    "    \"\"\"\n",
    "    Given a QUEEN DNA sequence for an insert fragment, finds the Type II-S restriction site(s) and digests at the found sites.\n",
    "    User may specify a process name (pn) and process description (pd) as strings.\n",
    "    Returns the cutdna insert object. Also provides length and the object's topology (linear in this case).\n",
    "    \"\"\"\n",
    "    from QUEEN import cutsite #Import a restriction enzyme library \n",
    "    \n",
    "    sites = dna.searchsequence(cutsite.lib[re])\n",
    "    fragments = cutdna(dna, *sites, pn=pn, pd=pd) #Produces a list of two fragments; the first is the external (backbone) fragment and the second is the internal (usually smaller) fragment.\n",
    "    return fragments[1] #Keep the insert fragment\n",
    "\n",
    "\n",
    "#Examples\n",
    "#QUEEN(record=\"36083\", dbtype=\"addgene\", product=\"pLV_EGFP\")\n",
    "QUEEN(seq=\"GTCTGACAGCGTCTCTAGCCGTGAGAGCGTGTCAGTGTGTGGTGNCCGAGCGTGTCAGGGTGACCGTGGTGNCCGAGTCTGTCTCTCACAGCGTGGTGGAGACGAGCAGAGCT\", product=\"SI739\") \n",
    "QUEEN(seq=\"AGCTCTGCTCGTCTCCACCAC\", product=\"SI738\") \n",
    "pn1='test'\n",
    "pd1='test3'\n",
    "\n",
    "a = typeIIS_digest_insert(SI739, \"BsmBI\", pn1, pd1) #works\n",
    "a.printsequence(display=True)"
   ]
  },
  {
   "cell_type": "code",
   "execution_count": 1987,
   "id": "22d898bb-5056-47c3-bb92-f1100a9cef8c",
   "metadata": {},
   "outputs": [
    {
     "data": {
      "text/plain": [
       "<queen.QUEEN object; project='pLV_CS_684', length='9325 bp', topology='linear'>"
      ]
     },
     "execution_count": 1987,
     "metadata": {},
     "output_type": "execute_result"
    }
   ],
   "source": [
    "def typeIIS_digest_backbone(dna,  #QUEEN object\n",
    "                            re,   #str\n",
    "                            pn,   #str\n",
    "                            pd    #str\n",
    "                           ):\n",
    "    \"\"\"\n",
    "    Given a QUEEN DNA sequence for a backbone, finds the Type II-S restriction site(s) and digests at the found sites.\n",
    "    User may specify a process name (pn) and process description (pd) as strings.\n",
    "    Returns the cropdna backbone object. Also provides length and the object's topology (linear in this case).\n",
    "    \"\"\"\n",
    "    from QUEEN import cutsite #Import a restriction enzyme library \n",
    "    \n",
    "    sites = dna.searchsequence(cutsite.lib[re])\n",
    "    fragments = cropdna(dna, *sites, pn=pn, pd=pd) #Produces the backbone fragment\n",
    "    return fragments #Keep the backbone fragment\n",
    "\n",
    "\n",
    "#Examples\n",
    "#QUEEN(record=\"158431\", dbtype=\"addgene\", product=\"pSI_356_v2\")\n",
    "#QUEEN(record=\"https://benchling.com/s/seq-YhxTkuO87rxyYR1L61zC\", dbtype=\"benchling\", product=\"pLV_CS_116\")\n",
    "pn1='test'\n",
    "pd1='test3'\n",
    "\n",
    "typeIIS_digest_backbone(pSI_356_v2, \"BsmBI\", pn1, pd1) #works\n",
    "typeIIS_digest_backbone(pLV_CS_116, \"BsmBI\", pn1, pd1) #works"
   ]
  },
  {
   "cell_type": "markdown",
   "id": "bbfea0c5-a869-4fc7-83cc-cb91db885892",
   "metadata": {},
   "source": [
    "# Cloning Templates"
   ]
  },
  {
   "cell_type": "markdown",
   "id": "d051d7f2-1e71-4cc5-81a8-185793f30230",
   "metadata": {},
   "source": [
    "There are a total of 18 unique assembly types requiring distinct QUEEN construction procedures for the plasmids described in Table S2:\n",
    "* __Digestion_Ligation_1__: Involving PCR with normal primers.  \n",
    "    (1) Digest backbone `double_digest_backbone`, (2) Amplify insert `create_pcr_product`, (3) Digest insert `double_digest_insert`, (4) Ligate `joindna`.\n",
    "* __Digestion_Ligation_2__: Involving PCR with mismatching primers.  \n",
    "    (1) Digest backbone `double_digest_backbone`, (2) Amplify insert `create_pcr_product_mismatches`, (3) Digest insert `double_digest_insert`, (4) Ligate `joindna`.\n",
    "* __Digestion_Ligation_3__: Involving PCR with short primer binding sites.  \n",
    "    (1) Digest backbone `double_digest_backbone`, (2) Amplify insert `create_pcr_product_special`, (3) Digest insert `double_digest_insert`, (4) Ligate `joindna`.\n",
    "* __Digestion_Ligation_4__: Involving two ssDNAs annealing.  \n",
    "    (1) Digest backbone `double_digest_backbone`, (2) Anneal ssDNAs `anneal_oligos_object`, (3) Ligate `joindna`.\n",
    "* __Digestion_Ligation_5__: Involving PCR with normal primers and requires flipping insert.  \n",
    "    (1) Digest backbone `double_digest_backbone`, (2) Amplify insert `create_pcr_product` then `flipdna`, (3) Digest insert `double_digest_insert`, (4) Ligate `joindna`.\n",
    "* __Digestion_Ligation_6__: Involving PCR with a flipped insert and short primer binding sites.  \n",
    "    (1) Digest backbone `double_digest_backbone`, (2) Amplify insert `flipdna` `create_pcr_product_special`, (3) Digest insert `double_digest_insert`, (4) Ligate `joindna`.\n",
    "* __Golden_Gate_Assembly_1__: Involving template-free PCR.  \n",
    "    (1) Digest backbone `typeIIS_digest_backbone`, (2) Template-free PCR `generate_dsdna`, (3) Digest insert `typeIIS_digest_insert`, (4) Assemble `joindna`.\n",
    "* __Golden_Gate_Assembly_2__: Involving two ssDNAs annealing.  \n",
    "    (1) Digest backbone `typeIIS_digest_backbone`, (2) Anneal ssDNAs `anneal_oligos_object`, (3) Assemble `joindna`.\n",
    "* __Golden_Gate_Assembly_3__: Involving two ssDNAs annealing with short binding sites.  \n",
    "    (1) Digest backbone `typeIIS_digest_backbone`, (2) Anneal ssDNAs `anneal_oligos_object_short`, (3) Assemble `joindna`.\n",
    "* __Golden_Gate_Assembly_4__: Involving two ssDNAs annealing with mismatches.\n",
    "    (1) Digest backbone `typeIIS_digest_backbone` and modify for mismatch `cropdna` `joindna`, (2) Anneal ssDNAs `anneal_oligos_object`, (3) Assemble `joindna`.\n",
    "* __Gibson_Assembly_2frag_1__: Involving digestion and PCR.  \n",
    "    (1) Digest backbone `double_digest_backbone`, (2) Amplify insert `create_pcr_product`, (3) Assemble `gibson_assembly`.\n",
    "* __Gibson_Assembly_2frag_2__: Involving only PCR.  \n",
    "    (1) Amplify backbone `create_pcr_product`, (2) Amplify insert `create_pcr_product`, (3) Assemble `gibson_assembly`.\n",
    "* __Gibson_Assembly_2frag_3__: Involving PCR with short primer binding sites.\n",
    "    (1) Amplify backbone `create_pcr_product_special`, (2) Amplify insert `create_pcr_product_special`, (3) Assemble `gibson_assembly`.    \n",
    "* __Gibson_Assembly_2frag_4__: Involving PCR with short primer binding sites.\n",
    "    (1) Amplify backbone `create_pcr_product_special`, (2) Amplify insert `create_pcr_product`, (3) Assemble `gibson_assembly`.  \n",
    "* __Gibson_Assembly_2frag_5__: Involving PCR and template-free PCR.  \n",
    "    (1) Amplify backbone `create_pcr_product`, (2) Template-free PCR `stitch_fragments`, (3) Assemble `gibson_assembly`.\n",
    "* __Gibson_Assembly_3frag_1__: Involving digestion and PCR.  \n",
    "    (1) Digest backbone `double_digest_backbone`, (2) Amplify insert `create_pcr_product`, (3) Amplify insert `create_pcr_product`, (4) Assemble `stitch_fragments` then `gibson_assembly`.\n",
    "* __Gibson_Assembly_3frag_2__: Involving PCR and PCR with short primer binding sites.\n",
    "    (1) Amplify backbone `create_pcr_product`, (2) Amplify insert `create_pcr_product_special`, (3) Amplify insert `create_pcr_product_special`, (4) Assemble `stitch_fragments` then `gibson_assembly`.\n",
    "* __Gibson_Assembly_4frag_1__: Involving digestion and PCR.  \n",
    "    (1) Digest backbone `double_digest_backbone`, (2) Amplify insert `create_pcr_product`, (3) Amplify insert `create_pcr_product`,  \n",
    "    (4) Amplify insert `create_pcr_product`, (5) Assemble `stitch_fragments` then `stitch_fragments` then `gibson_assembly`."
   ]
  },
  {
   "cell_type": "code",
   "execution_count": 2411,
   "id": "91aa5d8b-2a1a-49b8-9edb-26fd652ac2d4",
   "metadata": {},
   "outputs": [],
   "source": [
    "#Load primers, plasmids, and assemblies\n",
    "file_path = '/Users/samuelking/Yachie Lab Dropbox/Samuel King/SAMUEL_KING.LAB/Projects/CloneSelect/QUEEN/Assemblies Information Table.xlsx' #Update local path name here\n",
    "oligos = pd.read_excel(file_path, sheet_name=0)\n",
    "plasmids = pd.read_excel(file_path, sheet_name=1)\n",
    "digestion_ligation_assemblies = pd.read_excel(file_path, sheet_name=2)\n",
    "golden_gate_assemblies = pd.read_excel(file_path, sheet_name=3)\n",
    "gibson_assemblies = pd.read_excel(file_path, sheet_name=4)\n",
    "processes = pd.read_excel(file_path, sheet_name=5)\n",
    "\n",
    "#Ensure 'str' is not kept as a variable in your memory, because the str() function is necessary below.\n",
    "#If you receive 'TypeError: 'str' object is not callable', then use del(str) to delete 'str' from memory.\n",
    "\n",
    "#Generate oligo QUEEN object list\n",
    "oligo_list = []\n",
    "i = 0\n",
    "while i < len(oligos):\n",
    "    primer = QUEEN(seq = oligos['seq'][i], product = oligos['primer_id'][i])\n",
    "    oligo_list.append(primer)\n",
    "    i = i+1\n",
    "\n",
    "    \n",
    "#Generate plasmid QUEEN object list (this takes a while) *note that benchling URLs called on by QUEEN cannot contain the suffix '?m=slm- ...'\n",
    "#If at any point the plasmid_list generation stops due to an error where a plasmid isn't being loaded properly, enter 'i' to see at which index the function stopped working\n",
    "#and check that plasmid in the spreadsheet.\n",
    "#The plasmid_list generation may time out due to HTTPerror where too many requests are being called.. this is an internet issue and you can try re-running the function\n",
    "#from the index number (i) which it stopped at and continuing to append plasmid_list from there. Make sure to # out plasmid_list = [] before doing this approach though.\n",
    "\n",
    "#plasmid_list = []\n",
    "#i = 0\n",
    "#while i < len(plasmids):\n",
    "#    plasmid = QUEEN(record = str(plasmids['record'][i]), dbtype = str(plasmids['dbtype'][i]), product = str(plasmids['plasmid_id'][i]))\n",
    "#    plasmid_list.append(plasmid)\n",
    "#    i = i+1\n",
    "\n",
    "#Create name lists for the plasmids and oligos for later use\n",
    "oligo_name_list = []\n",
    "i = 0\n",
    "while i < len(oligos['primer_id']):\n",
    "    name = oligos['primer_id'][i]\n",
    "    oligo_name_list.append(name)\n",
    "    i = i+1\n",
    "#\n",
    "#plasmid_name_list = []\n",
    "#i = 0\n",
    "#while i < len(plasmids['plasmid_id']):\n",
    "#    name = plasmids['plasmid_id'][i]\n",
    "#    plasmid_name_list.append(name)\n",
    "#    i = i+1"
   ]
  },
  {
   "cell_type": "markdown",
   "id": "cdbc3365-d3a6-4223-9c3e-0ba24763616f",
   "metadata": {},
   "source": [
    "### Digestion_Ligation_1 Template"
   ]
  },
  {
   "cell_type": "code",
   "execution_count": 2281,
   "id": "ddce7c1c-740b-4e88-9e16-3249b9465e05",
   "metadata": {},
   "outputs": [],
   "source": [
    "#Set up the data for plasmids constructed by Digestion-Ligation_1\n",
    "assembly_method = digestion_ligation_assemblies['assembly_method'] #extract the assembly_method column from the digestion_ligations sheet\n",
    "digestion_ligation_1 = ['Digestion_Ligation_1'] #set up for extracting rows with Digestion_Ligation_1\n",
    "digestion_ligation_1 = digestion_ligation_assemblies.query('@digestion_ligation_1 in assembly_method') #extract only rows containing Digestion_Ligation_1\n",
    "digestion_ligation_1.index = range(len(digestion_ligation_1)) #re-index the extracted list to be in the order of only the rows containing Digestion_Ligation_1"
   ]
  },
  {
   "cell_type": "code",
   "execution_count": 2282,
   "id": "6c87a8ba-77d1-43da-9452-263801ea0e7e",
   "metadata": {},
   "outputs": [],
   "source": [
    "#Set assembly steps\n",
    "\n",
    "#Step 1\n",
    "pn1 = processes['pn1'][0]\n",
    "pd1 = processes['pd1'][0]\n",
    "#Step 2\n",
    "pn2 = processes['pn2'][0]\n",
    "pd2 = processes['pd2'][0]\n",
    "#Step 3\n",
    "pn3 = processes['pn3'][0]\n",
    "pd3 = processes['pd3'][0]\n",
    "#Step 4\n",
    "pn4 = processes['pn4'][0]\n",
    "pd4 = processes['pd4'][0]"
   ]
  },
  {
   "cell_type": "code",
   "execution_count": 2283,
   "id": "08c42daf-5f98-4802-b912-84b9df81c11f",
   "metadata": {},
   "outputs": [],
   "source": [
    "#Step 1: Digest backbone\n",
    "\n",
    "digested_backbones = []\n",
    "i = 0\n",
    "while i < len(digestion_ligation_1):\n",
    "    index_backbone = plasmid_name_list.index(digestion_ligation_1['backbone_id'][i])\n",
    "    re1 = digestion_ligation_1['re1'][i]\n",
    "    re2 = digestion_ligation_1['re2'][i]\n",
    "    digested_backbone = double_digest_backbone(plasmid_list[index_backbone],\n",
    "                                               re1, re2, pn1, pd1)\n",
    "    digested_backbones.append(digested_backbone)\n",
    "    i = i+1"
   ]
  },
  {
   "cell_type": "code",
   "execution_count": 2285,
   "id": "bab2a29c-5602-4b2a-886d-48ac9d3808cd",
   "metadata": {},
   "outputs": [],
   "source": [
    "#Step 2: Amplify insert\n",
    "\n",
    "pcr_products = []\n",
    "i = 0\n",
    "while i < len(digestion_ligation_1):\n",
    "    index_template = plasmid_name_list.index(digestion_ligation_1['template_id'][i])\n",
    "    index_fw = oligo_name_list.index(digestion_ligation_1['fw_primer'][i])\n",
    "    index_rv = oligo_name_list.index(digestion_ligation_1['rv_primer'][i])\n",
    "    insert = create_pcr_product(plasmid_list[index_template],\n",
    "                                oligo_list[index_fw], \n",
    "                                oligo_list[index_rv], \n",
    "                                pn2, pd2)\n",
    "    pcr_products.append(insert)\n",
    "    i = i+1"
   ]
  },
  {
   "cell_type": "code",
   "execution_count": 1858,
   "id": "2a2f4ed0-353c-475c-9adc-54c0cf4a1bff",
   "metadata": {},
   "outputs": [],
   "source": [
    "#Step 3: Digest insert\n",
    "\n",
    "digested_inserts = []\n",
    "i = 0\n",
    "while i < len(pcr_products):\n",
    "    re1 = digestion_ligation_1['re1'][i]\n",
    "    re2 = digestion_ligation_1['re2'][i]\n",
    "    digested_insert = double_digest_insert(pcr_products[i], re1, re2, pn3, pd3)\n",
    "    digested_inserts.append(digested_insert)\n",
    "    i = i+1"
   ]
  },
  {
   "cell_type": "code",
   "execution_count": 1859,
   "id": "f1336e8f-eee9-4367-9fdd-c74cb4df1b97",
   "metadata": {},
   "outputs": [],
   "source": [
    "#Step 4: Ligate\n",
    " \n",
    "ligated_plasmids = []\n",
    "i = 0\n",
    "while i < len(digestion_ligation_1):\n",
    "    ligation = joindna(digested_inserts[i],\n",
    "                       digested_backbones[i],\n",
    "                       product = digestion_ligation_1['plasmid_id'][i],\n",
    "                       topology = \"circular\", pn=pn4, pd=pd4)\n",
    "    ligated_plasmids.append(ligation)\n",
    "    i = i+1"
   ]
  },
  {
   "cell_type": "code",
   "execution_count": 751,
   "id": "d31db943-ba6d-44d2-b7b9-99be1c9a4362",
   "metadata": {},
   "outputs": [
    {
     "name": "stdout",
     "output_type": "stream",
     "text": [
      "pLV_CS_119 is not the same length as its Benchling sequence\n",
      "pLV_CS_194 is not the same length as its Benchling sequence\n",
      "pLV_CS_197 is not the same length as its Benchling sequence\n",
      "pLV_CS_246 is not the same length as its Benchling sequence\n",
      "pLV_CS_247 is not the same length as its Benchling sequence\n",
      "pRS138 is the same length as its Benchling sequence.\n",
      "pRS140 is the same length as its Benchling sequence.\n",
      "pRS147 is not the same length as its Benchling sequence\n",
      "pRS148 is not the same length as its Benchling sequence\n",
      "pRS149 is not the same length as its Benchling sequence\n",
      "pRS150 is not the same length as its Benchling sequence\n",
      "pRS151 is not the same length as its Benchling sequence\n"
     ]
    }
   ],
   "source": [
    "#Step 5: Verify new plasmid sequence lengths (optional)\n",
    "\n",
    "new_plasmids_known = []\n",
    "i = 0\n",
    "while i < len(digestion_ligation_1):\n",
    "    new_plasmid_known = QUEEN(record = str(digestion_ligation_1['benchling_of_final_plasmid'][i]),\n",
    "                                  dbtype = 'benchling',\n",
    "                                  product = str(digestion_ligation_1['plasmid_id'][i]))\n",
    "    new_plasmids_known.append(new_plasmid_known)\n",
    "    i = i+1\n",
    "\n",
    "i = 0\n",
    "while i < len(digestion_ligation_1):\n",
    "    if len(new_plasmids_known[i].seq) == len(ligated_plasmids[i].seq):\n",
    "                              print(digestion_ligation_1['plasmid_id'][i] + ' is the same length as its Benchling sequence.')\n",
    "    else:\n",
    "                              print(digestion_ligation_1['plasmid_id'][i] + ' is not the same length as its Benchling sequence')\n",
    "    i = i+1"
   ]
  },
  {
   "cell_type": "code",
   "execution_count": 1860,
   "id": "2a5e1641-8c0a-4d0b-b1f7-49892592cb04",
   "metadata": {},
   "outputs": [
    {
     "name": "stdout",
     "output_type": "stream",
     "text": [
      "Downloaded QUEEN gbk files.\n"
     ]
    }
   ],
   "source": [
    "#Step 6: Output QUEEN gbk file\n",
    "\n",
    "i = 0\n",
    "while i < len(digestion_ligation_1):\n",
    "    ligated_plasmids[i].outputgbk(output = digestion_ligation_1['plasmid_id'][i]+ '.gbk')\n",
    "    i = i+1\n",
    "print('Downloaded QUEEN gbk files.')"
   ]
  },
  {
   "cell_type": "code",
   "execution_count": 1867,
   "id": "ab9b96d0-8f3a-4080-abdc-65f4493daad3",
   "metadata": {},
   "outputs": [
    {
     "name": "stdout",
     "output_type": "stream",
     "text": [
      "QUEEN gbk files repaired.\n"
     ]
    }
   ],
   "source": [
    "#Step 7: Repair gbk locus ID (temporary fix; will be implemented in next update of QUEEN)\n",
    "\n",
    "i = 0\n",
    "while i < len(digestion_ligation_1):\n",
    "    gbk_file = './' + digestion_ligation_1['plasmid_id'][i]+ '.gbk'\n",
    "    handle = open(gbk_file, 'r')\n",
    "    record = GenBank.read(handle)\n",
    "    record.locus = digestion_ligation_1['plasmid_id'][i]\n",
    "    record.accession = ''\n",
    "    record.version = ''\n",
    "    record.definition = 'Plasmid was generated by QUEEN v1.2.0 (https://github.com/yachielab/QUEEN)'\n",
    "    record.organism = 'Synthetic DNA construct'\n",
    "    fout = open(gbk_file, 'w') # final gbk file name\n",
    "    fout.write(str(record))\n",
    "    fout.close()\n",
    "    i = i+1\n",
    "print('QUEEN gbk files repaired.')"
   ]
  },
  {
   "cell_type": "markdown",
   "id": "e885b960-3272-4e06-b2aa-22285bf54450",
   "metadata": {},
   "source": [
    "### Digestion_Ligation_2 Template"
   ]
  },
  {
   "cell_type": "code",
   "execution_count": 1875,
   "id": "e629fa8b-68e0-48d1-b4c7-125965e970cc",
   "metadata": {},
   "outputs": [],
   "source": [
    "#Set up the data for plasmids constructed by Digestion-Ligation_2\n",
    "assembly_method = digestion_ligation_assemblies['assembly_method'] #extract the assembly_method column from the digestion_ligations sheet\n",
    "digestion_ligation_2 = ['Digestion_Ligation_2'] #set up for extracting rows with Digestion_Ligation_2\n",
    "digestion_ligation_2 = digestion_ligation_assemblies.query('@digestion_ligation_2 in assembly_method') #extract only rows containing Digestion_Ligation_2\n",
    "digestion_ligation_2.index = range(len(digestion_ligation_2)) #re-index the extracted list to be in the order of only the rows containing Digestion_Ligation_2"
   ]
  },
  {
   "cell_type": "code",
   "execution_count": 1876,
   "id": "0208a880-4dc4-48a0-b89e-785cb5f95831",
   "metadata": {},
   "outputs": [],
   "source": [
    "#Set assembly steps\n",
    "\n",
    "#Step 1\n",
    "pn1 = processes['pn1'][0]\n",
    "pd1 = processes['pd1'][0]\n",
    "#Step 2\n",
    "pn2 = processes['pn2'][0]\n",
    "pd2 = processes['pd2'][0]\n",
    "#Step 3\n",
    "pn3 = processes['pn3'][0]\n",
    "pd3 = processes['pd3'][0]\n",
    "#Step 4\n",
    "pn4 = processes['pn4'][0]\n",
    "pd4 = processes['pd4'][0]"
   ]
  },
  {
   "cell_type": "code",
   "execution_count": 1877,
   "id": "0a28a869-bf7d-46c6-b564-0ee16d85e7c0",
   "metadata": {},
   "outputs": [],
   "source": [
    "#Step 1: Digest backbone\n",
    "\n",
    "digested_backbones = []\n",
    "i = 0\n",
    "while i < len(digestion_ligation_2):\n",
    "    index_backbone = plasmid_name_list.index(digestion_ligation_2['backbone_id'][i])\n",
    "    re1 = digestion_ligation_2['re1'][i]\n",
    "    re2 = digestion_ligation_2['re2'][i]\n",
    "    digested_backbone = double_digest_backbone(plasmid_list[index_backbone],\n",
    "                                               re1, re2, pn1, pd1)\n",
    "    digested_backbones.append(digested_backbone)\n",
    "    i = i+1"
   ]
  },
  {
   "cell_type": "code",
   "execution_count": 1878,
   "id": "94408fb3-baa1-40a1-9bec-1089bf499cff",
   "metadata": {},
   "outputs": [],
   "source": [
    "#Step 2: Amplify insert\n",
    "\n",
    "pcr_products = []\n",
    "i = 0\n",
    "while i < len(digestion_ligation_2):\n",
    "    index_template = plasmid_name_list.index(digestion_ligation_2['template_id'][i])\n",
    "    index_fw = oligo_name_list.index(digestion_ligation_2['fw_primer'][i])\n",
    "    index_rv = oligo_name_list.index(digestion_ligation_2['rv_primer'][i])\n",
    "    insert = create_pcr_product_mismatches(plasmid_list[index_template],\n",
    "                                           oligo_list[index_fw], \n",
    "                                           oligo_list[index_rv], \n",
    "                                           pn2, pd2)\n",
    "    pcr_products.append(insert)\n",
    "    i = i+1"
   ]
  },
  {
   "cell_type": "code",
   "execution_count": 1879,
   "id": "fa5d05da-e16e-4a98-a1fb-f0bf031741a7",
   "metadata": {},
   "outputs": [],
   "source": [
    "#Step 3: Digest insert\n",
    "\n",
    "digested_inserts = []\n",
    "i = 0\n",
    "while i < len(pcr_products):\n",
    "    re1 = digestion_ligation_2['re1'][i]\n",
    "    re2 = digestion_ligation_2['re2'][i]\n",
    "    digested_insert = double_digest_insert(pcr_products[i], re1, re2, pn3, pd3)\n",
    "    digested_inserts.append(digested_insert)\n",
    "    i = i+1"
   ]
  },
  {
   "cell_type": "code",
   "execution_count": 1880,
   "id": "927739a6-4862-4f2b-afcb-2c4f91457555",
   "metadata": {},
   "outputs": [],
   "source": [
    "#Step 4: Ligate\n",
    " \n",
    "ligated_plasmids = []\n",
    "i = 0\n",
    "while i < len(digestion_ligation_2):\n",
    "    ligation = joindna(digested_inserts[i],\n",
    "                       digested_backbones[i],\n",
    "                       product = digestion_ligation_2['plasmid_id'][i],\n",
    "                       topology = \"circular\", pn=pn4, pd=pd4)\n",
    "    ligated_plasmids.append(ligation)\n",
    "    i = i+1"
   ]
  },
  {
   "cell_type": "code",
   "execution_count": 759,
   "id": "69904b95-8f59-4976-b99a-735d8024df08",
   "metadata": {},
   "outputs": [
    {
     "name": "stdout",
     "output_type": "stream",
     "text": [
      "pLV_CS_193 is not the same length as its Benchling sequence\n",
      "pLV_CS_196 is not the same length as its Benchling sequence\n"
     ]
    }
   ],
   "source": [
    "#Step 5: Verify new plasmid sequence lengths (optional)\n",
    "\n",
    "new_plasmids_known = []\n",
    "i = 0\n",
    "while i < len(digestion_ligation_2):\n",
    "    new_plasmid_known = QUEEN(record = str(digestion_ligation_2['benchling_of_final_plasmid'][i]),\n",
    "                                  dbtype = 'benchling',\n",
    "                                  product = str(digestion_ligation_2['plasmid_id'][i]))\n",
    "    new_plasmids_known.append(new_plasmid_known)\n",
    "    i = i+1\n",
    "\n",
    "i = 0\n",
    "while i < len(digestion_ligation_2):\n",
    "    if len(new_plasmids_known[i].seq) == len(ligated_plasmids[i].seq):\n",
    "                              print(digestion_ligation_2['plasmid_id'][i] + ' is the same length as its Benchling sequence.')\n",
    "    else:\n",
    "                              print(digestion_ligation_2['plasmid_id'][i] + ' is not the same length as its Benchling sequence')\n",
    "    i = i+1"
   ]
  },
  {
   "cell_type": "code",
   "execution_count": 1881,
   "id": "6496042d-b661-4caf-ba51-14fbbad3528c",
   "metadata": {},
   "outputs": [
    {
     "name": "stdout",
     "output_type": "stream",
     "text": [
      "Downloaded QUEEN gbk files.\n"
     ]
    }
   ],
   "source": [
    "#Step 6: Output QUEEN gbk file\n",
    "\n",
    "i = 0\n",
    "while i < len(digestion_ligation_2):\n",
    "    ligated_plasmids[i].outputgbk(output = digestion_ligation_2['plasmid_id'][i]+ '.gbk')\n",
    "    i = i+1\n",
    "print('Downloaded QUEEN gbk files.')"
   ]
  },
  {
   "cell_type": "code",
   "execution_count": 1882,
   "id": "16740a20-9786-4b67-a96f-1625364dee11",
   "metadata": {},
   "outputs": [
    {
     "name": "stdout",
     "output_type": "stream",
     "text": [
      "QUEEN gbk files repaired.\n"
     ]
    }
   ],
   "source": [
    "#Step 7: Repair gbk locus ID (temporary fix; will be implemented in next update of QUEEN)\n",
    "\n",
    "i = 0\n",
    "while i < len(digestion_ligation_2):\n",
    "    gbk_file = './' + digestion_ligation_2['plasmid_id'][i]+ '.gbk'\n",
    "    handle = open(gbk_file, 'r')\n",
    "    record = GenBank.read(handle)\n",
    "    record.locus = digestion_ligation_2['plasmid_id'][i]\n",
    "    record.accession = ''\n",
    "    record.version = ''\n",
    "    record.definition = 'Plasmid was generated by QUEEN v1.2.0 (https://github.com/yachielab/QUEEN)'\n",
    "    record.organism = 'Synthetic DNA construct'\n",
    "    fout = open(gbk_file, 'w') # final gbk file name\n",
    "    fout.write(str(record))\n",
    "    fout.close()\n",
    "    i = i+1\n",
    "print('QUEEN gbk files repaired.')"
   ]
  },
  {
   "cell_type": "markdown",
   "id": "e5a8d5cc-2e56-497d-89d8-9db23a071bdc",
   "metadata": {},
   "source": [
    "### Digestion_Ligation_3 Template"
   ]
  },
  {
   "cell_type": "code",
   "execution_count": 1883,
   "id": "ade567ed-df17-47a1-b9c2-0f88487eccb3",
   "metadata": {},
   "outputs": [],
   "source": [
    "#Set up the data for plasmids constructed by Digestion-Ligation_3\n",
    "assembly_method = digestion_ligation_assemblies['assembly_method'] #extract the assembly_method column from the digestion_ligations sheet\n",
    "digestion_ligation_3 = ['Digestion_Ligation_3'] #set up for extracting rows with Digestion_Ligation_3\n",
    "digestion_ligation_3 = digestion_ligation_assemblies.query('@digestion_ligation_3 in assembly_method') #extract only rows containing Digestion_Ligation_3\n",
    "digestion_ligation_3.index = range(len(digestion_ligation_3)) #re-index the extracted list to be in the order of only the rows containing Digestion_Ligation_3"
   ]
  },
  {
   "cell_type": "code",
   "execution_count": 1884,
   "id": "13e8f16d-bf47-427e-a64c-bd4e97820ace",
   "metadata": {},
   "outputs": [],
   "source": [
    "#Set assembly steps\n",
    "\n",
    "#Step 1\n",
    "pn1 = processes['pn1'][0]\n",
    "pd1 = processes['pd1'][0]\n",
    "#Step 2\n",
    "pn2 = processes['pn2'][0]\n",
    "pd2 = processes['pd2'][0]\n",
    "#Step 3\n",
    "pn3 = processes['pn3'][0]\n",
    "pd3 = processes['pd3'][0]\n",
    "#Step 4\n",
    "pn4 = processes['pn4'][0]\n",
    "pd4 = processes['pd4'][0]"
   ]
  },
  {
   "cell_type": "code",
   "execution_count": 1885,
   "id": "58250741-5b16-40f5-be13-658c19371359",
   "metadata": {},
   "outputs": [],
   "source": [
    "#Step 1: Digest backbone\n",
    "\n",
    "digested_backbones = []\n",
    "i = 0\n",
    "while i < len(digestion_ligation_3):\n",
    "    index_backbone = plasmid_name_list.index(digestion_ligation_3['backbone_id'][i])\n",
    "    re1 = digestion_ligation_3['re1'][i]\n",
    "    re2 = digestion_ligation_3['re2'][i]\n",
    "    digested_backbone = double_digest_backbone(plasmid_list[index_backbone],\n",
    "                                               re1, re2, pn1, pd1)\n",
    "    digested_backbones.append(digested_backbone)\n",
    "    i = i+1"
   ]
  },
  {
   "cell_type": "code",
   "execution_count": 1886,
   "id": "7ea3f244-9083-41cb-a0e2-ac75c8c12dbd",
   "metadata": {},
   "outputs": [],
   "source": [
    "#Step 2: Amplify insert\n",
    "\n",
    "pcr_products = []\n",
    "i = 0\n",
    "while i < len(digestion_ligation_3):\n",
    "    index_template = plasmid_name_list.index(digestion_ligation_3['template_id'][i])\n",
    "    index_fw = oligo_name_list.index(digestion_ligation_3['fw_primer'][i])\n",
    "    index_rv = oligo_name_list.index(digestion_ligation_3['rv_primer'][i])\n",
    "    insert = create_pcr_product_special(plasmid_list[index_template],\n",
    "                                        oligo_list[index_fw], \n",
    "                                        oligo_list[index_rv], \n",
    "                                        pn2, pd2)\n",
    "    pcr_products.append(insert)\n",
    "    i = i+1"
   ]
  },
  {
   "cell_type": "code",
   "execution_count": 1887,
   "id": "17c65e78-239b-42c5-b0ab-3f249bf844d0",
   "metadata": {},
   "outputs": [],
   "source": [
    "#Step 3: Digest insert\n",
    "\n",
    "digested_inserts = []\n",
    "i = 0\n",
    "while i < len(pcr_products):\n",
    "    re1 = digestion_ligation_3['re1'][i]\n",
    "    re2 = digestion_ligation_3['re2'][i]\n",
    "    digested_insert = double_digest_insert(pcr_products[i], re1, re2, pn3, pd3)\n",
    "    digested_inserts.append(digested_insert)\n",
    "    i = i+1"
   ]
  },
  {
   "cell_type": "code",
   "execution_count": 1888,
   "id": "8f39eb90-73fc-410e-8385-efb191b1fc21",
   "metadata": {},
   "outputs": [],
   "source": [
    "#Step 4: Ligate\n",
    " \n",
    "ligated_plasmids = []\n",
    "i = 0\n",
    "while i < len(digestion_ligation_3):\n",
    "    ligation = joindna(digested_inserts[i],\n",
    "                       digested_backbones[i],\n",
    "                       product = digestion_ligation_3['plasmid_id'][i],\n",
    "                       topology = \"circular\", pn=pn4, pd=pd4)\n",
    "    ligated_plasmids.append(ligation)\n",
    "    i = i+1"
   ]
  },
  {
   "cell_type": "code",
   "execution_count": 767,
   "id": "dbbc24ba-44ba-4653-8952-8a4fd18b737b",
   "metadata": {},
   "outputs": [
    {
     "name": "stdout",
     "output_type": "stream",
     "text": [
      "pLV_CS_192 is not the same length as its Benchling sequence\n",
      "pLV_CS_195 is not the same length as its Benchling sequence\n"
     ]
    }
   ],
   "source": [
    "#Step 5: Verify new plasmid sequence lengths (optional)\n",
    "\n",
    "new_plasmids_known = []\n",
    "i = 0\n",
    "while i < len(digestion_ligation_3):\n",
    "    new_plasmid_known = QUEEN(record = str(digestion_ligation_3['benchling_of_final_plasmid'][i]),\n",
    "                                  dbtype = 'benchling',\n",
    "                                  product = str(digestion_ligation_3['plasmid_id'][i]))\n",
    "    new_plasmids_known.append(new_plasmid_known)\n",
    "    i = i+1\n",
    "\n",
    "i = 0\n",
    "while i < len(digestion_ligation_3):\n",
    "    if len(new_plasmids_known[i].seq) == len(ligated_plasmids[i].seq):\n",
    "                              print(digestion_ligation_3['plasmid_id'][i] + ' is the same length as its Benchling sequence.')\n",
    "    else:\n",
    "                              print(digestion_ligation_3['plasmid_id'][i] + ' is not the same length as its Benchling sequence')\n",
    "    i = i+1"
   ]
  },
  {
   "cell_type": "code",
   "execution_count": 1889,
   "id": "7e60558f-8697-4892-88d5-a057f3d1e927",
   "metadata": {},
   "outputs": [
    {
     "name": "stdout",
     "output_type": "stream",
     "text": [
      "Downloaded QUEEN gbk files.\n"
     ]
    }
   ],
   "source": [
    "#Step 6: Output QUEEN gbk file\n",
    "\n",
    "i = 0\n",
    "while i < len(digestion_ligation_3):\n",
    "    ligated_plasmids[i].outputgbk(output = digestion_ligation_3['plasmid_id'][i]+ '.gbk')\n",
    "    i = i+1\n",
    "print('Downloaded QUEEN gbk files.')"
   ]
  },
  {
   "cell_type": "code",
   "execution_count": 1890,
   "id": "c934b26d-f7f7-493f-af6c-07cb4e9829f0",
   "metadata": {},
   "outputs": [
    {
     "name": "stdout",
     "output_type": "stream",
     "text": [
      "QUEEN gbk files repaired.\n"
     ]
    }
   ],
   "source": [
    "#Step 7: Repair gbk locus ID (temporary fix; will be implemented in next update of QUEEN)\n",
    "\n",
    "i = 0\n",
    "while i < len(digestion_ligation_3):\n",
    "    gbk_file = './' + digestion_ligation_3['plasmid_id'][i]+ '.gbk'\n",
    "    handle = open(gbk_file, 'r')\n",
    "    record = GenBank.read(handle)\n",
    "    record.locus = digestion_ligation_3['plasmid_id'][i]\n",
    "    record.accession = ''\n",
    "    record.version = ''\n",
    "    record.definition = 'Plasmid was generated by QUEEN v1.2.0 (https://github.com/yachielab/QUEEN)'\n",
    "    record.organism = 'Synthetic DNA construct'\n",
    "    fout = open(gbk_file, 'w') # final gbk file name\n",
    "    fout.write(str(record))\n",
    "    fout.close()\n",
    "    i = i+1\n",
    "print('QUEEN gbk files repaired.')"
   ]
  },
  {
   "cell_type": "markdown",
   "id": "8301c855-18b8-4f6e-9de6-ae7bb3202cfe",
   "metadata": {},
   "source": [
    "### Digestion-Ligation_4 Template"
   ]
  },
  {
   "cell_type": "code",
   "execution_count": 1891,
   "id": "2cd75c8f-2a82-40f4-8e22-eeb27efe1123",
   "metadata": {},
   "outputs": [],
   "source": [
    "#Set up the data for plasmids constructed by Digestion-Ligation_4\n",
    "assembly_method = digestion_ligation_assemblies['assembly_method'] #extract the assembly_method column from the digestion_ligations sheet\n",
    "digestion_ligation_4 = ['Digestion_Ligation_4'] #set up for extracting rows with Digestion_Ligation_4\n",
    "digestion_ligation_4 = digestion_ligation_assemblies.query('@digestion_ligation_4 in assembly_method') #extract only rows containing Digestion_Ligation_4\n",
    "digestion_ligation_4.index = range(len(digestion_ligation_4)) #re-index the extracted list to be in the order of only the rows containing Digestion_Ligation_4"
   ]
  },
  {
   "cell_type": "code",
   "execution_count": 1892,
   "id": "beceba66-ca66-4c41-ad1b-3eb0d30f815a",
   "metadata": {},
   "outputs": [],
   "source": [
    "#Set assembly steps\n",
    "\n",
    "#Step 1\n",
    "pn1 = processes['pn1'][1]\n",
    "pd1 = processes['pd1'][1]\n",
    "#Step 2\n",
    "pn2 = processes['pn2'][1]\n",
    "pd2 = processes['pd2'][1]\n",
    "#Step 3\n",
    "pn3 = processes['pn3'][1]\n",
    "pd3 = processes['pd3'][1]"
   ]
  },
  {
   "cell_type": "code",
   "execution_count": 1893,
   "id": "b468d263-db40-4e74-97ae-50858c665abe",
   "metadata": {},
   "outputs": [],
   "source": [
    "#Step 1: Digest backbone\n",
    "\n",
    "#The second RE site in the cutsite library from QUEEN was in reverse orientation, which was preventing correct ligation of the backbone and insert fragments.\n",
    "#Given that every assembly used XbaI- and BmtI-digested backbone fragments, I manually coded the digestions in the correct orientation below.\n",
    "\n",
    "digested_backbones = []\n",
    "i = 0\n",
    "while i < len(digestion_ligation_4):\n",
    "    index_backbone = plasmid_name_list.index(digestion_ligation_4['backbone_id'][i])\n",
    "\n",
    "    plasmid_list[index_backbone].searchsequence(\"T^CTAG_A\", product='re1site') #search for XbaI cut site\n",
    "    plasmid_list[index_backbone].searchsequence(\"G_CTAG^C\", product='re2site') #search for BmtI cut site\n",
    "    digested_backbone = cropdna(plasmid_list[index_backbone],\n",
    "                                re2site[0], re1site[0],\n",
    "                                product=\"digested_backbone\", pn=pn1, pd=pd1)\n",
    "    digested_backbones.append(digested_backbone)\n",
    "    i = i+1"
   ]
  },
  {
   "cell_type": "code",
   "execution_count": 1894,
   "id": "109df52b-db76-4d37-a272-2b1147ceb8e9",
   "metadata": {},
   "outputs": [],
   "source": [
    "#Step 2: Anneal ssDNAs\n",
    "\n",
    "annealed_DNA = []\n",
    "i = 0\n",
    "while i < len(digestion_ligation_4):\n",
    "    index_fw = oligo_name_list.index(digestion_ligation_4['fw_primer'][i])\n",
    "    index_rv = oligo_name_list.index(digestion_ligation_4['rv_primer'][i])\n",
    "    insert = anneal_oligos_object(oligo_list[index_fw],\n",
    "                                  oligo_list[index_rv],\n",
    "                                  pn2, pd2)\n",
    "    annealed_DNA.append(insert)\n",
    "    i = i+1"
   ]
  },
  {
   "cell_type": "code",
   "execution_count": 1895,
   "id": "34d6e3ae-1032-4fa9-b48d-7ad254d55bbf",
   "metadata": {},
   "outputs": [],
   "source": [
    "#Step 3: Ligate\n",
    "\n",
    "ligated_plasmids = []\n",
    "i = 0\n",
    "while i < len(digestion_ligation_4):\n",
    "    ligation = joindna(annealed_DNA[i],\n",
    "                       digested_backbones[i],\n",
    "                       product = digestion_ligation_4['plasmid_id'][i],\n",
    "                       topology = \"circular\", pn=pn3, pd=pd3)\n",
    "    ligated_plasmids.append(ligation)\n",
    "    i = i+1"
   ]
  },
  {
   "cell_type": "code",
   "execution_count": 1301,
   "id": "8efe9df7-7682-4ba4-8559-b0608e4f90e5",
   "metadata": {},
   "outputs": [
    {
     "name": "stdout",
     "output_type": "stream",
     "text": [
      "pLV_CS_127 is the same length as its Benchling sequence.\n",
      "pLV_CS_128 is the same length as its Benchling sequence.\n",
      "pLV_CS_129 is the same length as its Benchling sequence.\n",
      "pLV_CS_137 is the same length as its Benchling sequence.\n",
      "pLV_CS_138 is the same length as its Benchling sequence.\n",
      "pLV_CS_139 is the same length as its Benchling sequence.\n",
      "pLV_CS_251 is the same length as its Benchling sequence.\n",
      "pLV_CS_252 is the same length as its Benchling sequence.\n",
      "pLV_CS_253 is the same length as its Benchling sequence.\n"
     ]
    }
   ],
   "source": [
    "#Step 4: Verify new plasmid sequence lengths (optional)\n",
    "\n",
    "new_plasmids_known = []\n",
    "i = 0\n",
    "while i < len(digestion_ligation_4):\n",
    "    new_plasmid_known = QUEEN(record = str(digestion_ligation_4['benchling_of_final_plasmid'][i]),\n",
    "                                  dbtype = 'benchling',\n",
    "                                  product = str(digestion_ligation_4['plasmid_id'][i]))\n",
    "    new_plasmids_known.append(new_plasmid_known)\n",
    "    i = i+1\n",
    "\n",
    "i = 0\n",
    "while i < len(digestion_ligation_4):\n",
    "    if len(new_plasmids_known[i].seq) == len(ligated_plasmids[i].seq):\n",
    "                              print(digestion_ligation_4['plasmid_id'][i] + ' is the same length as its Benchling sequence.')\n",
    "    else:\n",
    "                              print(digestion_ligation_4['plasmid_id'][i] + ' is not the same length as its Benchling sequence')\n",
    "    i = i+1"
   ]
  },
  {
   "cell_type": "code",
   "execution_count": 1896,
   "id": "b28b3337-f894-4cf2-91d3-fe7f78038d33",
   "metadata": {},
   "outputs": [
    {
     "name": "stdout",
     "output_type": "stream",
     "text": [
      "Downloaded QUEEN gbk files.\n"
     ]
    }
   ],
   "source": [
    "#Step 5: Output QUEEN gbk file\n",
    "\n",
    "i = 0\n",
    "while i < len(digestion_ligation_4):\n",
    "    ligated_plasmids[i].outputgbk(output = digestion_ligation_4['plasmid_id'][i]+ '.gbk')\n",
    "    i = i+1\n",
    "print('Downloaded QUEEN gbk files.')"
   ]
  },
  {
   "cell_type": "code",
   "execution_count": 1897,
   "id": "8a728f84-053e-4eaa-922e-6dd6115dddfd",
   "metadata": {},
   "outputs": [
    {
     "name": "stdout",
     "output_type": "stream",
     "text": [
      "QUEEN gbk files repaired.\n"
     ]
    }
   ],
   "source": [
    "#Step 6: Repair gbk locus ID (temporary fix; will be implemented in next update of QUEEN)\n",
    "\n",
    "i = 0\n",
    "while i < len(digestion_ligation_4):\n",
    "    gbk_file = './' + digestion_ligation_4['plasmid_id'][i]+ '.gbk'\n",
    "    handle = open(gbk_file, 'r')\n",
    "    record = GenBank.read(handle)\n",
    "    record.locus = digestion_ligation_4['plasmid_id'][i]\n",
    "    record.accession = ''\n",
    "    record.version = ''\n",
    "    record.definition = 'Plasmid was generated by QUEEN v1.2.0 (https://github.com/yachielab/QUEEN)'\n",
    "    record.organism = 'Synthetic DNA construct'\n",
    "    fout = open(gbk_file, 'w') # final gbk file name\n",
    "    fout.write(str(record))\n",
    "    fout.close()\n",
    "    i = i+1\n",
    "print('QUEEN gbk files repaired.')"
   ]
  },
  {
   "cell_type": "markdown",
   "id": "a34ac338-de1f-4b41-a46b-4911ab83494a",
   "metadata": {},
   "source": [
    "### Digestion_Ligation_5 Template"
   ]
  },
  {
   "cell_type": "code",
   "execution_count": 1898,
   "id": "856cc052-2e01-46cd-85b3-ea65ac0af67a",
   "metadata": {},
   "outputs": [],
   "source": [
    "#Set up the data for plasmids constructed by Digestion-Ligation_5\n",
    "assembly_method = digestion_ligation_assemblies['assembly_method'] #extract the assembly_method column from the digestion_ligations sheet\n",
    "digestion_ligation_5 = ['Digestion_Ligation_5'] #set up for extracting rows with Digestion_Ligation_5\n",
    "digestion_ligation_5 = digestion_ligation_assemblies.query('@digestion_ligation_5 in assembly_method') #extract only rows containing Digestion_Ligation_5\n",
    "digestion_ligation_5.index = range(len(digestion_ligation_5)) #re-index the extracted list to be in the order of only the rows containing Digestion_Ligation_5"
   ]
  },
  {
   "cell_type": "code",
   "execution_count": 1899,
   "id": "e5b928ba-2ddf-4ea2-a8c9-15a53399e389",
   "metadata": {},
   "outputs": [],
   "source": [
    "#Set assembly steps\n",
    "\n",
    "#Step 1\n",
    "pn1 = processes['pn1'][0]\n",
    "pd1 = processes['pd1'][0]\n",
    "#Step 2\n",
    "pn2 = processes['pn2'][0]\n",
    "pd2 = processes['pd2'][0]\n",
    "#Step 3\n",
    "pn3 = processes['pn3'][0]\n",
    "pd3 = processes['pd3'][0]\n",
    "#Step 4\n",
    "pn4 = processes['pn4'][0]\n",
    "pd4 = processes['pd4'][0]"
   ]
  },
  {
   "cell_type": "code",
   "execution_count": 1900,
   "id": "e891cbf8-3ff6-456c-8148-68db1f601cc1",
   "metadata": {},
   "outputs": [],
   "source": [
    "#Step 1: Digest backbone\n",
    "\n",
    "digested_backbones = []\n",
    "i = 0\n",
    "while i < len(digestion_ligation_5):\n",
    "    index_backbone = plasmid_name_list.index(digestion_ligation_5['backbone_id'][i])\n",
    "    re1 = digestion_ligation_5['re1'][i]\n",
    "    re2 = digestion_ligation_5['re2'][i]\n",
    "    digested_backbone = double_digest_backbone(plasmid_list[index_backbone],\n",
    "                                               re1, re2, pn1, pd1)\n",
    "    digested_backbones.append(digested_backbone)\n",
    "    i = i+1"
   ]
  },
  {
   "cell_type": "code",
   "execution_count": 1901,
   "id": "29554907-fe5b-40b1-a6ee-fd410adf3286",
   "metadata": {},
   "outputs": [],
   "source": [
    "#Step 2: Amplify insert\n",
    "\n",
    "pcr_products = []\n",
    "i = 0\n",
    "while i < len(digestion_ligation_5):\n",
    "    index_template = plasmid_name_list.index(digestion_ligation_5['template_id'][i])\n",
    "    index_fw = oligo_name_list.index(digestion_ligation_5['fw_primer'][i])\n",
    "    index_rv = oligo_name_list.index(digestion_ligation_5['rv_primer'][i])\n",
    "    insert = create_pcr_product(plasmid_list[index_template],\n",
    "                                oligo_list[index_fw], \n",
    "                                oligo_list[index_rv], \n",
    "                                pn2, pd2)\n",
    "    pcr_products.append(insert)\n",
    "    i = i+1\n",
    "    \n",
    "flipped_pcr_products = []\n",
    "i = 0\n",
    "while i < len(digestion_ligation_5):\n",
    "    flipped_insert = flipdna(pcr_products[i])\n",
    "    flipped_pcr_products.append(flipped_insert)\n",
    "    i = i+1"
   ]
  },
  {
   "cell_type": "code",
   "execution_count": 1902,
   "id": "eeecbf0b-39ef-4f94-a6eb-7114975e4071",
   "metadata": {},
   "outputs": [],
   "source": [
    "#Step 3: Digest insert\n",
    "\n",
    "digested_inserts = []\n",
    "i = 0\n",
    "while i < len(flipped_pcr_products):\n",
    "    re1 = digestion_ligation_5['re1'][i]\n",
    "    re2 = digestion_ligation_5['re2'][i]\n",
    "    digested_insert = double_digest_insert(flipped_pcr_products[i], re1, re2, pn3, pd3)\n",
    "    digested_inserts.append(digested_insert)\n",
    "    i = i+1"
   ]
  },
  {
   "cell_type": "code",
   "execution_count": 1903,
   "id": "f1578157-22b8-47e7-b20d-77682cb1d237",
   "metadata": {},
   "outputs": [],
   "source": [
    "#Step 4: Ligate\n",
    " \n",
    "ligated_plasmids = []\n",
    "i = 0\n",
    "while i < len(digestion_ligation_5):\n",
    "    ligation = joindna(digested_inserts[i],\n",
    "                       digested_backbones[i],\n",
    "                       product = digestion_ligation_5['plasmid_id'][i],\n",
    "                       topology = \"circular\", pn=pn4, pd=pd4)\n",
    "    ligated_plasmids.append(ligation)\n",
    "    i = i+1"
   ]
  },
  {
   "cell_type": "code",
   "execution_count": 1333,
   "id": "aee14cab-580a-420e-8c8e-747004497807",
   "metadata": {},
   "outputs": [
    {
     "name": "stdout",
     "output_type": "stream",
     "text": [
      "pRS271 is the same length as its Benchling sequence.\n",
      "pRS272 is the same length as its Benchling sequence.\n"
     ]
    }
   ],
   "source": [
    "#Step 5: Verify new plasmid sequence lengths (optional)\n",
    "\n",
    "new_plasmids_known = []\n",
    "i = 0\n",
    "while i < len(digestion_ligation_5):\n",
    "    new_plasmid_known = QUEEN(record = str(digestion_ligation_5['benchling_of_final_plasmid'][i]),\n",
    "                                  dbtype = 'benchling',\n",
    "                                  product = str(digestion_ligation_5['plasmid_id'][i]))\n",
    "    new_plasmids_known.append(new_plasmid_known)\n",
    "    i = i+1\n",
    "\n",
    "i = 0\n",
    "while i < len(digestion_ligation_5):\n",
    "    if len(new_plasmids_known[i].seq) == len(ligated_plasmids[i].seq):\n",
    "                              print(digestion_ligation_5['plasmid_id'][i] + ' is the same length as its Benchling sequence.')\n",
    "    else:\n",
    "                              print(digestion_ligation_5['plasmid_id'][i] + ' is not the same length as its Benchling sequence')\n",
    "    i = i+1"
   ]
  },
  {
   "cell_type": "code",
   "execution_count": 1904,
   "id": "5be1467d-9e07-42cc-b213-498bd28fe63b",
   "metadata": {},
   "outputs": [
    {
     "name": "stdout",
     "output_type": "stream",
     "text": [
      "Downloaded QUEEN gbk files.\n"
     ]
    }
   ],
   "source": [
    "#Step 6: Output QUEEN gbk file\n",
    "\n",
    "i = 0\n",
    "while i < len(digestion_ligation_5):\n",
    "    ligated_plasmids[i].outputgbk(output = digestion_ligation_5['plasmid_id'][i]+ '.gbk')\n",
    "    i = i+1\n",
    "print('Downloaded QUEEN gbk files.')"
   ]
  },
  {
   "cell_type": "code",
   "execution_count": 1905,
   "id": "fac35f27-1fb7-4c20-b8c6-e317d3f68e56",
   "metadata": {},
   "outputs": [
    {
     "name": "stdout",
     "output_type": "stream",
     "text": [
      "QUEEN gbk files repaired.\n"
     ]
    }
   ],
   "source": [
    "#Step 7: Repair gbk locus ID (temporary fix; will be implemented in next update of QUEEN)\n",
    "\n",
    "i = 0\n",
    "while i < len(digestion_ligation_5):\n",
    "    gbk_file = './' + digestion_ligation_5['plasmid_id'][i]+ '.gbk'\n",
    "    handle = open(gbk_file, 'r')\n",
    "    record = GenBank.read(handle)\n",
    "    record.locus = digestion_ligation_5['plasmid_id'][i]\n",
    "    record.accession = ''\n",
    "    record.version = ''\n",
    "    record.definition = 'Plasmid was generated by QUEEN v1.2.0 (https://github.com/yachielab/QUEEN)'\n",
    "    record.organism = 'Synthetic DNA construct'\n",
    "    fout = open(gbk_file, 'w') # final gbk file name\n",
    "    fout.write(str(record))\n",
    "    fout.close()\n",
    "    i = i+1\n",
    "print('QUEEN gbk files repaired.')"
   ]
  },
  {
   "cell_type": "markdown",
   "id": "888ca051-9313-4e95-8ff0-2510b6fcddb2",
   "metadata": {},
   "source": [
    "### Digestion_Ligation_Assembly_6 Template"
   ]
  },
  {
   "cell_type": "code",
   "execution_count": 1906,
   "id": "773590c8-e3f8-409b-b49e-2ac02039017e",
   "metadata": {},
   "outputs": [],
   "source": [
    "#Set up the data for plasmids constructed by Digestion-Ligation_6\n",
    "assembly_method = digestion_ligation_assemblies['assembly_method'] #extract the assembly_method column from the digestion_ligations sheet\n",
    "digestion_ligation_6 = ['Digestion_Ligation_6'] #set up for extracting rows with Digestion_Ligation_6\n",
    "digestion_ligation_6 = digestion_ligation_assemblies.query('@digestion_ligation_6 in assembly_method') #extract only rows containing Digestion_Ligation_6\n",
    "digestion_ligation_6.index = range(len(digestion_ligation_6)) #re-index the extracted list to be in the order of only the rows containing Digestion_Ligation_6"
   ]
  },
  {
   "cell_type": "code",
   "execution_count": 1907,
   "id": "82b64380-0d10-4dc8-b545-8f77ea3f3bae",
   "metadata": {},
   "outputs": [],
   "source": [
    "#Set assembly steps\n",
    "\n",
    "#Step 1\n",
    "pn1 = processes['pn1'][0]\n",
    "pd1 = processes['pd1'][0]\n",
    "#Step 2\n",
    "pn2 = processes['pn2'][0]\n",
    "pd2 = processes['pd2'][0]\n",
    "#Step 3\n",
    "pn3 = processes['pn3'][0]\n",
    "pd3 = processes['pd3'][0]\n",
    "#Step 4\n",
    "pn4 = processes['pn4'][0]\n",
    "pd4 = processes['pd4'][0]"
   ]
  },
  {
   "cell_type": "code",
   "execution_count": 1908,
   "id": "ce771459-3c0a-4a80-979f-85617e7e42b2",
   "metadata": {},
   "outputs": [],
   "source": [
    "#Step 1: Digest backbone\n",
    "\n",
    "digested_backbones = []\n",
    "i = 0\n",
    "while i < len(digestion_ligation_6):\n",
    "    index_backbone = plasmid_name_list.index(digestion_ligation_6['backbone_id'][i])\n",
    "    re1 = digestion_ligation_6['re1'][i]\n",
    "    re2 = digestion_ligation_6['re2'][i]\n",
    "    digested_backbone = double_digest_backbone(plasmid_list[index_backbone],\n",
    "                                               re1, re2, pn1, pd1)\n",
    "    digested_backbones.append(digested_backbone)\n",
    "    i = i+1"
   ]
  },
  {
   "cell_type": "code",
   "execution_count": 1909,
   "id": "be6fffac-1aa1-44cd-98fb-c77191d21754",
   "metadata": {},
   "outputs": [],
   "source": [
    "#Step 2: Amplify insert\n",
    "\n",
    "pcr_products = []\n",
    "i = 0\n",
    "while i < len(digestion_ligation_6):\n",
    "    index_template = plasmid_name_list.index(digestion_ligation_6['template_id'][i])\n",
    "    index_fw = oligo_name_list.index(digestion_ligation_6['fw_primer'][i])\n",
    "    index_rv = oligo_name_list.index(digestion_ligation_6['rv_primer'][i])\n",
    "    insert = create_pcr_product_special(flipdna(plasmid_list[index_template]),\n",
    "                                        oligo_list[index_fw], \n",
    "                                        oligo_list[index_rv], \n",
    "                                        pn2, pd2)\n",
    "    pcr_products.append(insert)\n",
    "    i = i+1"
   ]
  },
  {
   "cell_type": "code",
   "execution_count": 1910,
   "id": "db005b59-9476-4ee6-8192-0295c6c67af8",
   "metadata": {},
   "outputs": [],
   "source": [
    "#Step 3: Digest insert\n",
    "\n",
    "digested_inserts = []\n",
    "i = 0\n",
    "while i < len(pcr_products):\n",
    "    re1 = digestion_ligation_6['re1'][i]\n",
    "    re2 = digestion_ligation_6['re2'][i]\n",
    "    digested_insert = double_digest_insert(pcr_products[i], re1, re2, pn3, pd3)\n",
    "    digested_inserts.append(digested_insert)\n",
    "    i = i+1"
   ]
  },
  {
   "cell_type": "code",
   "execution_count": 1911,
   "id": "e6aa5fd6-5aba-4954-9109-169213bc7363",
   "metadata": {},
   "outputs": [],
   "source": [
    "#Step 4: Ligate\n",
    " \n",
    "ligated_plasmids = []\n",
    "i = 0\n",
    "while i < len(digestion_ligation_6):\n",
    "    ligation = joindna(digested_inserts[i],\n",
    "                       digested_backbones[i],\n",
    "                       product = digestion_ligation_6['plasmid_id'][i],\n",
    "                       topology = \"circular\", pn=pn4, pd=pd4)\n",
    "    ligated_plasmids.append(ligation)\n",
    "    i = i+1"
   ]
  },
  {
   "cell_type": "code",
   "execution_count": 1697,
   "id": "286642d9-3669-4788-acb7-76ed9fb4300d",
   "metadata": {},
   "outputs": [
    {
     "name": "stdout",
     "output_type": "stream",
     "text": [
      "pKI076 is the same length as its Benchling sequence.\n",
      "pKI077 is the same length as its Benchling sequence.\n"
     ]
    }
   ],
   "source": [
    "#Step 5: Verify new plasmid sequence lengths (optional)\n",
    "\n",
    "new_plasmids_known = []\n",
    "i = 0\n",
    "while i < len(digestion_ligation_6):\n",
    "    new_plasmid_known = QUEEN(record = str(digestion_ligation_6['benchling_of_final_plasmid'][i]),\n",
    "                                  dbtype = 'benchling',\n",
    "                                  product = str(digestion_ligation_6['plasmid_id'][i]))\n",
    "    new_plasmids_known.append(new_plasmid_known)\n",
    "    i = i+1\n",
    "\n",
    "i = 0\n",
    "while i < len(digestion_ligation_6):\n",
    "    if len(new_plasmids_known[i].seq) == len(ligated_plasmids[i].seq):\n",
    "                              print(digestion_ligation_6['plasmid_id'][i] + ' is the same length as its Benchling sequence.')\n",
    "    else:\n",
    "                              print(digestion_ligation_6['plasmid_id'][i] + ' is not the same length as its Benchling sequence')\n",
    "    i = i+1"
   ]
  },
  {
   "cell_type": "code",
   "execution_count": 1912,
   "id": "7c73ecd9-3395-4513-abfb-8b9f761b1728",
   "metadata": {},
   "outputs": [
    {
     "name": "stdout",
     "output_type": "stream",
     "text": [
      "Downloaded QUEEN gbk files.\n"
     ]
    }
   ],
   "source": [
    "#Step 5: Output QUEEN gbk file\n",
    "\n",
    "i = 0\n",
    "while i < len(digestion_ligation_6):\n",
    "    ligated_plasmids[i].outputgbk(output = digestion_ligation_6['plasmid_id'][i]+ '.gbk')\n",
    "    i = i+1\n",
    "print('Downloaded QUEEN gbk files.')"
   ]
  },
  {
   "cell_type": "code",
   "execution_count": 1913,
   "id": "888e424f-97a7-4cfe-a1d6-9791c9811ced",
   "metadata": {},
   "outputs": [
    {
     "name": "stdout",
     "output_type": "stream",
     "text": [
      "QUEEN gbk files repaired.\n"
     ]
    }
   ],
   "source": [
    "#Step 6: Repair gbk locus ID (temporary fix; will be implemented in next update of QUEEN)\n",
    "\n",
    "i = 0\n",
    "while i < len(digestion_ligation_6):\n",
    "    gbk_file = './' + digestion_ligation_6['plasmid_id'][i]+ '.gbk'\n",
    "    handle = open(gbk_file, 'r')\n",
    "    record = GenBank.read(handle)\n",
    "    record.locus = digestion_ligation_6['plasmid_id'][i]\n",
    "    record.accession = ''\n",
    "    record.version = ''\n",
    "    record.definition = 'Plasmid was generated by QUEEN v1.2.0 (https://github.com/yachielab/QUEEN)'\n",
    "    record.organism = 'Synthetic DNA construct'\n",
    "    fout = open(gbk_file, 'w') # final gbk file name\n",
    "    fout.write(str(record))\n",
    "    fout.close()\n",
    "    i = i+1\n",
    "print('QUEEN gbk files repaired.')"
   ]
  },
  {
   "cell_type": "markdown",
   "id": "e6041395-4937-462c-a121-db0cdad75aef",
   "metadata": {},
   "source": [
    "### Golden_Gate_Assembly_1 Template"
   ]
  },
  {
   "cell_type": "code",
   "execution_count": 1914,
   "id": "99a31306-4f3f-4329-8870-404048b9a02e",
   "metadata": {},
   "outputs": [],
   "source": [
    "#Set up the data for plasmids constructed by Golden_Gate_Assembly_1\n",
    "assembly_method = golden_gate_assemblies['assembly_method'] #extract the assembly_method column from the golden_gate sheet\n",
    "golden_gate_assembly_1 = ['Golden_Gate_Assembly_1'] #set up for extracting rows with Golden_Gate_Assembly_1\n",
    "golden_gate_assembly_1 = golden_gate_assemblies.query('@golden_gate_assembly_1 in assembly_method') #extract only rows containing Golden_Gate_Assembly_1\n",
    "golden_gate_assembly_1.index = range(len(golden_gate_assembly_1)) #re-index the extracted list to be in the order of only the rows containing Golden_Gate_Assembly_1"
   ]
  },
  {
   "cell_type": "code",
   "execution_count": 1915,
   "id": "31b67409-f790-4f1c-8a21-b09e92b653af",
   "metadata": {},
   "outputs": [],
   "source": [
    "#Set assembly steps\n",
    "\n",
    "#Step 1\n",
    "pn1 = processes['pn1'][2]\n",
    "pd1 = processes['pd1'][2]\n",
    "#Step 2\n",
    "pn2 = processes['pn2'][2]\n",
    "pd2 = processes['pd2'][2]\n",
    "#Step 3\n",
    "pn3 = processes['pn3'][2]\n",
    "pd3 = processes['pd3'][2]\n",
    "#Step 4\n",
    "pn4 = processes['pn4'][2]\n",
    "pd4 = processes['pd4'][2]"
   ]
  },
  {
   "cell_type": "code",
   "execution_count": 1916,
   "id": "94df8347-dce4-4de6-aca3-de11669d17f5",
   "metadata": {},
   "outputs": [],
   "source": [
    "#Step 1: Digest backbone\n",
    "\n",
    "digested_backbones = []\n",
    "i = 0\n",
    "while i < len(golden_gate_assembly_1):\n",
    "    index_backbone = plasmid_name_list.index(golden_gate_assembly_1['backbone_id'][i])\n",
    "    re1 = golden_gate_assembly_1['re1'][i]\n",
    "    digested_backbone = typeIIS_digest_backbone(plasmid_list[index_backbone], re1, pn1, pd1)\n",
    "    digested_backbones.append(digested_backbone)\n",
    "    i = i+1"
   ]
  },
  {
   "cell_type": "code",
   "execution_count": 1917,
   "id": "2e378e99-28dd-480a-972a-fe99dfe312b3",
   "metadata": {},
   "outputs": [],
   "source": [
    "#Step 2: Amplify insert by template-free PCR\n",
    "\n",
    "pcr_products = []\n",
    "i = 0\n",
    "while i < len(golden_gate_assembly_1):\n",
    "    index_fw = oligo_name_list.index(golden_gate_assembly_1['fw_primer'][i])\n",
    "    index_rv = oligo_name_list.index(golden_gate_assembly_1['rv_primer'][i])\n",
    "    insert = template_free_pcr(oligo_list[index_fw], \n",
    "                               oligo_list[index_rv], \n",
    "                               pn2, pd2)\n",
    "    pcr_products.append(insert)\n",
    "    i = i+1"
   ]
  },
  {
   "cell_type": "code",
   "execution_count": 1918,
   "id": "8469f6ab-014a-47d3-b247-d55506b2e209",
   "metadata": {},
   "outputs": [],
   "source": [
    "#Step 3: Digest insert\n",
    "\n",
    "digested_inserts = []\n",
    "i = 0\n",
    "while i < len(golden_gate_assembly_1):\n",
    "    re1 = golden_gate_assembly_1['re1'][i]\n",
    "    digested_insert = typeIIS_digest_insert(pcr_products[i], re1, pn3, pd3)\n",
    "    digested_inserts.append(digested_insert)\n",
    "    i = i+1"
   ]
  },
  {
   "cell_type": "code",
   "execution_count": 1919,
   "id": "03269b92-6460-4f2c-ad6e-5464cb87eff0",
   "metadata": {},
   "outputs": [],
   "source": [
    "#Step 4: Assemble\n",
    " \n",
    "assembled_plasmids = []\n",
    "i = 0\n",
    "while i < len(golden_gate_assembly_1):\n",
    "    assembly = joindna(digested_inserts[i],\n",
    "                       digested_backbones[i],\n",
    "                       product = golden_gate_assembly_1['plasmid_id'][i],\n",
    "                       topology = \"circular\", pn=pn4, pd=pd4)\n",
    "    assembled_plasmids.append(assembly)\n",
    "    i = i+1"
   ]
  },
  {
   "cell_type": "code",
   "execution_count": 1558,
   "id": "8052c170-b412-490a-a696-9b49975f00bb",
   "metadata": {},
   "outputs": [
    {
     "name": "stdout",
     "output_type": "stream",
     "text": [
      "pLV_CS_117 is the same length as its Benchling sequence.\n"
     ]
    }
   ],
   "source": [
    "#Step 5: Verify new plasmid sequence lengths (optional)\n",
    "\n",
    "new_plasmids_known = []\n",
    "i = 0\n",
    "while i < len(golden_gate_assembly_1):\n",
    "    new_plasmid_known = QUEEN(record = str(golden_gate_assembly_1['benchling_of_final_plasmid'][i]),\n",
    "                                  dbtype = 'benchling',\n",
    "                                  product = str(golden_gate_assembly_1['plasmid_id'][i]))\n",
    "    new_plasmids_known.append(new_plasmid_known)\n",
    "    i = i+1\n",
    "\n",
    "i = 0\n",
    "while i < len(golden_gate_assembly_1):\n",
    "    if len(new_plasmids_known[i].seq) == len(assembled_plasmids[i].seq):\n",
    "                              print(golden_gate_assembly_1['plasmid_id'][i] + ' is the same length as its Benchling sequence.')\n",
    "    else:\n",
    "                              print(golden_gate_assembly_1['plasmid_id'][i] + ' is not the same length as its Benchling sequence')\n",
    "    i = i+1"
   ]
  },
  {
   "cell_type": "code",
   "execution_count": 1920,
   "id": "2cfc99e2-4543-4448-8ff3-6a3a28740264",
   "metadata": {},
   "outputs": [
    {
     "name": "stdout",
     "output_type": "stream",
     "text": [
      "Downloaded QUEEN gbk files.\n"
     ]
    }
   ],
   "source": [
    "#Step 6: Output QUEEN gbk file\n",
    "\n",
    "i = 0\n",
    "while i < len(golden_gate_assembly_1):\n",
    "    assembled_plasmids[i].outputgbk(output = golden_gate_assembly_1['plasmid_id'][i]+ '.gbk')\n",
    "    i = i+1\n",
    "print('Downloaded QUEEN gbk files.')"
   ]
  },
  {
   "cell_type": "code",
   "execution_count": 1921,
   "id": "28b50e25-c27f-4418-9d4c-6810443230da",
   "metadata": {},
   "outputs": [
    {
     "name": "stdout",
     "output_type": "stream",
     "text": [
      "QUEEN gbk files repaired.\n"
     ]
    }
   ],
   "source": [
    "#Step 7: Repair gbk locus ID (temporary fix; will be implemented in next update of QUEEN)\n",
    "\n",
    "i = 0\n",
    "while i < len(golden_gate_assembly_1):\n",
    "    gbk_file = './' + golden_gate_assembly_1['plasmid_id'][i]+ '.gbk'\n",
    "    handle = open(gbk_file, 'r')\n",
    "    record = GenBank.read(handle)\n",
    "    record.locus = golden_gate_assembly_1['plasmid_id'][i]\n",
    "    record.accession = ''\n",
    "    record.version = ''\n",
    "    record.definition = 'Plasmid was generated by QUEEN v1.2.0 (https://github.com/yachielab/QUEEN)'\n",
    "    record.organism = 'Synthetic DNA construct'\n",
    "    fout = open(gbk_file, 'w') # final gbk file name\n",
    "    fout.write(str(record))\n",
    "    fout.close()\n",
    "    i = i+1\n",
    "print('QUEEN gbk files repaired.')"
   ]
  },
  {
   "cell_type": "markdown",
   "id": "d6f5bb5b-662e-44c4-8c1a-eaa5cba8f647",
   "metadata": {},
   "source": [
    "### Golden_Gate_Assembly_2 Template"
   ]
  },
  {
   "cell_type": "code",
   "execution_count": 2404,
   "id": "ad3c415c-bfd5-4b34-975f-74e12f6b28ba",
   "metadata": {},
   "outputs": [],
   "source": [
    "#Set up the data for plasmids constructed by Golden_Gate_Assembly_2\n",
    "assembly_method = golden_gate_assemblies['assembly_method'] #extract the assembly_method column from the golden_gate sheet\n",
    "golden_gate_assembly_2 = ['Golden_Gate_Assembly_2'] #set up for extracting rows with Golden_Gate_Assembly_2\n",
    "golden_gate_assembly_2 = golden_gate_assemblies.query('@golden_gate_assembly_2 in assembly_method') #extract only rows containing Golden_Gate_Assembly_2\n",
    "golden_gate_assembly_2.index = range(len(golden_gate_assembly_2)) #re-index the extracted list to be in the order of only the rows containing Golden_Gate_Assembly_2"
   ]
  },
  {
   "cell_type": "code",
   "execution_count": 2405,
   "id": "7122203b-56a8-4b24-8e84-102ddb4105b7",
   "metadata": {},
   "outputs": [],
   "source": [
    "#Set assembly steps\n",
    "\n",
    "#Step 1\n",
    "pn1 = processes['pn1'][3]\n",
    "pd1 = processes['pd1'][3]\n",
    "#Step 2\n",
    "pn2 = processes['pn2'][3]\n",
    "pd2 = processes['pd2'][3]\n",
    "#Step 3\n",
    "pn3 = processes['pn3'][3]\n",
    "pd3 = processes['pd3'][3]"
   ]
  },
  {
   "cell_type": "code",
   "execution_count": 2406,
   "id": "48b7be4d-0b2c-495d-81bf-fe4b394a9f7a",
   "metadata": {},
   "outputs": [],
   "source": [
    "#Step 1: Digest backbone\n",
    "\n",
    "digested_backbones = []\n",
    "i = 0\n",
    "while i < len(golden_gate_assembly_2):\n",
    "    index_backbone = plasmid_name_list.index(golden_gate_assembly_2['backbone_id'][i])\n",
    "    re1 = golden_gate_assembly_2['re1'][i]\n",
    "    digested_backbone = typeIIS_digest_backbone(plasmid_list[index_backbone], re1, pn1, pd1)\n",
    "    digested_backbones.append(digested_backbone)\n",
    "    i = i+1"
   ]
  },
  {
   "cell_type": "code",
   "execution_count": 2407,
   "id": "6c4ebabe-24c7-4a92-94f2-f2e2d7345d2e",
   "metadata": {},
   "outputs": [],
   "source": [
    "#Step 2: Anneal ssDNAs\n",
    "\n",
    "annealed_DNA = []\n",
    "i = 0\n",
    "while i < len(golden_gate_assembly_2):\n",
    "    index_fw = oligo_name_list.index(golden_gate_assembly_2['fw_primer'][i])\n",
    "    index_rv = oligo_name_list.index(golden_gate_assembly_2['rv_primer'][i])\n",
    "    insert = anneal_oligos_object(oligo_list[index_fw],\n",
    "                                  oligo_list[index_rv],\n",
    "                                  pn2, pd2)\n",
    "    annealed_DNA.append(insert)\n",
    "    i = i+1"
   ]
  },
  {
   "cell_type": "code",
   "execution_count": 2408,
   "id": "822465bf-b55f-49ad-851d-ccfa5037b83d",
   "metadata": {},
   "outputs": [],
   "source": [
    "#Step 3: Assemble\n",
    " \n",
    "assembled_plasmids = []\n",
    "i = 0\n",
    "while i < len(golden_gate_assembly_2):\n",
    "    assembly = joindna(annealed_DNA[i],\n",
    "                       digested_backbones[i],\n",
    "                       product = golden_gate_assembly_2['plasmid_id'][i],\n",
    "                       topology = \"circular\", pn=pn3, pd=pd3)\n",
    "    assembled_plasmids.append(assembly)\n",
    "    i = i+1"
   ]
  },
  {
   "cell_type": "code",
   "execution_count": 2409,
   "id": "49fa9700-3e36-45d8-984f-b53355206937",
   "metadata": {},
   "outputs": [
    {
     "name": "stdout",
     "output_type": "stream",
     "text": [
      "Downloaded QUEEN gbk files.\n"
     ]
    }
   ],
   "source": [
    "#Step 4: Output QUEEN gbk file\n",
    "\n",
    "i = 0\n",
    "while i < len(golden_gate_assembly_2):\n",
    "    assembled_plasmids[i].outputgbk(output = golden_gate_assembly_2['plasmid_id'][i]+ '.gbk')\n",
    "    i = i+1\n",
    "print('Downloaded QUEEN gbk files.')"
   ]
  },
  {
   "cell_type": "code",
   "execution_count": 2410,
   "id": "f54b11ab-ef91-45f9-b9fd-f840bc75a2ed",
   "metadata": {},
   "outputs": [
    {
     "name": "stdout",
     "output_type": "stream",
     "text": [
      "QUEEN gbk files repaired.\n"
     ]
    }
   ],
   "source": [
    "#Step 5: Repair gbk locus ID (temporary fix; will be implemented in next update of QUEEN)\n",
    "\n",
    "i = 0\n",
    "while i < len(golden_gate_assembly_2):\n",
    "    gbk_file = './' + golden_gate_assembly_2['plasmid_id'][i]+ '.gbk'\n",
    "    handle = open(gbk_file, 'r')\n",
    "    record = GenBank.read(handle)\n",
    "    record.locus = golden_gate_assembly_2['plasmid_id'][i]\n",
    "    record.accession = ''\n",
    "    record.version = ''\n",
    "    record.definition = 'Plasmid was generated by QUEEN v1.2.0 (https://github.com/yachielab/QUEEN)'\n",
    "    record.organism = 'Synthetic DNA construct'\n",
    "    fout = open(gbk_file, 'w') # final gbk file name\n",
    "    fout.write(str(record))\n",
    "    fout.close()\n",
    "    i = i+1\n",
    "print('QUEEN gbk files repaired.')"
   ]
  },
  {
   "cell_type": "markdown",
   "id": "fe1fb082-6d34-462c-9e41-8f851654e9ff",
   "metadata": {},
   "source": [
    "### Golden_Gate_Assembly_3 Template"
   ]
  },
  {
   "cell_type": "code",
   "execution_count": 1930,
   "id": "32fe5944-4743-4a00-a701-4fa437786541",
   "metadata": {},
   "outputs": [],
   "source": [
    "#Set up the data for plasmids constructed by Golden_Gate_Assembly_3\n",
    "assembly_method = golden_gate_assemblies['assembly_method'] #extract the assembly_method column from the golden_gate sheet\n",
    "golden_gate_assembly_3 = ['Golden_Gate_Assembly_3'] #set up for extracting rows with Golden_Gate_Assembly_3\n",
    "golden_gate_assembly_3 = golden_gate_assemblies.query('@golden_gate_assembly_3 in assembly_method') #extract only rows containing Golden_Gate_Assembly_3\n",
    "golden_gate_assembly_3.index = range(len(golden_gate_assembly_3)) #re-index the extracted list to be in the order of only the rows containing Golden_Gate_Assembly_3"
   ]
  },
  {
   "cell_type": "code",
   "execution_count": 1931,
   "id": "86347d46-a295-48dd-89d3-26a9e3b395df",
   "metadata": {},
   "outputs": [],
   "source": [
    "#Set assembly steps\n",
    "\n",
    "#Step 1\n",
    "pn1 = processes['pn1'][3]\n",
    "pd1 = processes['pd1'][3]\n",
    "#Step 2\n",
    "pn2 = processes['pn2'][3]\n",
    "pd2 = processes['pd2'][3]\n",
    "#Step 3\n",
    "pn3 = processes['pn3'][3]\n",
    "pd3 = processes['pd3'][3]"
   ]
  },
  {
   "cell_type": "code",
   "execution_count": 1932,
   "id": "281839e1-0395-4443-8b4f-ad28f91917af",
   "metadata": {},
   "outputs": [],
   "source": [
    "#Step 1: Digest backbone\n",
    "\n",
    "digested_backbones = []\n",
    "i = 0\n",
    "while i < len(golden_gate_assembly_3):\n",
    "    index_backbone = plasmid_name_list.index(golden_gate_assembly_3['backbone_id'][i])\n",
    "    re1 = golden_gate_assembly_3['re1'][i]\n",
    "    digested_backbone = typeIIS_digest_backbone(plasmid_list[index_backbone], re1, pn1, pd1)\n",
    "    digested_backbones.append(digested_backbone)\n",
    "    i = i+1"
   ]
  },
  {
   "cell_type": "code",
   "execution_count": 1933,
   "id": "2bf0cc3e-63d2-46bd-acbf-ac4f825f34dd",
   "metadata": {},
   "outputs": [],
   "source": [
    "#Step 2: Anneal ssDNAs\n",
    "\n",
    "annealed_DNA = []\n",
    "i = 0\n",
    "while i < len(golden_gate_assembly_3):\n",
    "    index_fw = oligo_name_list.index(golden_gate_assembly_3['fw_primer'][i])\n",
    "    index_rv = oligo_name_list.index(golden_gate_assembly_3['rv_primer'][i])\n",
    "    insert = anneal_oligos_object_short(oligo_list[index_fw],\n",
    "                                        oligo_list[index_rv],\n",
    "                                        pn2, pd2)\n",
    "    annealed_DNA.append(insert)\n",
    "    i = i+1"
   ]
  },
  {
   "cell_type": "code",
   "execution_count": 1934,
   "id": "418c5cb0-b6cd-4f3f-bb7e-0653434a7269",
   "metadata": {},
   "outputs": [],
   "source": [
    "#Step 3: Assemble\n",
    " \n",
    "assembled_plasmids = []\n",
    "i = 0\n",
    "while i < len(golden_gate_assembly_3):\n",
    "    assembly = joindna(annealed_DNA[i],\n",
    "                       digested_backbones[i],\n",
    "                       product = golden_gate_assembly_3['plasmid_id'][i],\n",
    "                       topology = \"circular\", pn=pn3, pd=pd3)\n",
    "    assembled_plasmids.append(assembly)\n",
    "    i = i+1"
   ]
  },
  {
   "cell_type": "code",
   "execution_count": 1935,
   "id": "4aa02824-5046-42b5-a55f-bec85e83496f",
   "metadata": {},
   "outputs": [
    {
     "name": "stdout",
     "output_type": "stream",
     "text": [
      "Downloaded QUEEN gbk files.\n"
     ]
    }
   ],
   "source": [
    "#Step 4: Output QUEEN gbk file\n",
    "\n",
    "i = 0\n",
    "while i < len(golden_gate_assembly_3):\n",
    "    assembled_plasmids[i].outputgbk(output = golden_gate_assembly_3['plasmid_id'][i]+ '.gbk')\n",
    "    i = i+1\n",
    "print('Downloaded QUEEN gbk files.')"
   ]
  },
  {
   "cell_type": "code",
   "execution_count": 1936,
   "id": "c1e0122c-4ef0-4ab0-a895-8e12b274bac4",
   "metadata": {},
   "outputs": [
    {
     "name": "stdout",
     "output_type": "stream",
     "text": [
      "QUEEN gbk files repaired.\n"
     ]
    }
   ],
   "source": [
    "#Step 5: Repair gbk locus ID (temporary fix; will be implemented in next update of QUEEN)\n",
    "\n",
    "i = 0\n",
    "while i < len(golden_gate_assembly_3):\n",
    "    gbk_file = './' + golden_gate_assembly_3['plasmid_id'][i]+ '.gbk'\n",
    "    handle = open(gbk_file, 'r')\n",
    "    record = GenBank.read(handle)\n",
    "    record.locus = golden_gate_assembly_3['plasmid_id'][i]\n",
    "    record.accession = ''\n",
    "    record.version = ''\n",
    "    record.definition = 'Plasmid was generated by QUEEN v1.2.0 (https://github.com/yachielab/QUEEN)'\n",
    "    record.organism = 'Synthetic DNA construct'\n",
    "    fout = open(gbk_file, 'w') # final gbk file name\n",
    "    fout.write(str(record))\n",
    "    fout.close()\n",
    "    i = i+1\n",
    "print('QUEEN gbk files repaired.')"
   ]
  },
  {
   "cell_type": "markdown",
   "id": "b07843ad-8796-492c-8076-7e5fe0fe5f48",
   "metadata": {},
   "source": [
    "### Golden_Gate_Assembly_4 Template"
   ]
  },
  {
   "cell_type": "code",
   "execution_count": 1937,
   "id": "b1b07881-fc05-489a-b4d9-ea8764ed9064",
   "metadata": {},
   "outputs": [],
   "source": [
    "#Set up the data for plasmids constructed by Golden_Gate_Assembly_4\n",
    "assembly_method = golden_gate_assemblies['assembly_method'] #extract the assembly_method column from the golden_gate sheet\n",
    "golden_gate_assembly_4 = ['Golden_Gate_Assembly_4'] #set up for extracting rows with Golden_Gate_Assembly_4\n",
    "golden_gate_assembly_4 = golden_gate_assemblies.query('@golden_gate_assembly_4 in assembly_method') #extract only rows containing Golden_Gate_Assembly_4\n",
    "golden_gate_assembly_4.index = range(len(golden_gate_assembly_4)) #re-index the extracted list to be in the order of only the rows containing Golden_Gate_Assembly_4"
   ]
  },
  {
   "cell_type": "code",
   "execution_count": 1938,
   "id": "8fe09441-0043-4709-9238-12720b2f1d90",
   "metadata": {},
   "outputs": [],
   "source": [
    "#Set assembly steps\n",
    "\n",
    "#Step 1\n",
    "pn1 = processes['pn1'][3]\n",
    "pd1 = processes['pd1'][3] + ' Position 5516 in the backbone plasmid pKI188 was manually modified from G -> A to account for an error in the insert upstream overhang design (which is ATAA instead of ATAG).'\n",
    "#Step 2\n",
    "pn2 = processes['pn2'][3]\n",
    "pd2 = processes['pd2'][3]\n",
    "#Step 3\n",
    "pn3 = processes['pn3'][3]\n",
    "pd3 = processes['pd3'][3]"
   ]
  },
  {
   "cell_type": "code",
   "execution_count": 1939,
   "id": "ac8669ff-31f4-407c-a8ff-b42bafd63015",
   "metadata": {},
   "outputs": [],
   "source": [
    "#Step 1: Digest backbone\n",
    "\n",
    "digested_backbones = []\n",
    "i = 0\n",
    "while i < len(golden_gate_assembly_4):\n",
    "    re1 = golden_gate_assembly_4['re1'][i]\n",
    "    digested_backbone = typeIIS_digest_backbone(pKI188, re1, pn1, pd1)\n",
    "    digested_backbones.append(digested_backbone)\n",
    "    i = i+1\n",
    "    \n",
    "#Modify position 5516 in the backbone plasmid pKI188 from G -> A, to account for an error in the insert overhang design (which is ATAA, instead of ATAG).\n",
    "\n",
    "QUEEN(seq='T----/ATATT', product='modification')\n",
    "modified_backbones = []\n",
    "i = 0\n",
    "while i < len(golden_gate_assembly_4):\n",
    "    modified_backbone_1 = cropdna(digested_backbones[i], 0, 10735, pn=pn1, pd=pd1)\n",
    "    modified_backbone_2 = joindna(modified_backbone_1, modification, pn=pn1, pd=pd1)\n",
    "    modified_backbones.append(modified_backbone_2)\n",
    "    i = i+1"
   ]
  },
  {
   "cell_type": "code",
   "execution_count": 1940,
   "id": "efbf9a2d-cd3c-472f-b2d1-b8afb2eafc8a",
   "metadata": {},
   "outputs": [],
   "source": [
    "#Step 2: Anneal ssDNAs\n",
    "\n",
    "annealed_DNA = []\n",
    "i = 0\n",
    "while i < len(golden_gate_assembly_4):\n",
    "    index_fw = oligo_name_list.index(golden_gate_assembly_4['fw_primer'][i])\n",
    "    index_rv = oligo_name_list.index(golden_gate_assembly_4['rv_primer'][i])\n",
    "    insert = anneal_oligos_object(oligo_list[index_fw],\n",
    "                                  oligo_list[index_rv],\n",
    "                                  pn2, pd2)\n",
    "    annealed_DNA.append(insert)\n",
    "    i = i+1"
   ]
  },
  {
   "cell_type": "code",
   "execution_count": 1941,
   "id": "aadb10e4-f74b-4356-b601-962df1bf5b2c",
   "metadata": {},
   "outputs": [],
   "source": [
    "#Step 3: Assemble\n",
    " \n",
    "assembled_plasmids = []\n",
    "i = 0\n",
    "while i < len(golden_gate_assembly_4):\n",
    "    assembly = joindna(annealed_DNA[i],\n",
    "                       modified_backbones[i],\n",
    "                       product = golden_gate_assembly_4['plasmid_id'][i],\n",
    "                       topology = \"circular\", pn=pn3, pd=pd3)\n",
    "    assembled_plasmids.append(assembly)\n",
    "    i = i+1"
   ]
  },
  {
   "cell_type": "code",
   "execution_count": 1942,
   "id": "ff6b8323-0b36-45c1-a7ae-5720eadc9749",
   "metadata": {},
   "outputs": [
    {
     "name": "stdout",
     "output_type": "stream",
     "text": [
      "Downloaded QUEEN gbk files.\n"
     ]
    }
   ],
   "source": [
    "#Step 4: Output QUEEN gbk file\n",
    "\n",
    "i = 0\n",
    "while i < len(golden_gate_assembly_4):\n",
    "    assembled_plasmids[i].outputgbk(output = golden_gate_assembly_4['plasmid_id'][i]+ '.gbk')\n",
    "    i = i+1\n",
    "print('Downloaded QUEEN gbk files.')"
   ]
  },
  {
   "cell_type": "code",
   "execution_count": null,
   "id": "2346f6e1-59dd-4eca-938b-ba618f9b899b",
   "metadata": {},
   "outputs": [],
   "source": [
    "#Step 5: Repair gbk locus ID (temporary fix; will be implemented in next update of QUEEN)\n",
    "\n",
    "i = 0\n",
    "while i < len(golden_gate_assembly_4):\n",
    "    gbk_file = './' + golden_gate_assembly_4['plasmid_id'][i]+ '.gbk'\n",
    "    handle = open(gbk_file, 'r')\n",
    "    record = GenBank.read(handle)\n",
    "    record.locus = golden_gate_assembly_4['plasmid_id'][i]\n",
    "    record.accession = ''\n",
    "    record.version = ''\n",
    "    record.definition = 'Plasmid was generated by QUEEN v1.2.0 (https://github.com/yachielab/QUEEN)'\n",
    "    record.organism = 'Synthetic DNA construct'\n",
    "    fout = open(gbk_file, 'w') # final gbk file name\n",
    "    fout.write(str(record))\n",
    "    fout.close()\n",
    "    i = i+1\n",
    "print('QUEEN gbk files repaired.')"
   ]
  },
  {
   "cell_type": "markdown",
   "id": "569c09a3-a0eb-4064-9ced-b300df4dd264",
   "metadata": {},
   "source": [
    "### Gibson_Assembly_2frag_1 Template"
   ]
  },
  {
   "cell_type": "code",
   "execution_count": 2293,
   "id": "ce864644-67c4-49fd-9860-e2a9b410a439",
   "metadata": {},
   "outputs": [],
   "source": [
    "#Set up the data for plasmids constructed by Gibson_Assembly_2frag_1\n",
    "assembly_method = gibson_assemblies['assembly_method'] #extract the assembly_method column from the gibson sheet\n",
    "gibson_assembly_2frag_1 = ['Gibson_Assembly_2frag_1'] #set up for extracting rows with Gibson_Assembly_2frag_1\n",
    "gibson_assembly_2frag_1 = gibson_assemblies.query('@gibson_assembly_2frag_1 in assembly_method') #extract only rows containing Gibson_Assembly_2frag_1\n",
    "gibson_assembly_2frag_1.index = range(len(gibson_assembly_2frag_1)) #re-index the extracted list to be in the order of only the rows containing Gibson_Assembly_2frag_1"
   ]
  },
  {
   "cell_type": "code",
   "execution_count": 2294,
   "id": "b5889370-7cab-4ff1-bdfe-5dc256733a40",
   "metadata": {},
   "outputs": [],
   "source": [
    "#Set assembly steps\n",
    "\n",
    "#Step 1\n",
    "pn1 = processes['pn1'][4]\n",
    "pd1 = processes['pd1'][4]\n",
    "#Step 2\n",
    "pn2 = processes['pn2'][4]\n",
    "pd2 = processes['pd2'][4]\n",
    "#Step 3\n",
    "pn3 = processes['pn3'][4]\n",
    "pd3 = processes['pd3'][4]"
   ]
  },
  {
   "cell_type": "code",
   "execution_count": 2295,
   "id": "6f35b8f7-f222-4b0d-9052-95586d98f321",
   "metadata": {},
   "outputs": [],
   "source": [
    "#Step 1: Digest backbone\n",
    "\n",
    "digested_backbones = []\n",
    "i = 0\n",
    "while i < len(gibson_assembly_2frag_1):\n",
    "    index_backbone = plasmid_name_list.index(gibson_assembly_2frag_1['backbone_id'][i])\n",
    "    re1 = gibson_assembly_2frag_1['re1'][i]\n",
    "    re2 = gibson_assembly_2frag_1['re2'][i]\n",
    "    digested_backbone = double_digest_backbone(plasmid_list[index_backbone],\n",
    "                                               re1, re2, pn1, pd1)\n",
    "    digested_backbones.append(digested_backbone)\n",
    "    i = i+1"
   ]
  },
  {
   "cell_type": "code",
   "execution_count": 2296,
   "id": "86bb2593-b252-4784-965b-4507b4eb8f0c",
   "metadata": {},
   "outputs": [],
   "source": [
    "#Step 2: Amplify insert\n",
    "\n",
    "pcr_products = []\n",
    "i = 0\n",
    "while i < len(gibson_assembly_2frag_1):\n",
    "    index_template = plasmid_name_list.index(gibson_assembly_2frag_1['template_id'][i])\n",
    "    index_fw = oligo_name_list.index(gibson_assembly_2frag_1['fw_primer'][i])\n",
    "    index_rv = oligo_name_list.index(gibson_assembly_2frag_1['rv_primer'][i])\n",
    "    insert = create_pcr_product(plasmid_list[index_template],\n",
    "                                        oligo_list[index_fw], \n",
    "                                        oligo_list[index_rv], \n",
    "                                        pn2, pd2)\n",
    "    pcr_products.append(insert)\n",
    "    i = i+1"
   ]
  },
  {
   "cell_type": "code",
   "execution_count": 2297,
   "id": "fb76d216-366d-4b6f-aa59-07e85fe3c754",
   "metadata": {},
   "outputs": [],
   "source": [
    "#Step 3: Assemble\n",
    "\n",
    "assembled_plasmids = []\n",
    "i = 0\n",
    "while i < len(gibson_assembly_2frag_1):\n",
    "    gibson = gibson_assembly(pcr_products[i],\n",
    "                             digested_backbones[i],\n",
    "                             assembly_name = gibson_assembly_2frag_1['plasmid_id'][i],\n",
    "                             pn=pn3, pd=pd3)\n",
    "    assembled_plasmids.append(gibson)\n",
    "    i = i+1"
   ]
  },
  {
   "cell_type": "code",
   "execution_count": 2010,
   "id": "53ea9546-fcd8-4d19-a2f8-f875472acb64",
   "metadata": {},
   "outputs": [
    {
     "name": "stdout",
     "output_type": "stream",
     "text": [
      "pSI_218 is the same length as its Benchling sequence.\n",
      "pLV_CS_060 is the same length as its Benchling sequence.\n",
      "pLV_CS_154 is not the same length as its Benchling sequence\n",
      "pLV_CS_155 is not the same length as its Benchling sequence\n",
      "pRS232 is the same length as its Benchling sequence.\n",
      "pRS233 is the same length as its Benchling sequence.\n",
      "pRS234 is the same length as its Benchling sequence.\n",
      "pKI086 is the same length as its Benchling sequence.\n"
     ]
    }
   ],
   "source": [
    "#Step 4: Verify new plasmid sequence lengths (optional)\n",
    "\n",
    "new_plasmids_known = []\n",
    "i = 0\n",
    "while i < len(gibson_assembly_2frag_1):\n",
    "    new_plasmid_known = QUEEN(record = str(gibson_assembly_2frag_1['benchling_of_final_plasmid'][i]),\n",
    "                                  dbtype = 'benchling',\n",
    "                                  product = str(gibson_assembly_2frag_1['plasmid_id'][i]))\n",
    "    new_plasmids_known.append(new_plasmid_known)\n",
    "    i = i+1\n",
    "\n",
    "i = 0\n",
    "while i < len(gibson_assembly_2frag_1):\n",
    "    if len(new_plasmids_known[i].seq) == len(assembled_plasmids[i].seq):\n",
    "                              print(gibson_assembly_2frag_1['plasmid_id'][i] + ' is the same length as its Benchling sequence.')\n",
    "    else:\n",
    "                              print(gibson_assembly_2frag_1['plasmid_id'][i] + ' is not the same length as its Benchling sequence')\n",
    "    i = i+1"
   ]
  },
  {
   "cell_type": "code",
   "execution_count": 2017,
   "id": "cbc57522-a863-47c7-8ef2-1cb7a2e25764",
   "metadata": {},
   "outputs": [
    {
     "name": "stdout",
     "output_type": "stream",
     "text": [
      "Downloaded QUEEN gbk files.\n"
     ]
    }
   ],
   "source": [
    "#Step 5: Output QUEEN gbk file\n",
    "\n",
    "annot_dict = {\n",
    "              \"version\"   :\"\", \n",
    "              \"accession\" :\"\", \n",
    "              \"organism\"  :\"Synthetic DNA construct\",\n",
    "              \"molecule_type\":\"DNA\",\n",
    "              \"topology\": \"circular\"\n",
    "              }\n",
    "\n",
    "i = 0\n",
    "while i < len(gibson_assembly_2frag_1):\n",
    "    assembled_plasmids[i].record.description = \"Plasmid was generated by QUEEN v1.2.0 (https://github.com/yachielab/QUEEN)\"\n",
    "    assembled_plasmids[i].outputgbk(output = gibson_assembly_2frag_1['plasmid_id'][i]+ '.gbk', record_id = gibson_assembly_2frag_1['plasmid_id'][i], annotation=annot_dict)\n",
    "    i = i+1\n",
    "print('Downloaded QUEEN gbk files.')"
   ]
  },
  {
   "cell_type": "markdown",
   "id": "fd6e5748-04e4-49a8-9fb7-fcb930681755",
   "metadata": {},
   "source": [
    "### Gibson_Assembly_2frag_2 Template"
   ]
  },
  {
   "cell_type": "code",
   "execution_count": 2019,
   "id": "67ffec7b-4d57-4ca4-a5be-6e31a1dd5d8f",
   "metadata": {},
   "outputs": [],
   "source": [
    "#Set up the data for plasmids constructed by Gibson_Assembly_2frag_2\n",
    "assembly_method = gibson_assemblies['assembly_method'] #extract the assembly_method column from the gibson sheet\n",
    "gibson_assembly_2frag_2 = ['Gibson_Assembly_2frag_2'] #set up for extracting rows with Gibson_Assembly_2frag_2\n",
    "gibson_assembly_2frag_2 = gibson_assemblies.query('@gibson_assembly_2frag_2 in assembly_method') #extract only rows containing Gibson_Assembly_2frag_2\n",
    "gibson_assembly_2frag_2.index = range(len(gibson_assembly_2frag_2)) #re-index the extracted list to be in the order of only the rows containing Gibson_Assembly_2frag_2"
   ]
  },
  {
   "cell_type": "code",
   "execution_count": 2020,
   "id": "a0861822-cf12-4c76-b1a1-a5225e91f992",
   "metadata": {},
   "outputs": [],
   "source": [
    "#Set assembly steps\n",
    "\n",
    "#Step 1\n",
    "pn1 = processes['pn1'][5]\n",
    "pd1 = processes['pd1'][5]\n",
    "#Step 2\n",
    "pn2 = processes['pn2'][5]\n",
    "pd2 = processes['pd2'][5]\n",
    "#Step 3\n",
    "pn3 = processes['pn3'][5]\n",
    "pd3 = processes['pd3'][5]"
   ]
  },
  {
   "cell_type": "code",
   "execution_count": 2021,
   "id": "6c088ee5-ff47-4175-a19e-b9a9561e4087",
   "metadata": {},
   "outputs": [],
   "source": [
    "#Step 1: Amplify backbone\n",
    "\n",
    "pcr_products1 = []\n",
    "i = 0\n",
    "while i < len(gibson_assembly_2frag_2):\n",
    "    index_template = plasmid_name_list.index(gibson_assembly_2frag_2['template_id'][i])\n",
    "    index_fw = oligo_name_list.index(gibson_assembly_2frag_2['fw_primer'][i])\n",
    "    index_rv = oligo_name_list.index(gibson_assembly_2frag_2['rv_primer'][i])\n",
    "    insert = create_pcr_product(plasmid_list[index_template],\n",
    "                                        oligo_list[index_fw], \n",
    "                                        oligo_list[index_rv], \n",
    "                                        pn1, pd1)\n",
    "    pcr_products1.append(insert)\n",
    "    i = i+1"
   ]
  },
  {
   "cell_type": "code",
   "execution_count": 2022,
   "id": "17685d2b-fad1-4443-992c-01395d1ab252",
   "metadata": {},
   "outputs": [],
   "source": [
    "#Step 2: Amplify insert\n",
    "\n",
    "pcr_products2 = []\n",
    "i = 0\n",
    "while i < len(gibson_assembly_2frag_2):\n",
    "    index_template = plasmid_name_list.index(gibson_assembly_2frag_2['template_id2'][i])\n",
    "    index_fw = oligo_name_list.index(gibson_assembly_2frag_2['fw_primer2'][i])\n",
    "    index_rv = oligo_name_list.index(gibson_assembly_2frag_2['rv_primer2'][i])\n",
    "    insert = create_pcr_product(plasmid_list[index_template],\n",
    "                                        oligo_list[index_fw], \n",
    "                                        oligo_list[index_rv], \n",
    "                                        pn2, pd2)\n",
    "    pcr_products2.append(insert)\n",
    "    i = i+1"
   ]
  },
  {
   "cell_type": "code",
   "execution_count": 2023,
   "id": "17b38b49-d3d5-43c8-9034-6da06bf8ac4f",
   "metadata": {},
   "outputs": [],
   "source": [
    "#Step 3: Assemble\n",
    "\n",
    "assembled_plasmids = []\n",
    "i = 0\n",
    "while i < len(gibson_assembly_2frag_2):\n",
    "    gibson = gibson_assembly(pcr_products1[i],\n",
    "                             pcr_products2[i],\n",
    "                             assembly_name = gibson_assembly_2frag_2['plasmid_id'][i],\n",
    "                             pn=pn3, pd=pd3)\n",
    "    assembled_plasmids.append(gibson)\n",
    "    i = i+1"
   ]
  },
  {
   "cell_type": "code",
   "execution_count": null,
   "id": "88a2963b-7b33-468d-80b0-e46ee555223b",
   "metadata": {},
   "outputs": [],
   "source": [
    "#Step 4: Verify new plasmid sequence lengths (optional)\n",
    "\n",
    "new_plasmids_known = []\n",
    "i = 0\n",
    "while i < len(gibson_assembly_2frag_2):\n",
    "    new_plasmid_known = QUEEN(record = str(gibson_assembly_2frag_2['benchling_of_final_plasmid'][i]),\n",
    "                                  dbtype = 'benchling',\n",
    "                                  product = str(gibson_assembly_2frag_2['plasmid_id'][i]))\n",
    "    new_plasmids_known.append(new_plasmid_known)\n",
    "    i = i+1\n",
    "\n",
    "i = 0\n",
    "while i < len(gibson_assembly_2frag_2):\n",
    "    if len(new_plasmids_known[i].seq) == len(assembled_plasmids[i].seq):\n",
    "                              print(gibson_assembly_2frag_2['plasmid_id'][i] + ' is the same length as its Benchling sequence.')\n",
    "    else:\n",
    "                              print(gibson_assembly_2frag_2['plasmid_id'][i] + ' is not the same length as its Benchling sequence')\n",
    "    i = i+1"
   ]
  },
  {
   "cell_type": "code",
   "execution_count": 2025,
   "id": "b621467a-af95-4701-8e41-81aeb6d7d96b",
   "metadata": {},
   "outputs": [
    {
     "name": "stdout",
     "output_type": "stream",
     "text": [
      "Downloaded QUEEN gbk files.\n"
     ]
    }
   ],
   "source": [
    "#Step 5: Output QUEEN gbk file\n",
    "\n",
    "annot_dict = {\n",
    "              \"version\"   :\"\", \n",
    "              \"accession\" :\"\", \n",
    "              \"organism\"  :\"Synthetic DNA construct\",\n",
    "              \"molecule_type\":\"DNA\",\n",
    "              \"topology\": \"circular\"\n",
    "              }\n",
    "\n",
    "i = 0\n",
    "while i < len(gibson_assembly_2frag_2):\n",
    "    assembled_plasmids[i].record.description = \"Plasmid was generated by QUEEN v1.2.0 (https://github.com/yachielab/QUEEN)\"\n",
    "    assembled_plasmids[i].outputgbk(output = gibson_assembly_2frag_2['plasmid_id'][i]+ '.gbk', record_id = gibson_assembly_2frag_2['plasmid_id'][i], annotation=annot_dict)\n",
    "    i = i+1\n",
    "print('Downloaded QUEEN gbk files.')"
   ]
  },
  {
   "cell_type": "markdown",
   "id": "35b0400a-8e54-4f0a-b5df-090b2cee376f",
   "metadata": {},
   "source": [
    "### Gibson_Assembly_2frag_3 Template"
   ]
  },
  {
   "cell_type": "code",
   "execution_count": 2096,
   "id": "4a4df4ed-4201-432a-bc47-ac955038c7b0",
   "metadata": {},
   "outputs": [],
   "source": [
    "#Set up the data for plasmids constructed by Gibson_Assembly_2frag_3\n",
    "assembly_method = gibson_assemblies['assembly_method'] #extract the assembly_method column from the gibson sheet\n",
    "gibson_assembly_2frag_3 = ['Gibson_Assembly_2frag_3'] #set up for extracting rows with Gibson_Assembly_2frag_3\n",
    "gibson_assembly_2frag_3 = gibson_assemblies.query('@gibson_assembly_2frag_3 in assembly_method') #extract only rows containing Gibson_Assembly_2frag_3\n",
    "gibson_assembly_2frag_3.index = range(len(gibson_assembly_2frag_3)) #re-index the extracted list to be in the order of only the rows containing Gibson_Assembly_2frag_3"
   ]
  },
  {
   "cell_type": "code",
   "execution_count": 2097,
   "id": "4d5aed0c-f4a9-4af8-ae01-f35290e8c349",
   "metadata": {},
   "outputs": [],
   "source": [
    "#Set assembly steps\n",
    "\n",
    "#Step 1\n",
    "pn1 = processes['pn1'][5]\n",
    "pd1 = processes['pd1'][5]\n",
    "#Step 2\n",
    "pn2 = processes['pn2'][5]\n",
    "pd2 = processes['pd2'][5]\n",
    "#Step 3\n",
    "pn3 = processes['pn3'][5]\n",
    "pd3 = processes['pd3'][5]"
   ]
  },
  {
   "cell_type": "code",
   "execution_count": 2098,
   "id": "eb282145-2d4b-4d6b-8ebb-e4888a615447",
   "metadata": {},
   "outputs": [],
   "source": [
    "#Step 1: Amplify backbone\n",
    "\n",
    "pcr_products1 = []\n",
    "i = 0\n",
    "while i < len(gibson_assembly_2frag_3):\n",
    "    index_template = plasmid_name_list.index(gibson_assembly_2frag_3['template_id'][i])\n",
    "    index_fw = oligo_name_list.index(gibson_assembly_2frag_3['fw_primer'][i])\n",
    "    index_rv = oligo_name_list.index(gibson_assembly_2frag_3['rv_primer'][i])\n",
    "    insert = create_pcr_product_special(plasmid_list[index_template],\n",
    "                                        oligo_list[index_fw], \n",
    "                                        oligo_list[index_rv], \n",
    "                                        pn1, pd1)\n",
    "    pcr_products1.append(insert)\n",
    "    i = i+1"
   ]
  },
  {
   "cell_type": "code",
   "execution_count": 2099,
   "id": "d69c12b0-f471-493c-a0ff-b2847a88f0da",
   "metadata": {},
   "outputs": [],
   "source": [
    "#Step 2: Amplify insert\n",
    "\n",
    "pcr_products2 = []\n",
    "i = 0\n",
    "while i < len(gibson_assembly_2frag_3):\n",
    "    index_template = plasmid_name_list.index(gibson_assembly_2frag_3['template_id2'][i])\n",
    "    index_fw = oligo_name_list.index(gibson_assembly_2frag_3['fw_primer2'][i])\n",
    "    index_rv = oligo_name_list.index(gibson_assembly_2frag_3['rv_primer2'][i])\n",
    "    insert = create_pcr_product_special(plasmid_list[index_template],\n",
    "                                        oligo_list[index_fw], \n",
    "                                        oligo_list[index_rv], \n",
    "                                        pn2, pd2)\n",
    "    pcr_products2.append(insert)\n",
    "    i = i+1"
   ]
  },
  {
   "cell_type": "code",
   "execution_count": 2100,
   "id": "c945bd29-f448-4d76-b68b-efce28feda31",
   "metadata": {},
   "outputs": [],
   "source": [
    "#Step 3: Assemble\n",
    "\n",
    "assembled_plasmids = []\n",
    "i = 0\n",
    "while i < len(gibson_assembly_2frag_3):\n",
    "    gibson = gibson_assembly(pcr_products1[i],\n",
    "                             pcr_products2[i],\n",
    "                             assembly_name = gibson_assembly_2frag_3['plasmid_id'][i],\n",
    "                             pn=pn3, pd=pd3)\n",
    "    assembled_plasmids.append(gibson)\n",
    "    i = i+1"
   ]
  },
  {
   "cell_type": "code",
   "execution_count": 2095,
   "id": "0e5e1d93-ce90-4beb-b6c8-b9b7d67615c1",
   "metadata": {},
   "outputs": [
    {
     "name": "stdout",
     "output_type": "stream",
     "text": [
      "pKI241 is the same length as its Benchling sequence.\n",
      "pKI242 is the same length as its Benchling sequence.\n"
     ]
    }
   ],
   "source": [
    "#Step 4: Verify new plasmid sequence lengths (optional)\n",
    "\n",
    "new_plasmids_known = []\n",
    "i = 0\n",
    "while i < len(gibson_assembly_2frag_3):\n",
    "    new_plasmid_known = QUEEN(record = str(gibson_assembly_2frag_3['benchling_of_final_plasmid'][i]),\n",
    "                                  dbtype = 'benchling',\n",
    "                                  product = str(gibson_assembly_2frag_3['plasmid_id'][i]))\n",
    "    new_plasmids_known.append(new_plasmid_known)\n",
    "    i = i+1\n",
    "\n",
    "i = 0\n",
    "while i < len(gibson_assembly_2frag_3):\n",
    "    if len(new_plasmids_known[i].seq) == len(assembled_plasmids[i].seq):\n",
    "                              print(gibson_assembly_2frag_3['plasmid_id'][i] + ' is the same length as its Benchling sequence.')\n",
    "    else:\n",
    "                              print(gibson_assembly_2frag_3['plasmid_id'][i] + ' is not the same length as its Benchling sequence')\n",
    "    i = i+1"
   ]
  },
  {
   "cell_type": "code",
   "execution_count": 2102,
   "id": "d2b8c6de-682c-4195-b5e4-44fb32517d59",
   "metadata": {},
   "outputs": [
    {
     "name": "stdout",
     "output_type": "stream",
     "text": [
      "Downloaded QUEEN gbk files.\n"
     ]
    }
   ],
   "source": [
    "#Step 5: Output QUEEN gbk file\n",
    "\n",
    "annot_dict = {\n",
    "              \"version\"   :\"\", \n",
    "              \"accession\" :\"\", \n",
    "              \"organism\"  :\"Synthetic DNA construct\",\n",
    "              \"molecule_type\":\"DNA\",\n",
    "              \"topology\": \"circular\"\n",
    "              }\n",
    "\n",
    "i = 0\n",
    "while i < len(gibson_assembly_2frag_3):\n",
    "    assembled_plasmids[i].record.description = \"Plasmid was generated by QUEEN v1.2.0 (https://github.com/yachielab/QUEEN)\"\n",
    "    assembled_plasmids[i].outputgbk(output = gibson_assembly_2frag_3['plasmid_id'][i]+ '.gbk', record_id = gibson_assembly_2frag_3['plasmid_id'][i], annotation=annot_dict)\n",
    "    i = i+1\n",
    "print('Downloaded QUEEN gbk files.')"
   ]
  },
  {
   "cell_type": "markdown",
   "id": "814ce9f2-56a2-4097-bc4b-ab4a98ab7894",
   "metadata": {},
   "source": [
    "### Gibson_Assembly_2frag_4 Template"
   ]
  },
  {
   "cell_type": "code",
   "execution_count": 2143,
   "id": "b1e90e04-90f6-4e02-9bc1-30a57a505adc",
   "metadata": {},
   "outputs": [],
   "source": [
    "#Set up the data for plasmids constructed by Gibson_Assembly_2frag_4\n",
    "assembly_method = gibson_assemblies['assembly_method'] #extract the assembly_method column from the gibson sheet\n",
    "gibson_assembly_2frag_4 = ['Gibson_Assembly_2frag_4'] #set up for extracting rows with Gibson_Assembly_2frag_4\n",
    "gibson_assembly_2frag_4 = gibson_assemblies.query('@gibson_assembly_2frag_4 in assembly_method') #extract only rows containing Gibson_Assembly_2frag_4\n",
    "gibson_assembly_2frag_4.index = range(len(gibson_assembly_2frag_4)) #re-index the extracted list to be in the order of only the rows containing Gibson_Assembly_2frag_4"
   ]
  },
  {
   "cell_type": "code",
   "execution_count": 2144,
   "id": "af47fff0-bfc1-4d30-b21f-bd92fa79c6ae",
   "metadata": {},
   "outputs": [],
   "source": [
    "#Set assembly steps\n",
    "\n",
    "#Step 1\n",
    "pn1 = processes['pn1'][5]\n",
    "pd1 = processes['pd1'][5]\n",
    "#Step 2\n",
    "pn2 = processes['pn2'][5]\n",
    "pd2 = processes['pd2'][5]\n",
    "#Step 3\n",
    "pn3 = processes['pn3'][5]\n",
    "pd3 = processes['pd3'][5]"
   ]
  },
  {
   "cell_type": "code",
   "execution_count": 2145,
   "id": "fa228f16-d7b8-4d1a-902a-f69e59b3bc8d",
   "metadata": {},
   "outputs": [],
   "source": [
    "#Step 1: Amplify backbone\n",
    "\n",
    "pcr_products1 = []\n",
    "i = 0\n",
    "while i < len(gibson_assembly_2frag_4):\n",
    "    index_template = plasmid_name_list.index(gibson_assembly_2frag_4['template_id'][i])\n",
    "    index_fw = oligo_name_list.index(gibson_assembly_2frag_4['fw_primer'][i])\n",
    "    index_rv = oligo_name_list.index(gibson_assembly_2frag_4['rv_primer'][i])\n",
    "    insert = create_pcr_product_special(plasmid_list[index_template],\n",
    "                                        oligo_list[index_fw], \n",
    "                                        oligo_list[index_rv], \n",
    "                                        pn1, pd1)\n",
    "    pcr_products1.append(insert)\n",
    "    i = i+1"
   ]
  },
  {
   "cell_type": "code",
   "execution_count": 2146,
   "id": "6f970cf1-c239-4a2c-ac67-960d561bcc34",
   "metadata": {},
   "outputs": [],
   "source": [
    "#Step 2: Amplify insert\n",
    "\n",
    "pcr_products2 = []\n",
    "i = 0\n",
    "while i < len(gibson_assembly_2frag_4):\n",
    "    index_template = plasmid_name_list.index(gibson_assembly_2frag_4['template_id2'][i])\n",
    "    index_fw = oligo_name_list.index(gibson_assembly_2frag_4['fw_primer2'][i])\n",
    "    index_rv = oligo_name_list.index(gibson_assembly_2frag_4['rv_primer2'][i])\n",
    "    insert = create_pcr_product(plasmid_list[index_template],\n",
    "                                        oligo_list[index_fw], \n",
    "                                        oligo_list[index_rv], \n",
    "                                        pn2, pd2)\n",
    "    pcr_products2.append(insert)\n",
    "    i = i+1"
   ]
  },
  {
   "cell_type": "code",
   "execution_count": 2147,
   "id": "d2e4c095-b609-4ce4-b3d3-4b5bc903fc05",
   "metadata": {},
   "outputs": [],
   "source": [
    "#Step 3: Assemble\n",
    "\n",
    "assembled_plasmids = []\n",
    "i = 0\n",
    "while i < len(gibson_assembly_2frag_4):\n",
    "    gibson = gibson_assembly(pcr_products1[i],\n",
    "                             pcr_products2[i],\n",
    "                             assembly_name = gibson_assembly_2frag_4['plasmid_id'][i],\n",
    "                             pn=pn3, pd=pd3)\n",
    "    assembled_plasmids.append(gibson)\n",
    "    i = i+1"
   ]
  },
  {
   "cell_type": "code",
   "execution_count": 2114,
   "id": "8d6fd07d-6567-4150-adc7-5d016a89d39e",
   "metadata": {},
   "outputs": [
    {
     "name": "stdout",
     "output_type": "stream",
     "text": [
      "pKI185 is the same length as its Benchling sequence.\n"
     ]
    }
   ],
   "source": [
    "#Step 4: Verify new plasmid sequence lengths (optional)\n",
    "\n",
    "new_plasmids_known = []\n",
    "i = 0\n",
    "while i < len(gibson_assembly_2frag_4):\n",
    "    new_plasmid_known = QUEEN(record = str(gibson_assembly_2frag_4['benchling_of_final_plasmid'][i]),\n",
    "                                  dbtype = 'benchling',\n",
    "                                  product = str(gibson_assembly_2frag_4['plasmid_id'][i]))\n",
    "    new_plasmids_known.append(new_plasmid_known)\n",
    "    i = i+1\n",
    "\n",
    "i = 0\n",
    "while i < len(gibson_assembly_2frag_4):\n",
    "    if len(new_plasmids_known[i].seq) == len(assembled_plasmids[i].seq):\n",
    "                              print(gibson_assembly_2frag_4['plasmid_id'][i] + ' is the same length as its Benchling sequence.')\n",
    "    else:\n",
    "                              print(gibson_assembly_2frag_4['plasmid_id'][i] + ' is not the same length as its Benchling sequence')\n",
    "    i = i+1"
   ]
  },
  {
   "cell_type": "code",
   "execution_count": 2150,
   "id": "bafccbbe-6a59-4bd0-9c07-6a3ec9eb3605",
   "metadata": {},
   "outputs": [
    {
     "name": "stdout",
     "output_type": "stream",
     "text": [
      "Downloaded QUEEN gbk files.\n"
     ]
    }
   ],
   "source": [
    "#Step 5: Output QUEEN gbk file\n",
    "\n",
    "annot_dict = {\n",
    "              \"version\"   :\"\", \n",
    "              \"accession\" :\"\", \n",
    "              \"organism\"  :\"Synthetic DNA construct\",\n",
    "              \"molecule_type\":\"DNA\",\n",
    "              \"topology\": \"circular\"\n",
    "              }\n",
    "\n",
    "i = 0\n",
    "while i < len(gibson_assembly_2frag_4):\n",
    "    assembled_plasmids[i].record.description = \"Plasmid was generated by QUEEN v1.2.0 (https://github.com/yachielab/QUEEN)\"\n",
    "    assembled_plasmids[i].outputgbk(output = gibson_assembly_2frag_4['plasmid_id'][i]+ '.gbk', record_id = gibson_assembly_2frag_4['plasmid_id'][i], annotation=annot_dict)\n",
    "    i = i+1\n",
    "print('Downloaded QUEEN gbk files.')"
   ]
  },
  {
   "cell_type": "markdown",
   "id": "36a0e2ac-7455-4744-bd55-9c2f4f67a628",
   "metadata": {},
   "source": [
    "### Gibson_Assembly_2frag_5 Template"
   ]
  },
  {
   "cell_type": "code",
   "execution_count": 2243,
   "id": "c96c7fc1-c891-48f3-b289-29782dba519e",
   "metadata": {},
   "outputs": [],
   "source": [
    "#Set up the data for plasmids constructed by Gibson_Assembly_2frag_5\n",
    "assembly_method = gibson_assemblies['assembly_method'] #extract the assembly_method column from the gibson sheet\n",
    "gibson_assembly_2frag_5 = ['Gibson_Assembly_2frag_5'] #set up for extracting rows with Gibson_Assembly_2frag_5\n",
    "gibson_assembly_2frag_5 = gibson_assemblies.query('@gibson_assembly_2frag_5 in assembly_method') #extract only rows containing Gibson_Assembly_2frag_5\n",
    "gibson_assembly_2frag_5.index = range(len(gibson_assembly_2frag_5)) #re-index the extracted list to be in the order of only the rows containing Gibson_Assembly_2frag_5"
   ]
  },
  {
   "cell_type": "code",
   "execution_count": 2244,
   "id": "feaa7a9e-6967-49d7-9b02-e951fc786790",
   "metadata": {},
   "outputs": [],
   "source": [
    "#Set assembly steps\n",
    "\n",
    "#Step 1\n",
    "pn1 = processes['pn1'][6]\n",
    "pd1 = processes['pd1'][6]\n",
    "#Step 2\n",
    "pn2 = processes['pn2'][6]\n",
    "pd2 = processes['pd2'][6]\n",
    "#Step 3\n",
    "pn3 = processes['pn3'][6]\n",
    "pd3 = processes['pd3'][6]"
   ]
  },
  {
   "cell_type": "code",
   "execution_count": 2245,
   "id": "e7c618ef-2004-40df-8a72-deaf0df8c0fd",
   "metadata": {},
   "outputs": [],
   "source": [
    "#Step 1: Amplify backbone\n",
    "\n",
    "pcr_products1 = []\n",
    "i = 0\n",
    "while i < len(gibson_assembly_2frag_5):\n",
    "    index_template = plasmid_name_list.index(gibson_assembly_2frag_5['template_id'][i])\n",
    "    index_fw = oligo_name_list.index(gibson_assembly_2frag_5['fw_primer'][i])\n",
    "    index_rv = oligo_name_list.index(gibson_assembly_2frag_5['rv_primer'][i])\n",
    "    insert = create_pcr_product(plasmid_list[index_template],\n",
    "                                        oligo_list[index_fw], \n",
    "                                        oligo_list[index_rv], \n",
    "                                        pn1, pd1)\n",
    "    pcr_products1.append(insert)\n",
    "    i = i+1"
   ]
  },
  {
   "cell_type": "code",
   "execution_count": 2246,
   "id": "5f7de653-bdeb-4266-99de-4de512d284d5",
   "metadata": {},
   "outputs": [],
   "source": [
    "#Step 2: Amplify insert by template-free PCR\n",
    "\n",
    "pcr_products2 = []\n",
    "i = 0\n",
    "while i < len(gibson_assembly_2frag_5):\n",
    "    index_fw = oligo_name_list.index(gibson_assembly_2frag_5['fw_primer2'][i])\n",
    "    index_rv = oligo_name_list.index(gibson_assembly_2frag_5['rv_primer2'][i])\n",
    "    insert = template_free_pcr(oligo_list[index_fw], \n",
    "                               oligo_list[index_rv], \n",
    "                               pn2, pd2)\n",
    "    pcr_products2.append(insert)\n",
    "    i = i+1"
   ]
  },
  {
   "cell_type": "code",
   "execution_count": 2247,
   "id": "f4a4e97c-6cf1-40df-919e-f62a74fc0ca7",
   "metadata": {},
   "outputs": [],
   "source": [
    "#Step 3: Assemble\n",
    "\n",
    "assembled_plasmids = []\n",
    "i = 0\n",
    "while i < len(gibson_assembly_2frag_5):\n",
    "    gibson = gibson_assembly(pcr_products2[i],\n",
    "                             pcr_products1[i],\n",
    "                             assembly_name = gibson_assembly_2frag_5['plasmid_id'][i],\n",
    "                             pn=pn3, pd=pd3)\n",
    "    assembled_plasmids.append(gibson)\n",
    "    i = i+1"
   ]
  },
  {
   "cell_type": "code",
   "execution_count": null,
   "id": "dfd5e892-c854-41e8-bc71-8d73dd32ae2c",
   "metadata": {},
   "outputs": [],
   "source": [
    "#Step 4: Verify new plasmid sequence lengths (optional)\n",
    "\n",
    "new_plasmids_known = []\n",
    "i = 0\n",
    "while i < len(gibson_assembly_2frag_5):\n",
    "    new_plasmid_known = QUEEN(record = str(gibson_assembly_2frag_5['benchling_of_final_plasmid'][i]),\n",
    "                                  dbtype = 'benchling',\n",
    "                                  product = str(gibson_assembly_2frag_5['plasmid_id'][i]))\n",
    "    new_plasmids_known.append(new_plasmid_known)\n",
    "    i = i+1\n",
    "\n",
    "i = 0\n",
    "while i < len(gibson_assembly_2frag_5):\n",
    "    if len(new_plasmids_known[i].seq) == len(assembled_plasmids[i].seq):\n",
    "                              print(gibson_assembly_2frag_5['plasmid_id'][i] + ' is the same length as its Benchling sequence.')\n",
    "    else:\n",
    "                              print(gibson_assembly_2frag_5['plasmid_id'][i] + ' is not the same length as its Benchling sequence')\n",
    "    i = i+1"
   ]
  },
  {
   "cell_type": "code",
   "execution_count": 2249,
   "id": "40f562a1-7d41-4db3-83f8-6ccde6804ff8",
   "metadata": {},
   "outputs": [
    {
     "ename": "ValueError",
     "evalue": "dictionary update sequence element #0 has length 1; 2 is required",
     "output_type": "error",
     "traceback": [
      "\u001b[0;31m---------------------------------------------------------------------------\u001b[0m",
      "\u001b[0;31mValueError\u001b[0m                                Traceback (most recent call last)",
      "\u001b[0;32m/var/folders/rb/rm7_d8fn2y56dwnhw0mz0g2h0000gp/T/ipykernel_23030/3214017957.py\u001b[0m in \u001b[0;36m<module>\u001b[0;34m\u001b[0m\n\u001b[1;32m      3\u001b[0m \u001b[0mi\u001b[0m \u001b[0;34m=\u001b[0m \u001b[0;36m0\u001b[0m\u001b[0;34m\u001b[0m\u001b[0;34m\u001b[0m\u001b[0m\n\u001b[1;32m      4\u001b[0m \u001b[0;32mwhile\u001b[0m \u001b[0mi\u001b[0m \u001b[0;34m<\u001b[0m \u001b[0mlen\u001b[0m\u001b[0;34m(\u001b[0m\u001b[0mgibson_assembly_2frag_5\u001b[0m\u001b[0;34m)\u001b[0m\u001b[0;34m:\u001b[0m\u001b[0;34m\u001b[0m\u001b[0;34m\u001b[0m\u001b[0m\n\u001b[0;32m----> 5\u001b[0;31m     \u001b[0massembled_plasmids\u001b[0m\u001b[0;34m[\u001b[0m\u001b[0mi\u001b[0m\u001b[0;34m]\u001b[0m\u001b[0;34m.\u001b[0m\u001b[0moutputgbk\u001b[0m\u001b[0;34m(\u001b[0m\u001b[0moutput\u001b[0m \u001b[0;34m=\u001b[0m \u001b[0mgibson_assembly_2frag_5\u001b[0m\u001b[0;34m[\u001b[0m\u001b[0;34m'plasmid_id'\u001b[0m\u001b[0;34m]\u001b[0m\u001b[0;34m[\u001b[0m\u001b[0mi\u001b[0m\u001b[0;34m]\u001b[0m\u001b[0;34m+\u001b[0m \u001b[0;34m'.gbk'\u001b[0m\u001b[0;34m)\u001b[0m\u001b[0;34m\u001b[0m\u001b[0;34m\u001b[0m\u001b[0m\n\u001b[0m\u001b[1;32m      6\u001b[0m     \u001b[0mi\u001b[0m \u001b[0;34m=\u001b[0m \u001b[0mi\u001b[0m\u001b[0;34m+\u001b[0m\u001b[0;36m1\u001b[0m\u001b[0;34m\u001b[0m\u001b[0;34m\u001b[0m\u001b[0m\n\u001b[1;32m      7\u001b[0m \u001b[0mprint\u001b[0m\u001b[0;34m(\u001b[0m\u001b[0;34m'Downloaded QUEEN gbk files.'\u001b[0m\u001b[0;34m)\u001b[0m\u001b[0;34m\u001b[0m\u001b[0;34m\u001b[0m\u001b[0m\n",
      "\u001b[0;32m~/opt/anaconda3/lib/python3.9/site-packages/QUEEN/qobj.py\u001b[0m in \u001b[0;36moutputgbk\u001b[0;34m(self, output, format, record_id, annotation, export_history, _return)\u001b[0m\n\u001b[1;32m   1932\u001b[0m \u001b[0;34m\u001b[0m\u001b[0m\n\u001b[1;32m   1933\u001b[0m         \u001b[0mproduct_dict\u001b[0m    \u001b[0;34m=\u001b[0m \u001b[0;34m{\u001b[0m\u001b[0;34m}\u001b[0m\u001b[0;34m\u001b[0m\u001b[0;34m\u001b[0m\u001b[0m\n\u001b[0;32m-> 1934\u001b[0;31m         \u001b[0mhistories\u001b[0m       \u001b[0;34m=\u001b[0m \u001b[0mquine\u001b[0m\u001b[0;34m(\u001b[0m\u001b[0mself\u001b[0m\u001b[0;34m,\u001b[0m \u001b[0m_return\u001b[0m\u001b[0;34m=\u001b[0m\u001b[0;32mTrue\u001b[0m\u001b[0;34m)\u001b[0m\u001b[0;34m\u001b[0m\u001b[0;34m\u001b[0m\u001b[0m\n\u001b[0m\u001b[1;32m   1935\u001b[0m         \u001b[0mhistory_nums\u001b[0m    \u001b[0;34m=\u001b[0m \u001b[0;34m[\u001b[0m\u001b[0mhistory\u001b[0m\u001b[0;34m[\u001b[0m\u001b[0;36m0\u001b[0m\u001b[0;34m]\u001b[0m \u001b[0;32mfor\u001b[0m \u001b[0mhistory\u001b[0m \u001b[0;32min\u001b[0m \u001b[0mhistories\u001b[0m\u001b[0;34m]\u001b[0m\u001b[0;34m\u001b[0m\u001b[0;34m\u001b[0m\u001b[0m\n\u001b[1;32m   1936\u001b[0m         \u001b[0mhistory_feature\u001b[0m \u001b[0;34m=\u001b[0m \u001b[0mcopy\u001b[0m\u001b[0;34m.\u001b[0m\u001b[0mdeepcopy\u001b[0m\u001b[0;34m(\u001b[0m\u001b[0mself\u001b[0m\u001b[0;34m.\u001b[0m\u001b[0m_history_feature\u001b[0m\u001b[0;34m)\u001b[0m\u001b[0;34m\u001b[0m\u001b[0;34m\u001b[0m\u001b[0m\n",
      "\u001b[0;32m~/opt/anaconda3/lib/python3.9/site-packages/QUEEN/quine.py\u001b[0m in \u001b[0;36mquine\u001b[0;34m(output, author, project, process_description, execution, _check, _return, _io, *dnas)\u001b[0m\n\u001b[1;32m    277\u001b[0m             \u001b[0;32mif\u001b[0m \u001b[0mlen\u001b[0m\u001b[0;34m(\u001b[0m\u001b[0minfo\u001b[0m\u001b[0;34m)\u001b[0m \u001b[0;34m>\u001b[0m \u001b[0;36m1\u001b[0m\u001b[0;34m:\u001b[0m\u001b[0;34m\u001b[0m\u001b[0;34m\u001b[0m\u001b[0m\n\u001b[1;32m    278\u001b[0m                 \u001b[0minfo\u001b[0m \u001b[0;34m=\u001b[0m \u001b[0minfo\u001b[0m\u001b[0;34m.\u001b[0m\u001b[0msplit\u001b[0m\u001b[0;34m(\u001b[0m\u001b[0;34m\"; \"\u001b[0m\u001b[0;34m)\u001b[0m\u001b[0;34m\u001b[0m\u001b[0;34m\u001b[0m\u001b[0m\n\u001b[0;32m--> 279\u001b[0;31m                 \u001b[0minfo_dict\u001b[0m \u001b[0;34m=\u001b[0m \u001b[0mdict\u001b[0m\u001b[0;34m(\u001b[0m\u001b[0;34m[\u001b[0m\u001b[0mitem\u001b[0m\u001b[0;34m.\u001b[0m\u001b[0msplit\u001b[0m\u001b[0;34m(\u001b[0m\u001b[0;34m\": \"\u001b[0m\u001b[0;34m)\u001b[0m \u001b[0;32mfor\u001b[0m \u001b[0mitem\u001b[0m \u001b[0;32min\u001b[0m \u001b[0minfo\u001b[0m\u001b[0;34m]\u001b[0m\u001b[0;34m)\u001b[0m\u001b[0;34m\u001b[0m\u001b[0;34m\u001b[0m\u001b[0m\n\u001b[0m\u001b[1;32m    280\u001b[0m                 \u001b[0;32mif\u001b[0m \u001b[0;34m\"_source\"\u001b[0m \u001b[0;32min\u001b[0m \u001b[0minfo_dict\u001b[0m\u001b[0;34m:\u001b[0m\u001b[0;34m\u001b[0m\u001b[0;34m\u001b[0m\u001b[0m\n\u001b[1;32m    281\u001b[0m                     \u001b[0;32mif\u001b[0m \u001b[0mdescription\u001b[0m \u001b[0;32mis\u001b[0m \u001b[0;32mnot\u001b[0m \u001b[0;32mNone\u001b[0m\u001b[0;34m:\u001b[0m\u001b[0;34m\u001b[0m\u001b[0;34m\u001b[0m\u001b[0m\n",
      "\u001b[0;31mValueError\u001b[0m: dictionary update sequence element #0 has length 1; 2 is required"
     ]
    }
   ],
   "source": [
    "#Step 5: Output QUEEN gbk file\n",
    "\n",
    "i = 0\n",
    "while i < len(gibson_assembly_2frag_5):\n",
    "    assembled_plasmids[i].outputgbk(output = gibson_assembly_2frag_5['plasmid_id'][i]+ '.gbk')\n",
    "    i = i+1\n",
    "print('Downloaded QUEEN gbk files.')"
   ]
  },
  {
   "cell_type": "code",
   "execution_count": null,
   "id": "a188a7e8-e666-4879-ab1b-214baeada189",
   "metadata": {},
   "outputs": [],
   "source": [
    "#Step 6: Output QUEEN gbk file\n",
    "\n",
    "annot_dict = {\n",
    "              \"version\"   :\"\", \n",
    "              \"accession\" :\"\", \n",
    "              \"organism\"  :\"Synthetic DNA construct\",\n",
    "              \"molecule_type\":\"DNA\",\n",
    "              \"topology\": \"circular\"\n",
    "              }\n",
    "\n",
    "i = 0\n",
    "while i < len(gibson_assembly_2frag_5):\n",
    "    assembled_plasmids[i].record.description = \"Plasmid was generated by QUEEN v1.2.0 (https://github.com/yachielab/QUEEN)\"\n",
    "    assembled_plasmids[i].outputgbk(output = gibson_assembly_2frag_5['plasmid_id'][i]+ '.gbk', record_id = gibson_assembly_2frag_5['plasmid_id'][i], annotation=annot_dict)\n",
    "    i = i+1\n",
    "print('Downloaded QUEEN gbk files.')"
   ]
  },
  {
   "cell_type": "code",
   "execution_count": null,
   "id": "bb504b48-1326-456d-b567-25041d6c8dcf",
   "metadata": {},
   "outputs": [],
   "source": [
    "quine(pLV_CS_146, process_description=True)\n",
    "visualizeflow(pLV_CS_146, sf=True, ip=True, grouping=True, pd=True)"
   ]
  },
  {
   "cell_type": "markdown",
   "id": "17e18406-c717-4ceb-aed8-53b05c584d5e",
   "metadata": {},
   "source": [
    "### Gibson_Assembly_3frag_1 Template"
   ]
  },
  {
   "cell_type": "code",
   "execution_count": 2385,
   "id": "5e363ebe-504f-46cf-9067-e34f49e38864",
   "metadata": {},
   "outputs": [],
   "source": [
    "#Set up the data for plasmids constructed by Gibson_Assembly_3frag_1\n",
    "assembly_method = gibson_assemblies['assembly_method'] #extract the assembly_method column from the gibson sheet\n",
    "gibson_assembly_3frag_1 = ['Gibson_Assembly_3frag_1'] #set up for extracting rows with Gibson_Assembly_3frag_1\n",
    "gibson_assembly_3frag_1 = gibson_assemblies.query('@gibson_assembly_3frag_1 in assembly_method') #extract only rows containing Gibson_Assembly_3frag_1\n",
    "gibson_assembly_3frag_1.index = range(len(gibson_assembly_3frag_1)) #re-index the extracted list to be in the order of only the rows containing Gibson_Assembly_3frag_1"
   ]
  },
  {
   "cell_type": "code",
   "execution_count": 2386,
   "id": "08f9bfc4-ea9b-4cd8-93e8-bef455fa7887",
   "metadata": {},
   "outputs": [],
   "source": [
    "#Set assembly steps\n",
    "\n",
    "#Step 1\n",
    "pn1 = processes['pn1'][7]\n",
    "pd1 = processes['pd1'][7]\n",
    "#Step 2\n",
    "pn2 = processes['pn2'][7]\n",
    "pd2 = processes['pd2'][7]\n",
    "#Step 3\n",
    "pn3 = processes['pn3'][7]\n",
    "pd3 = processes['pd3'][7]\n",
    "#Step 4\n",
    "pn4 = processes['pn4'][7]\n",
    "pd4 = processes['pd4'][7]"
   ]
  },
  {
   "cell_type": "code",
   "execution_count": 2387,
   "id": "9927ee7d-2c68-4a3d-b0cc-8fe43c4bf95a",
   "metadata": {},
   "outputs": [],
   "source": [
    "#Step 1: Digest backbone\n",
    "\n",
    "digested_backbones = []\n",
    "i = 0\n",
    "while i < len(gibson_assembly_3frag_1):\n",
    "    index_backbone = plasmid_name_list.index(gibson_assembly_3frag_1['backbone_id'][i])\n",
    "    re1 = gibson_assembly_3frag_1['re1'][i]\n",
    "    re2 = gibson_assembly_3frag_1['re2'][i]\n",
    "    digested_backbone = double_digest_backbone(plasmid_list[index_backbone],\n",
    "                                               re1, re2, pn1, pd1)\n",
    "    digested_backbones.append(digested_backbone)\n",
    "    i = i+1"
   ]
  },
  {
   "cell_type": "code",
   "execution_count": 2388,
   "id": "d02b9302-6fe2-4457-ba6a-22c9f02f4708",
   "metadata": {},
   "outputs": [],
   "source": [
    "#Step 2: Amplify insert\n",
    "\n",
    "pcr_products1 = []\n",
    "i = 0\n",
    "while i < len(gibson_assembly_3frag_1):\n",
    "    index_template = plasmid_name_list.index(gibson_assembly_3frag_1['template_id'][i])\n",
    "    index_fw = oligo_name_list.index(gibson_assembly_3frag_1['fw_primer'][i])\n",
    "    index_rv = oligo_name_list.index(gibson_assembly_3frag_1['rv_primer'][i])\n",
    "    insert = create_pcr_product(plasmid_list[index_template],\n",
    "                                        oligo_list[index_fw], \n",
    "                                        oligo_list[index_rv], \n",
    "                                        pn2, pd2)\n",
    "    pcr_products1.append(insert)\n",
    "    i = i+1"
   ]
  },
  {
   "cell_type": "code",
   "execution_count": 2389,
   "id": "ff605633-00f1-4eba-b305-6f3269e6b791",
   "metadata": {},
   "outputs": [],
   "source": [
    "#Step 3: Amplify insert\n",
    "\n",
    "pcr_products2 = []\n",
    "i = 0\n",
    "while i < len(gibson_assembly_3frag_1):\n",
    "    index_template = plasmid_name_list.index(gibson_assembly_3frag_1['template_id2'][i])\n",
    "    index_fw = oligo_name_list.index(gibson_assembly_3frag_1['fw_primer2'][i])\n",
    "    index_rv = oligo_name_list.index(gibson_assembly_3frag_1['rv_primer2'][i])\n",
    "    insert = create_pcr_product(plasmid_list[index_template],\n",
    "                                        oligo_list[index_fw], \n",
    "                                        oligo_list[index_rv], \n",
    "                                        pn3, pd3)\n",
    "    pcr_products2.append(insert)\n",
    "    i = i+1"
   ]
  },
  {
   "cell_type": "code",
   "execution_count": 2390,
   "id": "d203cd92-ff59-49d0-ab44-75fec3943533",
   "metadata": {},
   "outputs": [],
   "source": [
    "#Step 4: Assemble\n",
    "\n",
    "stitched_inserts = []\n",
    "i = 0\n",
    "while i < len(gibson_assembly_3frag_1):\n",
    "    stitched = stitch_fragments(pcr_products1[i],\n",
    "                                pcr_products2[i])\n",
    "    stitched_inserts.append(stitched)\n",
    "    i = i+1\n",
    "\n",
    "assembled_plasmids = []\n",
    "i = 0\n",
    "while i < len(gibson_assembly_3frag_1):\n",
    "    gibson = gibson_assembly(stitched_inserts[i],\n",
    "                             digested_backbones[i],\n",
    "                             assembly_name = gibson_assembly_3frag_1['plasmid_id'][i],\n",
    "                             pn=pn4, pd=pd4)\n",
    "    assembled_plasmids.append(gibson)\n",
    "    i = i+1"
   ]
  },
  {
   "cell_type": "code",
   "execution_count": 2057,
   "id": "b6af69e4-75e9-4c3f-b0cb-5c238b354041",
   "metadata": {},
   "outputs": [
    {
     "name": "stdout",
     "output_type": "stream",
     "text": [
      "pSI_336 is the same length as its Benchling sequence.\n",
      "pSI_337 is not the same length as its Benchling sequence\n"
     ]
    }
   ],
   "source": [
    "#Step 5: Verify new plasmid sequence lengths (optional)\n",
    "\n",
    "new_plasmids_known = []\n",
    "i = 0\n",
    "while i < len(gibson_assembly_3frag_1):\n",
    "    new_plasmid_known = QUEEN(record = str(gibson_assembly_3frag_1['benchling_of_final_plasmid'][i]),\n",
    "                                  dbtype = 'benchling',\n",
    "                                  product = str(gibson_assembly_3frag_1['plasmid_id'][i]))\n",
    "    new_plasmids_known.append(new_plasmid_known)\n",
    "    i = i+1\n",
    "\n",
    "i = 0\n",
    "while i < len(gibson_assembly_3frag_1):\n",
    "    if len(new_plasmids_known[i].seq) == len(assembled_plasmids[i].seq):\n",
    "                              print(gibson_assembly_3frag_1['plasmid_id'][i] + ' is the same length as its Benchling sequence.')\n",
    "    else:\n",
    "                              print(gibson_assembly_3frag_1['plasmid_id'][i] + ' is not the same length as its Benchling sequence')\n",
    "    i = i+1"
   ]
  },
  {
   "cell_type": "code",
   "execution_count": 2392,
   "id": "3f87d903-1191-4356-a96a-8265352a82a4",
   "metadata": {},
   "outputs": [
    {
     "name": "stdout",
     "output_type": "stream",
     "text": [
      "Downloaded QUEEN gbk files.\n"
     ]
    }
   ],
   "source": [
    "#Step 6: Output QUEEN gbk file\n",
    "\n",
    "annot_dict = {\n",
    "              \"version\"   :\"\", \n",
    "              \"accession\" :\"\", \n",
    "              \"organism\"  :\"Synthetic DNA construct\",\n",
    "              \"molecule_type\":\"DNA\",\n",
    "              \"topology\": \"circular\"\n",
    "              }\n",
    "\n",
    "i = 0\n",
    "while i < len(gibson_assembly_3frag_1):\n",
    "    assembled_plasmids[i].record.description = \"Plasmid was generated by QUEEN v1.2.0 (https://github.com/yachielab/QUEEN)\"\n",
    "    assembled_plasmids[i].outputgbk(output = gibson_assembly_3frag_1['plasmid_id'][i]+ '.gbk', record_id = gibson_assembly_3frag_1['plasmid_id'][i], annotation=annot_dict)\n",
    "    i = i+1\n",
    "print('Downloaded QUEEN gbk files.')"
   ]
  },
  {
   "cell_type": "markdown",
   "id": "bda4b223-c154-4c7d-b73d-abed02fa4b9a",
   "metadata": {},
   "source": [
    "### Gibson_Assembly_3frag_2 Template"
   ]
  },
  {
   "cell_type": "code",
   "execution_count": 2393,
   "id": "90942bf0-38e8-4c0d-a9c4-b7b0a0233aec",
   "metadata": {},
   "outputs": [],
   "source": [
    "#Set up the data for plasmids constructed by Gibson_Assembly_3frag_2\n",
    "assembly_method = gibson_assemblies['assembly_method'] #extract the assembly_method column from the gibson sheet\n",
    "gibson_assembly_3frag_2 = ['Gibson_Assembly_3frag_2'] #set up for extracting rows with Gibson_Assembly_3frag_2\n",
    "gibson_assembly_3frag_2 = gibson_assemblies.query('@gibson_assembly_3frag_2 in assembly_method') #extract only rows containing Gibson_Assembly_3frag_2\n",
    "gibson_assembly_3frag_2.index = range(len(gibson_assembly_3frag_2)) #re-index the extracted list to be in the order of only the rows containing Gibson_Assembly_3frag_2"
   ]
  },
  {
   "cell_type": "code",
   "execution_count": 2394,
   "id": "eabaa6a2-69e3-4a8c-b65d-c723c4c562d3",
   "metadata": {},
   "outputs": [],
   "source": [
    "#Set assembly steps\n",
    "\n",
    "#Step 1\n",
    "pn1 = processes['pn1'][8]\n",
    "pd1 = processes['pd1'][8]\n",
    "#Step 2\n",
    "pn2 = processes['pn2'][8]\n",
    "pd2 = processes['pd2'][8]\n",
    "#Step 3\n",
    "pn3 = processes['pn3'][8]\n",
    "pd3 = processes['pd3'][8]\n",
    "#Step 4\n",
    "pn4 = processes['pn4'][8]\n",
    "pd4 = processes['pd4'][8]"
   ]
  },
  {
   "cell_type": "code",
   "execution_count": 2395,
   "id": "b3f552dc-474f-448d-b58f-e9cbbb2b03b2",
   "metadata": {},
   "outputs": [],
   "source": [
    "#Step 1: Amplify backbone\n",
    "\n",
    "pcr_products1 = []\n",
    "i = 0\n",
    "while i < len(gibson_assembly_3frag_2):\n",
    "    index_template = plasmid_name_list.index(gibson_assembly_3frag_2['template_id'][i])\n",
    "    index_fw = oligo_name_list.index(gibson_assembly_3frag_2['fw_primer'][i])\n",
    "    index_rv = oligo_name_list.index(gibson_assembly_3frag_2['rv_primer'][i])\n",
    "    insert = create_pcr_product(plasmid_list[index_template],\n",
    "                                        oligo_list[index_fw], \n",
    "                                        oligo_list[index_rv], \n",
    "                                        pn1, pd1)\n",
    "    pcr_products1.append(insert)\n",
    "    i = i+1"
   ]
  },
  {
   "cell_type": "code",
   "execution_count": 2396,
   "id": "e6c9d2e8-b76b-4db2-8ba6-a6bcd9a97afb",
   "metadata": {},
   "outputs": [],
   "source": [
    "#Step 2: Amplify insert\n",
    "\n",
    "pcr_products2 = []\n",
    "i = 0\n",
    "while i < len(gibson_assembly_3frag_2):\n",
    "    index_template = plasmid_name_list.index(gibson_assembly_3frag_2['template_id2'][i])\n",
    "    index_fw = oligo_name_list.index(gibson_assembly_3frag_2['fw_primer2'][i])\n",
    "    index_rv = oligo_name_list.index(gibson_assembly_3frag_2['rv_primer2'][i])\n",
    "    insert = create_pcr_product_special(plasmid_list[index_template],\n",
    "                                        oligo_list[index_fw], \n",
    "                                        oligo_list[index_rv], \n",
    "                                        pn2, pd2)\n",
    "    pcr_products2.append(insert)\n",
    "    i = i+1"
   ]
  },
  {
   "cell_type": "code",
   "execution_count": 2397,
   "id": "f68eea29-08bb-4546-952a-8ddf600010f1",
   "metadata": {},
   "outputs": [],
   "source": [
    "#Step 3: Amplify insert\n",
    "\n",
    "pcr_products3 = []\n",
    "i = 0\n",
    "while i < len(gibson_assembly_3frag_2):\n",
    "    index_template = plasmid_name_list.index(gibson_assembly_3frag_2['template_id3'][i])\n",
    "    index_fw = oligo_name_list.index(gibson_assembly_3frag_2['fw_primer3'][i])\n",
    "    index_rv = oligo_name_list.index(gibson_assembly_3frag_2['rv_primer3'][i])\n",
    "    insert = create_pcr_product_special(plasmid_list[index_template],\n",
    "                                        oligo_list[index_fw], \n",
    "                                        oligo_list[index_rv], \n",
    "                                        pn3, pd3)\n",
    "    pcr_products3.append(insert)\n",
    "    i = i+1"
   ]
  },
  {
   "cell_type": "code",
   "execution_count": 2398,
   "id": "f60ccab5-fa9a-4dd4-850d-b160691e96d5",
   "metadata": {},
   "outputs": [],
   "source": [
    "#Step 4: Assemble\n",
    "\n",
    "stitched_inserts = []\n",
    "i = 0\n",
    "while i < len(gibson_assembly_3frag_2):\n",
    "    stitched = stitch_fragments(pcr_products2[i],\n",
    "                                pcr_products3[i])\n",
    "    stitched_inserts.append(stitched)\n",
    "    i = i+1\n",
    "\n",
    "assembled_plasmids = []\n",
    "i = 0\n",
    "while i < len(gibson_assembly_3frag_2):\n",
    "    gibson = gibson_assembly(stitched_inserts[i],\n",
    "                             pcr_products1[i],\n",
    "                             assembly_name = gibson_assembly_3frag_2['plasmid_id'][i],\n",
    "                             pn=pn4, pd=pd4)\n",
    "    assembled_plasmids.append(gibson)\n",
    "    i = i+1"
   ]
  },
  {
   "cell_type": "code",
   "execution_count": 2071,
   "id": "b047abc9-00a6-4733-b89b-48d14dd482e2",
   "metadata": {},
   "outputs": [
    {
     "name": "stdout",
     "output_type": "stream",
     "text": [
      "pKI188 is the same length as its Benchling sequence.\n"
     ]
    }
   ],
   "source": [
    "#Step 5: Verify new plasmid sequence lengths (optional)\n",
    "\n",
    "new_plasmids_known = []\n",
    "i = 0\n",
    "while i < len(gibson_assembly_3frag_2):\n",
    "    new_plasmid_known = QUEEN(record = str(gibson_assembly_3frag_2['benchling_of_final_plasmid'][i]),\n",
    "                                  dbtype = 'benchling',\n",
    "                                  product = str(gibson_assembly_3frag_2['plasmid_id'][i]))\n",
    "    new_plasmids_known.append(new_plasmid_known)\n",
    "    i = i+1\n",
    "\n",
    "i = 0\n",
    "while i < len(gibson_assembly_3frag_2):\n",
    "    if len(new_plasmids_known[i].seq) == len(assembled_plasmids[i].seq):\n",
    "                              print(gibson_assembly_3frag_2['plasmid_id'][i] + ' is the same length as its Benchling sequence.')\n",
    "    else:\n",
    "                              print(gibson_assembly_3frag_2['plasmid_id'][i] + ' is not the same length as its Benchling sequence')\n",
    "    i = i+1"
   ]
  },
  {
   "cell_type": "code",
   "execution_count": 2400,
   "id": "d125e894-3363-4d84-bb35-6ea7ede58889",
   "metadata": {},
   "outputs": [
    {
     "name": "stdout",
     "output_type": "stream",
     "text": [
      "Downloaded QUEEN gbk files.\n"
     ]
    }
   ],
   "source": [
    "#Step 6: Output QUEEN gbk file\n",
    "\n",
    "annot_dict = {\n",
    "              \"version\"   :\"\", \n",
    "              \"accession\" :\"\", \n",
    "              \"organism\"  :\"Synthetic DNA construct\",\n",
    "              \"molecule_type\":\"DNA\",\n",
    "              \"topology\": \"circular\"\n",
    "              }\n",
    "\n",
    "i = 0\n",
    "while i < len(gibson_assembly_3frag_2):\n",
    "    assembled_plasmids[i].record.description = \"Plasmid was generated by QUEEN v1.2.0 (https://github.com/yachielab/QUEEN)\"\n",
    "    assembled_plasmids[i].outputgbk(output = gibson_assembly_3frag_2['plasmid_id'][i]+ '.gbk', record_id = gibson_assembly_3frag_2['plasmid_id'][i], annotation=annot_dict)\n",
    "    i = i+1\n",
    "print('Downloaded QUEEN gbk files.')"
   ]
  },
  {
   "cell_type": "markdown",
   "id": "81ddfbad-14f5-4eb9-a1e9-1926e513db9b",
   "metadata": {},
   "source": [
    "### Gibson_Assembly_4frag_1 Template"
   ]
  },
  {
   "cell_type": "code",
   "execution_count": 2371,
   "id": "d84a3394-3eed-476a-923c-547cc3d30e3a",
   "metadata": {},
   "outputs": [],
   "source": [
    "#Set up the data for plasmids constructed by Gibson_Assembly_4frag_1\n",
    "assembly_method = gibson_assemblies['assembly_method'] #extract the assembly_method column from the gibson sheet\n",
    "gibson_assembly_4frag_1 = ['Gibson_Assembly_4frag_1'] #set up for extracting rows with Gibson_Assembly_4frag_1\n",
    "gibson_assembly_4frag_1 = gibson_assemblies.query('@gibson_assembly_4frag_1 in assembly_method') #extract only rows containing Gibson_Assembly_4frag_1\n",
    "gibson_assembly_4frag_1.index = range(len(gibson_assembly_4frag_1)) #re-index the extracted list to be in the order of only the rows containing Gibson_Assembly_4frag_1"
   ]
  },
  {
   "cell_type": "code",
   "execution_count": 2372,
   "id": "147dd5e4-0361-4778-994a-2e04769378d2",
   "metadata": {},
   "outputs": [],
   "source": [
    "#Set assembly steps\n",
    "\n",
    "#Step 1\n",
    "pn1 = processes['pn1'][9]\n",
    "pd1 = processes['pd1'][9]\n",
    "#Step 2\n",
    "pn2 = processes['pn2'][9]\n",
    "pd2 = processes['pd2'][9]\n",
    "#Step 3\n",
    "pn3 = processes['pn3'][9]\n",
    "pd3 = processes['pd3'][9]\n",
    "#Step 4\n",
    "pn4 = processes['pn4'][9]\n",
    "pd4 = processes['pd4'][9]\n",
    "#Step 5\n",
    "pn5 = processes['pn5'][9]\n",
    "pd5 = processes['pd5'][9]"
   ]
  },
  {
   "cell_type": "code",
   "execution_count": 2373,
   "id": "7ea0c4b9-e9e6-4e97-92db-311e38945494",
   "metadata": {},
   "outputs": [],
   "source": [
    "#Step 1: Digest backbone\n",
    "\n",
    "digested_backbones = []\n",
    "i = 0\n",
    "while i < len(gibson_assembly_4frag_1):\n",
    "    index_backbone = plasmid_name_list.index(gibson_assembly_4frag_1['backbone_id'][i])\n",
    "    re1 = gibson_assembly_4frag_1['re1'][i]\n",
    "    re2 = gibson_assembly_4frag_1['re2'][i]\n",
    "    digested_backbone = double_digest_backbone(plasmid_list[index_backbone],\n",
    "                                               re1, re2, pn1, pd1)\n",
    "    digested_backbones.append(digested_backbone)\n",
    "    i = i+1"
   ]
  },
  {
   "cell_type": "code",
   "execution_count": 2374,
   "id": "4242c541-b0f6-4b66-b967-0e9163d03203",
   "metadata": {},
   "outputs": [],
   "source": [
    "#Step 2: Amplify insert\n",
    "\n",
    "pcr_products1 = []\n",
    "i = 0\n",
    "while i < len(gibson_assembly_4frag_1):\n",
    "    index_template = plasmid_name_list.index(gibson_assembly_4frag_1['template_id'][i])\n",
    "    index_fw = oligo_name_list.index(gibson_assembly_4frag_1['fw_primer'][i])\n",
    "    index_rv = oligo_name_list.index(gibson_assembly_4frag_1['rv_primer'][i])\n",
    "    insert = create_pcr_product(plasmid_list[index_template],\n",
    "                                        oligo_list[index_fw], \n",
    "                                        oligo_list[index_rv], \n",
    "                                        pn2, pd2)\n",
    "    pcr_products1.append(insert)\n",
    "    i = i+1"
   ]
  },
  {
   "cell_type": "code",
   "execution_count": 2375,
   "id": "318dbf96-463c-4e1b-bf0d-d9cb776f3a41",
   "metadata": {},
   "outputs": [],
   "source": [
    "#Step 3: Amplify insert\n",
    "\n",
    "pcr_products2 = []\n",
    "i = 0\n",
    "while i < len(gibson_assembly_4frag_1):\n",
    "    index_template = plasmid_name_list.index(gibson_assembly_4frag_1['template_id2'][i])\n",
    "    index_fw = oligo_name_list.index(gibson_assembly_4frag_1['fw_primer2'][i])\n",
    "    index_rv = oligo_name_list.index(gibson_assembly_4frag_1['rv_primer2'][i])\n",
    "    insert = create_pcr_product(plasmid_list[index_template],\n",
    "                                        oligo_list[index_fw], \n",
    "                                        oligo_list[index_rv], \n",
    "                                        pn3, pd3)\n",
    "    pcr_products2.append(insert)\n",
    "    i = i+1"
   ]
  },
  {
   "cell_type": "code",
   "execution_count": 2376,
   "id": "47bd9196-6d5e-4636-ad35-34ba3c0e4b27",
   "metadata": {},
   "outputs": [],
   "source": [
    "#Step 4: Amplify insert\n",
    "\n",
    "pcr_products3 = []\n",
    "i = 0\n",
    "while i < len(gibson_assembly_4frag_1):\n",
    "    index_template = plasmid_name_list.index(gibson_assembly_4frag_1['template_id3'][i])\n",
    "    index_fw = oligo_name_list.index(gibson_assembly_4frag_1['fw_primer3'][i])\n",
    "    index_rv = oligo_name_list.index(gibson_assembly_4frag_1['rv_primer3'][i])\n",
    "    insert = create_pcr_product(plasmid_list[index_template],\n",
    "                                        oligo_list[index_fw], \n",
    "                                        oligo_list[index_rv], \n",
    "                                        pn4, pd4)\n",
    "    pcr_products3.append(insert)\n",
    "    i = i+1"
   ]
  },
  {
   "cell_type": "code",
   "execution_count": 2380,
   "id": "666b6aa4-d9a0-4580-842b-cea549e170b6",
   "metadata": {},
   "outputs": [
    {
     "data": {
      "text/plain": [
       "<queen.QUEEN object; project='pNM1325_13', length='11534 bp', topology='circular'>"
      ]
     },
     "execution_count": 2380,
     "metadata": {},
     "output_type": "execute_result"
    }
   ],
   "source": [
    "#Step 5: Assemble\n",
    "\n",
    "stitched_inserts_1 = []\n",
    "i = 0\n",
    "while i < len(gibson_assembly_4frag_1):\n",
    "    stitched = stitch_fragments(pcr_products1[i],\n",
    "                                pcr_products2[i])\n",
    "    stitched_inserts_1.append(stitched)\n",
    "    i = i+1\n",
    "    \n",
    "stitched_inserts_2 = []\n",
    "i = 0\n",
    "while i < len(gibson_assembly_4frag_1):\n",
    "    stitched = stitch_fragments(stitched_inserts_1[i],\n",
    "                                pcr_products3[i])\n",
    "    stitched_inserts_2.append(stitched)\n",
    "    i = i+1\n",
    "\n",
    "#Manually created plasmid due to technical difficulties\n",
    "#cut_backbone = cutdna(pPBbsr_MCS, 2723, 3877) #index 1 is the backbone piece we want to keep\n",
    "cut_backbone = cropdna(digested_backbones[0], 33, 5665)\n",
    "assembled_plasmid = joindna(stitched_inserts_2[0], cut_backbone, product = 'pNM1325', topology = \"circular\", pn=pn5, pd=pd5)\n",
    "assembled_plasmid\n",
    "    \n",
    "#digested_inserts = []\n",
    "#assembled_plasmids = []\n",
    "#i = 0\n",
    "#while i < len(gibson_assembly_4frag_1):\n",
    "#    re1 = gibson_assembly_4frag_1['re1'][i]\n",
    "#    re2 = gibson_assembly_4frag_1['re2'][i]\n",
    "#    digested_insert = double_digest_insert(stitched_inserts_2[i], re1, re2, pn4, pd4)\n",
    "#    digested_inserts.append(digested_insert)\n",
    "#    ligation = joindna(digested_inserts[i],\n",
    "#                       digested_backbones[i],\n",
    "#                       product = gibson_assembly_4frag_1['plasmid_id'][i],\n",
    "#                       topology = \"circular\", pn=pn4, pd=pd4)\n",
    "#    assembled_plasmids.append(ligation)\n",
    "#    i = i+1\n",
    "    \n",
    "#assembled_plasmids = [] #for whatever reason joindna in the gibson_assembly function isn't working here because it isn't recognizing the overlapping compatible ends (I think because of ClaI)\n",
    "#and digestion then joindna didn't work because QUEEN can't ligate ClaI sticky end because it's only 2 bp long, so I just manually did the assembly\n",
    "#i = 0\n",
    "#while i < len(gibson_assembly_4frag_1):\n",
    "#    gibson = gibson_assembly(stitched_inserts_2[i],\n",
    "#                             digested_backbones[i],\n",
    "#                             assembly_name = gibson_assembly_4frag_1['plasmid_id'][i],\n",
    "#                             pn=pn4, pd=pd4)\n",
    "#    assembled_plasmids.append(gibson)\n",
    "#    i = i+1"
   ]
  },
  {
   "cell_type": "code",
   "execution_count": 970,
   "id": "2f580811-7537-40ed-bf9a-36764114de75",
   "metadata": {},
   "outputs": [
    {
     "name": "stdout",
     "output_type": "stream",
     "text": [
      "pNM1325 is the same length as its Benchling sequence.\n"
     ]
    }
   ],
   "source": [
    "#Step 6: Verify new plasmid sequence lengths (optional)\n",
    "\n",
    "new_plasmids_known = []\n",
    "i = 0\n",
    "while i < len(gibson_assembly_4frag_1):\n",
    "    new_plasmid_known = QUEEN(record = str(gibson_assembly_4frag_1['benchling_of_final_plasmid'][i]),\n",
    "                                  dbtype = 'benchling',\n",
    "                                  product = str(gibson_assembly_4frag_1['plasmid_id'][i]))\n",
    "    new_plasmids_known.append(new_plasmid_known)\n",
    "    i = i+1\n",
    "\n",
    "i = 0\n",
    "while i < len(gibson_assembly_4frag_1):\n",
    "    if len(new_plasmids_known[i].seq) == len(assembled_plasmids[i].seq):\n",
    "                              print(gibson_assembly_4frag_1['plasmid_id'][i] + ' is the same length as its Benchling sequence.')\n",
    "    else:\n",
    "                              print(gibson_assembly_4frag_1['plasmid_id'][i] + ' is not the same length as its Benchling sequence')\n",
    "    i = i+1"
   ]
  },
  {
   "cell_type": "code",
   "execution_count": 2383,
   "id": "8f954c08-009c-4227-9fc8-15b70243e746",
   "metadata": {},
   "outputs": [
    {
     "name": "stdout",
     "output_type": "stream",
     "text": [
      "Downloaded QUEEN gbk files.\n"
     ]
    }
   ],
   "source": [
    "#Step 7: Output QUEEN gbk file\n",
    "\n",
    "annot_dict = {\n",
    "              \"version\"   :\"\", \n",
    "              \"accession\" :\"\", \n",
    "              \"organism\"  :\"Synthetic DNA construct\",\n",
    "              \"molecule_type\":\"DNA\",\n",
    "              \"topology\": \"circular\"\n",
    "              }\n",
    "\n",
    "assembled_plasmid.record.description = \"Plasmid was generated by QUEEN v1.2.0 (https://github.com/yachielab/QUEEN)\"\n",
    "assembled_plasmid.outputgbk(output = gibson_assembly_4frag_1['plasmid_id'][0]+ '.gbk', record_id = gibson_assembly_4frag_1['plasmid_id'][0], annotation=annot_dict)\n",
    "print('Downloaded QUEEN gbk files.')"
   ]
  }
 ],
 "metadata": {
  "kernelspec": {
   "display_name": "Python 3 (ipykernel)",
   "language": "python",
   "name": "python3"
  },
  "language_info": {
   "codemirror_mode": {
    "name": "ipython",
    "version": 3
   },
   "file_extension": ".py",
   "mimetype": "text/x-python",
   "name": "python",
   "nbconvert_exporter": "python",
   "pygments_lexer": "ipython3",
   "version": "3.9.13"
  }
 },
 "nbformat": 4,
 "nbformat_minor": 5
}
