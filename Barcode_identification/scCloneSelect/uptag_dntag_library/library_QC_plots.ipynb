{
 "cells": [
  {
   "cell_type": "code",
   "execution_count": 6,
   "metadata": {},
   "outputs": [],
   "source": [
    "library(tidyverse)\n",
    "library(reshape2)\n",
    "library(ggplot2)\n",
    "library(gplots)\n",
    "library(UpSetR)\n",
    "library(reshape)\n",
    "library(ggpubr)\n",
    "library(scales)"
   ]
  },
  {
   "cell_type": "code",
   "execution_count": 2,
   "metadata": {},
   "outputs": [],
   "source": [
    "# define const for visualization\n",
    "FONT.SIZE <- 9\n",
    "LABEL.FONT.SIZE <- 8\n",
    "LINE.W <- 0.3481 # equivalent to 0.75pt in Keynote\n",
    "\n",
    "          \n",
    "settheme <- theme_bw() + theme(strip.background = element_blank(),\n",
    "                            strip.text.x = element_blank(),\n",
    "                            strip.text.y = element_blank(),\n",
    "                            axis.text.x = element_text(colour = \"black\", angle = 0, hjust = 1, vjust = 0.5, size = LABEL.FONT.SIZE),\n",
    "                            axis.text.y = element_text(colour = \"black\", size = LABEL.FONT.SIZE),\n",
    "                            axis.title = element_text(size = FONT.SIZE),\n",
    "                            axis.line = element_line(size = LINE.W, colour = \"black\"),\n",
    "                            axis.ticks = element_line(size = LINE.W, colour = \"black\"))"
   ]
  },
  {
   "cell_type": "code",
   "execution_count": 3,
   "metadata": {},
   "outputs": [],
   "source": [
    "mergefrequency = read.csv(file = './barcode_library_csv/sample1_sample2_frequency.csv', header=TRUE)"
   ]
  },
  {
   "cell_type": "code",
   "execution_count": 4,
   "metadata": {},
   "outputs": [
    {
     "name": "stderr",
     "output_type": "stream",
     "text": [
      "Warning message:\n",
      "“Transformation introduced infinite values in continuous x-axis”\n",
      "Warning message:\n",
      "“Transformation introduced infinite values in continuous y-axis”\n",
      "Warning message:\n",
      "“Removed 3936 rows containing missing values (geom_point).”\n",
      "Warning message:\n",
      "“Transformation introduced infinite values in continuous x-axis”\n",
      "Warning message:\n",
      "“Transformation introduced infinite values in continuous y-axis”\n",
      "Warning message:\n",
      "“Removed 3936 rows containing missing values (geom_point).”\n"
     ]
    },
    {
     "data": {
      "image/png": "[encoded data removed]",
      "text/plain": [
       "plot without title"
      ]
     },
     "metadata": {
      "image/png": {
       "height": 180,
       "width": 180
      }
     },
     "output_type": "display_data"
    }
   ],
   "source": [
    "#correlation of two samples\n",
    "options(repr.plot.width=3, repr.plot.height=3)\n",
    "p = ggplot(data = mergefrequency, aes(x = sample1_freq, y =sample2_freq)) + geom_point() +settheme+\n",
    "     scale_x_log10(breaks = breaks_log(n = 5),\n",
    "                   labels = trans_format(\"log10\", math_format(10^.x)), limits=c(10^-4, 10^-1))+\n",
    "     scale_y_log10(breaks = breaks_log(n = 5),\n",
    "                   labels = trans_format(\"log10\", math_format(10^.x)), limits=c(10^-4, 10^-1))+\n",
    "     theme(panel.grid.major = element_blank(),panel.grid.minor = element_blank())\n",
    "\n",
    "ggsave('correlation.pdf',p , width = 3, height = 3, device='pdf', dpi=300)\n",
    "\n",
    "p"
   ]
  },
  {
   "cell_type": "code",
   "execution_count": 5,
   "metadata": {},
   "outputs": [
    {
     "data": {
      "text/plain": [
       "\n",
       "\tPearson's product-moment correlation\n",
       "\n",
       "data:  mergefrequency$sample1_freq and mergefrequency$sample2_freq\n",
       "t = 288.93, df = 6273, p-value < 2.2e-16\n",
       "alternative hypothesis: true correlation is not equal to 0\n",
       "95 percent confidence interval:\n",
       " 0.9626509 0.9661114\n",
       "sample estimates:\n",
       "      cor \n",
       "0.9644224 \n"
      ]
     },
     "metadata": {},
     "output_type": "display_data"
    }
   ],
   "source": [
    "res <- cor.test(mergefrequency$sample1_freq, mergefrequency$sample2_freq)\n",
    "res"
   ]
  },
  {
   "cell_type": "code",
   "execution_count": null,
   "metadata": {},
   "outputs": [],
   "source": []
  }
 ],
 "metadata": {
  "kernelspec": {
   "display_name": "R 4.1",
   "language": "R",
   "name": "ir4.1"
  },
  "language_info": {
   "codemirror_mode": "r",
   "file_extension": ".r",
   "mimetype": "text/x-r-source",
   "name": "R",
   "pygments_lexer": "r",
   "version": "4.1.2"
  }
 },
 "nbformat": 4,
 "nbformat_minor": 2
}
