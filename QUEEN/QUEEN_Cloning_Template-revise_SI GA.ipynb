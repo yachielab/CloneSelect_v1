{
 "cells": [
  {
   "cell_type": "markdown",
   "id": "668fc162-fda6-4854-818f-45e529e5b272",
   "metadata": {
    "tags": []
   },
   "source": [
    "# QUEEN Cloning Script for Gibson Assembly (revised experiments)"
   ]
  },
  {
   "cell_type": "code",
   "execution_count": 80,
   "id": "76b85300",
   "metadata": {},
   "outputs": [],
   "source": [
    "from QUEEN.queen import *\n",
    "from QUEEN import cutsite "
   ]
  },
  {
   "cell_type": "code",
   "execution_count": 42,
   "id": "2b09022e",
   "metadata": {},
   "outputs": [
    {
     "name": "stdout",
     "output_type": "stream",
     "text": [
      "None\n"
     ]
    }
   ],
   "source": [
    "# pSI-894 pUC19-minP-EGFP cloning assembly\n",
    "plasmid1  = QUEEN(record=\"52963\", dbtype=\"addgene\")\n",
    "fw_primer1 = QUEEN(\"CCGGAGACGGTTGTAAATGAGCACACAA\", ssdna=True) \n",
    "rv_primer2 = QUEEN(\"aaacAGAGACGAGCAGCTGGAT\", ssdna=True) \n",
    "amplicon1  = pcr(plasmid1, fw_primer1, rv_primer2, bindnum=11) \n",
    "\n",
    "plasmid2 = QUEEN(record='https://benchling.com/s/seq-svWfak2pQJnEO9Dp2adN', dbtype='benchling')\n",
    "fw_primer3 = QUEEN('aaagggcctcgtgatacgccta', ssdna=True)\n",
    "rv_primer4 = QUEEN('TGCTCATTTACAACCGTCTCcGGTGGGCgtcacagcttgtctgtaagcgga', ssdna=True)\n",
    "amplicon2 = pcr(plasmid2, fw_primer3, rv_primer4)\n",
    "\n",
    "plasmid3 = QUEEN(record='https://benchling.com/s/seq-R920EgkYUfVPM5CjLyS0', dbtype='benchling')\n",
    "fw_primer5 = QUEEN('ATCCAGCTGCTCGTCTCTgtttCGGTAGGCGTGTACGGTGGGAGG', ssdna=True)\n",
    "rv_primer6 = QUEEN('taggcgtatcacgaggccctttTTACTTGTACAGCTCGTCCA', ssdna=True)\n",
    "\n",
    "fw_pos = plasmid3.searchsequence(fw_primer5.seq[-22:])\n",
    "rv_pos = plasmid3.searchsequence(rv_primer6.seq[-19:])\n",
    "ext_seq = cropdna(plasmid3, fw_pos[0].end, rv_pos[0].start)\n",
    "amplicon3 = modifyends(ext_seq, fw_primer5.seq, rv_primer6.rcseq)\n",
    "amplicon3.printsequence()\n",
    "\n",
    "pSI949 = joindna(amplicon1, amplicon2, amplicon3, topology=\"circular\")\n",
    "print(pSI949.outputgbk('hoge.gbk')) # this produce filler-less plasmid, need to be fixed\n",
    "\n"
   ]
  },
  {
   "cell_type": "code",
   "execution_count": 86,
   "id": "b192fa77",
   "metadata": {},
   "outputs": [],
   "source": [
    "# pLV-CS-282 v2 lenti-dCas9-VPR-P2A-Hygro construction\n",
    "\n",
    "# backbones\n",
    "pSI756 = QUEEN(record='https://benchling.com/s/seq-grmGr2Eu7nbqu6Vabu4j', dbtype='benchling')\n",
    "lentiMS2_P65_Hygr = QUEEN(record='61426', dbtype='addgene')\n",
    "lentidCas9_VP64 = QUEEN(record='https://benchling.com/s/seq-9ujlwGWlgMb1pXrbO0A6', dbtype='benchling')\n",
    "\n",
    "# primers\n",
    "SI2164 = QUEEN('ctaagaaaaagaggaaggtggcggccgctggatccGACGCATTGGACGATTTTGA', ssdna=True)\n",
    "SI2165 = QUEEN('AAACAGAGATGTGTCGAAGAT', ssdna=True)\n",
    "SI2166 = QUEEN('CTGTCCATCTTCGACACATCTCTGTTTGAGGGCAGAGGAAGTCTGCTAAC', ssdna=True)\n",
    "SI2167 = QUEEN('ttgattaccgataagcttgatatcgaattcttactgcagatcCTTTGCCC', ssdna=True)\n",
    "\n",
    "# f282v2-1 Gibson fragments\n",
    "# fragment1\n",
    "fw_pos_1 = pSI756.searchsequence(SI2164.seq[-20:])\n",
    "rv_pos_1 = pSI756.searchsequence(SI2165.seq)\n",
    "ext_seq_1 = cropdna(pSI756, fw_pos_1[0].end, rv_pos_1[0].start)\n",
    "f282v2_amplicon1 = modifyends(ext_seq_1, SI2164.seq, SI2165.rcseq)\n",
    "\n",
    "# fragment2\n",
    "fw_pos_2 = lentiMS2_P65_Hygr.searchsequence(SI2166.seq[-23:])\n",
    "rv_pos_2 = lentiMS2_P65_Hygr.searchsequence(SI2167.seq[-20:])\n",
    "ext_seq_2 = cropdna(lentiMS2_P65_Hygr, fw_pos_2[0].end, rv_pos_2[0].start)\n",
    "f282v2_amplicon2 = modifyends(ext_seq_2, SI2166.seq, SI2167.rcseq)\n",
    "\n",
    "# digested backbone\n",
    "backbone_digested = digestion(lentidCas9_VP64, cutsite.lib[\"BamHI\"], cutsite.lib[\"EcoRI\"])\n",
    "result = homology_based_assembly(backbone_digested[1], f282v2_amplicon1, f282v2_amplicon2, mode=\"gibson\", unique=True)\n",
    "result.outputgbk('pLV-CS-282 v2_QUEEN.gbk')\n"
   ]
  },
  {
   "cell_type": "code",
   "execution_count": 115,
   "id": "c64fae91",
   "metadata": {},
   "outputs": [],
   "source": [
    "# pLV-CS-317, pLV-CS-318, and pLV-CS-319 ClonSifter reporter constructs\n",
    "\n",
    "# primers for CS317\n",
    "SI2214 = QUEEN(\"agtagtagtaagtgataatagaaatcgccaccatgctactgtacccccgATTCCCTACCCCACTG\", ssdna=True)\n",
    "SI2215 = QUEEN(\"cgATTCCCTACCCCACTGTCTCccccgCACGGTCACCCTGACACGCTGGGccccgCTTTTCACGA\", ssdna=False)\n",
    "SI2216 = QUEEN(\"AGACTcggggTGCCAAGGGAGAGGGGTGAAcgggTGTTTGGTCGTCGTGAAAAGcggggCCCAG\", ssdna=True)\n",
    "SI2217 = QUEEN(\"CCCCTCTCCCTTGGCAccccgAGTCTGTCTCTCACAGCGTGccccgCACTACTTCACTACCTTTT\", ssdna=True)\n",
    "SI2218 = QUEEN('cgCACTACTTCACTACCTTTTTcccgAGTCTGGCAGTCACTGGGTGcctc', ssdna=False)\n",
    "SI2219 = QUEEN('cctctgccctctccactgcctgtacagcttgaggCACCCAGTGACTGCCA', ssdna=True)\n",
    "\n",
    "# primers for CS318\n",
    "SI2220 = QUEEN('cgATTCCCTACCCCACTGTCTCccccgTGCGTGTCTCTGTCTCGGTGccccgCTTTTCACGACGA', ssdna=False)\n",
    "SI2221 = QUEEN('TCCGTGACTcggggTGCCAAGGGAGAGGGGTGAAcgggTGTTTGGTCGTCGTGAAAAGcggggCA', ssdna=True)\n",
    "SI2222 = QUEEN('CCCCTCTCCCTTGGCAccccgAGTCACGGAGCCAGTCGGTGccccgCACTACTTCACTACCTTTT', ssdna=True)\n",
    "SI2223 = QUEEN('cgCACTACTTCACTACCTTTTTccccTCTCAGGCTCTGACTCTGTGcctcaagct', ssdna=False)\n",
    "SI2224 = QUEEN('cctctgccctctccactgcctGTACagcttgaggCACAGAGTCAGAGCCT', ssdna=True)\n",
    "\n",
    "# primers for CS319\n",
    "SI2225 = QUEEN('cgATTCCCTACCCCACTGTCTCccccgccTTATGACCCTGACACGCTGGGccccgCTTTTCACGA', ssdna=False)\n",
    "SI2226 = QUEEN('TTAAATcggggTGCCAAGGGAGAGGGGTGAAcgggTGTTTGGTCGTCGTGAAAAGcggggCCCAG', ssdna=True)\n",
    "SI2227 = QUEEN('CCCCTCTCCCTTGGCAccccgATTTAACTGGGCACGTTTGGGGGccccgCACTACTTCACTACCT', ssdna=True)\n",
    "SI2228 = QUEEN('GGGGccccgCACTACTTCACTACCTTTTTcccgGGTTACCTCCACGTCGAACGGGGcctcaagct', ssdna=False)\n",
    "SI2229 = QUEEN('cctctgccctctccactgcctgtacagcttgaggCCCCGTTCGACGTGGA', ssdna=True)\n",
    "\n",
    "# insert fragments\n",
    "frag317_1 = pcr(SI2215, SI2214, SI2216)\n",
    "frag317_2 = pcr(SI2218, SI2217, SI2219)\n",
    "\n",
    "frag318_1 = pcr(SI2220, SI2214, SI2221)\n",
    "frag318_2 = pcr(SI2223, SI2222, SI2224)\n",
    "\n",
    "frag319_1 = pcr(SI2225, SI2214, SI2226)\n",
    "frag319_2 = pcr(SI2228, SI2227, SI2229)\n",
    "\n",
    "# backbone\n",
    "pLentiTMv2 = QUEEN(record='https://benchling.com/s/seq-7CoNZvCuX8noAN87aTzp', dbtype='benchling')\n",
    "backbone_digested = digestion(pLentiTMv2, cutsite.lib[\"BsmBI\"])\n",
    "\n",
    "CS317 = homology_based_assembly(backbone_digested[0], frag317_1, frag317_2, mode=\"gibson\", unique=True)\n",
    "CS318 = homology_based_assembly(backbone_digested[0], frag318_1, frag318_2, mode=\"gibson\", unique=True)\n",
    "CS319 = homology_based_assembly(backbone_digested[0], frag319_1, frag319_2, mode=\"gibson\", unique=True)\n",
    "\n",
    "CS317.outputgbk('pLV-CS-317.gbk')\n",
    "CS318.outputgbk('pLV-CS-318.gbk')\n",
    "CS319.outputgbk('pLV-CS-319.gbk')\n",
    "\n"
   ]
  }
 ],
 "metadata": {
  "kernelspec": {
   "display_name": "Python 3 (ipykernel)",
   "language": "python",
   "name": "python3"
  },
  "language_info": {
   "codemirror_mode": {
    "name": "ipython",
    "version": 3
   },
   "file_extension": ".py",
   "mimetype": "text/x-python",
   "name": "python",
   "nbconvert_exporter": "python",
   "pygments_lexer": "ipython3",
   "version": "3.10.0"
  }
 },
 "nbformat": 4,
 "nbformat_minor": 5
}
