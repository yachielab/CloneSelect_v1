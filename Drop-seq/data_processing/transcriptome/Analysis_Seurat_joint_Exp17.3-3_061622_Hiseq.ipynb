{
 "cells": [
  {
   "cell_type": "markdown",
   "id": "c3466132",
   "metadata": {},
   "source": [
    "# Seurat Analysis of Exp17.3-3"
   ]
  },
  {
   "cell_type": "markdown",
   "id": "a1c0ffd3",
   "metadata": {},
   "source": [
    "This is reanalysis using resequenced transcriptome library.\n",
    "\n",
    "- Sample 1: LIF+2i+ \\\n",
    "total read count: 69,435,176 \\\n",
    "number of cells analysed: 2564 (before filtering) \\\n",
    "average reads per cell: 2899\n",
    "\n",
    "\n",
    "- Sample 2: LIF-2i- \\\n",
    "total read count: 75,656,432 \\\n",
    "number of cells analysed: 7004 (before filtering) \\\n",
    "average reads per cell: 1690"
   ]
  },
  {
   "cell_type": "code",
   "execution_count": 1,
   "id": "76218f18",
   "metadata": {},
   "outputs": [
    {
     "name": "stderr",
     "output_type": "stream",
     "text": [
      "\n",
      " 次のパッケージを付け加えます: ‘dplyr’ \n",
      "\n",
      "\n",
      " 以下のオブジェクトは ‘package:stats’ からマスクされています: \n",
      "\n",
      "     filter, lag \n",
      "\n",
      "\n",
      " 以下のオブジェクトは ‘package:base’ からマスクされています: \n",
      "\n",
      "     intersect, setdiff, setequal, union \n",
      "\n",
      "\n",
      "Registered S3 method overwritten by 'spatstat.geom':\n",
      "  method     from\n",
      "  print.boxx cli \n",
      "\n",
      "Attaching SeuratObject\n",
      "\n",
      "── \u001b[1mAttaching packages\u001b[22m ────────────────────────────────────────────────────────────────────────────────────────────────────────────────────────────────────────────────── tidyverse 1.3.1 ──\n",
      "\n",
      "\u001b[32m✔\u001b[39m \u001b[34mtibble \u001b[39m 3.1.6     \u001b[32m✔\u001b[39m \u001b[34mpurrr  \u001b[39m 0.3.4\n",
      "\u001b[32m✔\u001b[39m \u001b[34mtidyr  \u001b[39m 1.1.4     \u001b[32m✔\u001b[39m \u001b[34mstringr\u001b[39m 1.4.0\n",
      "\u001b[32m✔\u001b[39m \u001b[34mreadr  \u001b[39m 2.1.2     \u001b[32m✔\u001b[39m \u001b[34mforcats\u001b[39m 0.5.1\n",
      "\n",
      "── \u001b[1mConflicts\u001b[22m ───────────────────────────────────────────────────────────────────────────────────────────────────────────────────────────────────────────────────── tidyverse_conflicts() ──\n",
      "\u001b[31m✖\u001b[39m \u001b[34mdplyr\u001b[39m::\u001b[32mfilter()\u001b[39m masks \u001b[34mstats\u001b[39m::filter()\n",
      "\u001b[31m✖\u001b[39m \u001b[34mdplyr\u001b[39m::\u001b[32mlag()\u001b[39m    masks \u001b[34mstats\u001b[39m::lag()\n",
      "\n",
      "\n",
      " 次のパッケージを付け加えます: ‘Matrix’ \n",
      "\n",
      "\n",
      " 以下のオブジェクトは ‘package:tidyr’ からマスクされています: \n",
      "\n",
      "     expand, pack, unpack \n",
      "\n",
      "\n"
     ]
    }
   ],
   "source": [
    "library(dplyr)\n",
    "library(Seurat)\n",
    "library(ggplot2)\n",
    "library(patchwork)\n",
    "library(tidyverse)\n",
    "library(Matrix)\n",
    "library(gghighlight)"
   ]
  },
  {
   "cell_type": "code",
   "execution_count": 2,
   "id": "da8f798d",
   "metadata": {},
   "outputs": [
    {
     "name": "stderr",
     "output_type": "stream",
     "text": [
      "Warning message:\n",
      "“Feature names cannot have underscores ('_'), replacing with dashes ('-')”\n",
      "Warning message:\n",
      "“Feature names cannot have underscores ('_'), replacing with dashes ('-')”\n"
     ]
    }
   ],
   "source": [
    "#create object\n",
    "s1.data <- read.table(\"/home/ha5666/DryLab/Projects/scCloneSelect/scCSExp17.3-3/061622_Hiseq_Dropseq/sample1/scCSExp17.3-3_sample1.txt.gz\", sep = '\\t', row.names = 1, header=T)\n",
    "s2.data <- read.table(\"/home/ha5666/DryLab/Projects/scCloneSelect/scCSExp17.3-3/061622_Hiseq_Dropseq/sample2/scCSExp17.3-3_sample2.txt.gz\", sep = '\\t', row.names = 1, header=T)\n",
    "\n",
    "projectname = \"scCloneSelectExp17.3\"\n",
    "\n",
    "sample1 <- CreateSeuratObject(counts=s1.data, project=projectname)\n",
    "sample2 <- CreateSeuratObject(counts=s2.data, project=projectname)\n",
    "\n",
    "#add sample type as meta data\n",
    "sample1[[\"sampletype\"]]<- \"LIF+2i+\"\n",
    "sample2[[\"sampletype\"]]<- \"LIF-2i-\"\n",
    "\n",
    "#percentage of reads that map to the mitochondrial genome\n",
    "sample1[[\"percent.mt\"]] <- PercentageFeatureSet(sample1, pattern=\"mt-\")\n",
    "sample2[[\"percent.mt\"]] <- PercentageFeatureSet(sample2, pattern=\"mt-\")"
   ]
  },
  {
   "cell_type": "code",
   "execution_count": 3,
   "id": "c478ef0f",
   "metadata": {},
   "outputs": [
    {
     "data": {
      "text/html": [
       "<style>\n",
       ".list-inline {list-style: none; margin:0; padding: 0}\n",
       ".list-inline>li {display: inline-block}\n",
       ".list-inline>li:not(:last-child)::after {content: \"\\00b7\"; padding: 0 .5ex}\n",
       "</style>\n",
       "<ol class=list-inline><li>18617</li><li>2564</li></ol>\n"
      ],
      "text/latex": [
       "\\begin{enumerate*}\n",
       "\\item 18617\n",
       "\\item 2564\n",
       "\\end{enumerate*}\n"
      ],
      "text/markdown": [
       "1. 18617\n",
       "2. 2564\n",
       "\n",
       "\n"
      ],
      "text/plain": [
       "[1] 18617  2564"
      ]
     },
     "metadata": {},
     "output_type": "display_data"
    },
    {
     "data": {
      "text/html": [
       "<style>\n",
       ".list-inline {list-style: none; margin:0; padding: 0}\n",
       ".list-inline>li {display: inline-block}\n",
       ".list-inline>li:not(:last-child)::after {content: \"\\00b7\"; padding: 0 .5ex}\n",
       "</style>\n",
       "<ol class=list-inline><li>20349</li><li>7004</li></ol>\n"
      ],
      "text/latex": [
       "\\begin{enumerate*}\n",
       "\\item 20349\n",
       "\\item 7004\n",
       "\\end{enumerate*}\n"
      ],
      "text/markdown": [
       "1. 20349\n",
       "2. 7004\n",
       "\n",
       "\n"
      ],
      "text/plain": [
       "[1] 20349  7004"
      ]
     },
     "metadata": {},
     "output_type": "display_data"
    }
   ],
   "source": [
    "# number of genes and single cells\n",
    "dim(sample1)\n",
    "dim(sample2)"
   ]
  },
  {
   "cell_type": "code",
   "execution_count": 4,
   "id": "dc5e4d9c",
   "metadata": {},
   "outputs": [
    {
     "data": {
      "text/plain": [
       "   Min. 1st Qu.  Median    Mean 3rd Qu.    Max. \n",
       "      0    1290    1572    2899    2450   34606 "
      ]
     },
     "metadata": {},
     "output_type": "display_data"
    },
    {
     "data": {
      "text/plain": [
       "   Min. 1st Qu.  Median    Mean 3rd Qu.    Max. \n",
       "      0    1075    1281    1690    1700   27113 "
      ]
     },
     "metadata": {},
     "output_type": "display_data"
    }
   ],
   "source": [
    "# summary of total expression per single cell\n",
    "summary(colSums(sample1))\n",
    "summary(colSums(sample2))"
   ]
  },
  {
   "cell_type": "code",
   "execution_count": 5,
   "id": "2c67d40d",
   "metadata": {},
   "outputs": [
    {
     "name": "stderr",
     "output_type": "stream",
     "text": [
      "Warning message in CheckDuplicateCellNames(object.list = objects):\n",
      "“Some cell names are duplicated across objects provided. Renaming to enforce unique cell names.”\n"
     ]
    }
   ],
   "source": [
    "#merge samples\n",
    "samplemerged <- merge(sample1, y = sample2, project = \"scCSExp17.3-3\")"
   ]
  },
  {
   "cell_type": "code",
   "execution_count": 4,
   "id": "37679222",
   "metadata": {},
   "outputs": [
    {
     "data": {
      "text/plain": [
       "An object of class Seurat \n",
       "38532 features across 9499 samples within 2 assays \n",
       "Active assay: SCT (16437 features, 3000 variable features)\n",
       " 1 other assay present: RNA\n",
       " 2 dimensional reductions calculated: pca, umap"
      ]
     },
     "metadata": {},
     "output_type": "display_data"
    }
   ],
   "source": [
    "samplemerged <- subset(samplemerged, subset = nFeature_RNA > 500 & percent.mt < 5)\n",
    "samplemerged"
   ]
  },
  {
   "cell_type": "markdown",
   "id": "b7c151c4",
   "metadata": {},
   "source": [
    "#standard workflow\n",
    "samplemerged <- NormalizeData(object = samplemerged)\n",
    "samplemerged <- FindVariableFeatures(object = samplemerged)\n",
    "samplemerged <- ScaleData(object = samplemerged)\n",
    "samplemerged <- RunPCA(object = samplemerged)\n",
    "samplemerged <- FindNeighbors(object = samplemerged)\n",
    "samplemerged <- FindClusters(object = samplemerged)\n",
    "samplemerged <- RunTSNE(object = samplemerged)"
   ]
  },
  {
   "cell_type": "code",
   "execution_count": 5,
   "id": "49fafa49",
   "metadata": {},
   "outputs": [
    {
     "name": "stderr",
     "output_type": "stream",
     "text": [
      "Warning message:\n",
      "“The default method for RunUMAP has changed from calling Python UMAP via reticulate to the R-native UWOT using the cosine metric\n",
      "To use Python UMAP via reticulate, set umap.method to 'umap-learn' and metric to 'correlation'\n",
      "This message will be shown once per session”\n"
     ]
    }
   ],
   "source": [
    "samplemerged <- SCTransform(samplemerged, vars.to.regress = \"percent.mt\", verbose = FALSE)\n",
    "samplemerged <- RunPCA(samplemerged, verbose = FALSE)\n",
    "samplemerged <- RunUMAP(samplemerged, dims = 1:10, verbose = FALSE)\n",
    "samplemerged <- FindNeighbors(samplemerged, dims = 1:10, verbose = FALSE)\n",
    "samplemerged <- FindClusters(samplemerged, verbose = FALSE)"
   ]
  },
  {
   "cell_type": "code",
   "execution_count": 6,
   "id": "3fa9df2a",
   "metadata": {},
   "outputs": [],
   "source": [
    "saveRDS(samplemerged,file=\"17.3-3.merged.data.mES.rds\")"
   ]
  },
  {
   "cell_type": "code",
   "execution_count": 7,
   "id": "d3e17528",
   "metadata": {},
   "outputs": [],
   "source": [
    "#samplemerged = readRDS(\"17.3-3.merged.data.mES.rds\")"
   ]
  },
  {
   "cell_type": "markdown",
   "id": "8d19a70e",
   "metadata": {},
   "source": [
    "# find markers for every cluster compared to all remaining cells "
   ]
  },
  {
   "cell_type": "code",
   "execution_count": 8,
   "id": "cb25d3c7",
   "metadata": {},
   "outputs": [
    {
     "name": "stderr",
     "output_type": "stream",
     "text": [
      "Calculating cluster LIF+2i+\n",
      "\n",
      "For a more efficient implementation of the Wilcoxon Rank Sum Test,\n",
      "(default method for FindMarkers) please install the limma package\n",
      "--------------------------------------------\n",
      "install.packages('BiocManager')\n",
      "BiocManager::install('limma')\n",
      "--------------------------------------------\n",
      "After installation of limma, Seurat will automatically use the more \n",
      "efficient implementation (no further action necessary).\n",
      "This message will be shown once per session\n",
      "\n",
      "Calculating cluster LIF-2i-\n",
      "\n"
     ]
    }
   ],
   "source": [
    "Idents(samplemerged) <- \"sampletype\"\n",
    "\n",
    "samplemerged.markers <- FindAllMarkers(samplemerged, only.pos = TRUE, min.pct = 0.25, logfc.threshold = 0.25)\n",
    "\n",
    "top10 <- samplemerged.markers %>% group_by(cluster) %>% top_n(n = 10, wt = avg_log2FC)"
   ]
  },
  {
   "cell_type": "code",
   "execution_count": 9,
   "id": "de579e79",
   "metadata": {},
   "outputs": [
    {
     "name": "stderr",
     "output_type": "stream",
     "text": [
      "Warning message in DoHeatmap(samplemerged, features = top10$gene):\n",
      "“The following features were omitted as they were not found in the scale.data slot for the SCT assay: mm10-Pkm, mm10-Eno1, mm10-Mif”\n"
     ]
    },
    {
     "data": {
      "image/png": "[encoded data removed]",
      "text/plain": [
       "plot without title"
      ]
     },
     "metadata": {
      "image/png": {
       "height": 150,
       "width": 198
      }
     },
     "output_type": "display_data"
    }
   ],
   "source": [
    "# find markers for every cluster compared to all remaining cells\n",
    "\n",
    "w = 3\n",
    "h = 2.7\n",
    "\n",
    "heatmapcluster <- DoHeatmap(samplemerged, features = top10$gene) +\n",
    "  theme(\n",
    "    axis.title = element_text(size = FONT.SIZE),\n",
    "    axis.text = element_text(colour = \"black\", size = FONT.SIZE),\n",
    "    legend.position=\"none\", \n",
    "    axis.text.y=element_text(size = 7, family=\"Helvetica\"))\n",
    "\n",
    "ggsave(file = \"heatmapcluster.pdf\", plot = heatmapcluster, width = w, height = h)\n",
    "\n",
    "heatmapcluster"
   ]
  }
 ],
 "metadata": {
  "kernelspec": {
   "display_name": "R4.1",
   "language": "R",
   "name": "ir41"
  },
  "language_info": {
   "codemirror_mode": "r",
   "file_extension": ".r",
   "mimetype": "text/x-r-source",
   "name": "R",
   "pygments_lexer": "r",
   "version": "4.1.2"
  }
 },
 "nbformat": 4,
 "nbformat_minor": 5
}
