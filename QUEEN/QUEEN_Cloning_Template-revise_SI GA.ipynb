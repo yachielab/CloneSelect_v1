{
 "cells": [
  {
   "cell_type": "markdown",
   "id": "668fc162-fda6-4854-818f-45e529e5b272",
   "metadata": {
    "tags": []
   },
   "source": [
    "# QUEEN Cloning Script for Gibson Assembly (revised experiments)"
   ]
  },
  {
   "cell_type": "code",
   "execution_count": 80,
   "id": "76b85300",
   "metadata": {},
   "outputs": [],
   "source": [
    "from QUEEN.queen import *\n",
    "from QUEEN import cutsite"
   ]
  },
  {
   "cell_type": "code",
   "execution_count": 122,
   "id": "2b09022e",
   "metadata": {},
   "outputs": [],
   "source": [
    "# pSI-894 pUC19-minP-EGFP cloning assembly\n",
    "plasmid1   = QUEEN(record=\"52963\", dbtype=\"addgene\")\n",
    "fw_primer1 = QUEEN(\"CCGGAGACGGTTGTAAATGAGCACACAA\", ssdna=True)\n",
    "rv_primer2 = QUEEN(\"aaacAGAGACGAGCAGCTGGAT\", ssdna=True)\n",
    "amplicon1  = pcr(plasmid1, fw_primer1, rv_primer2, bindnum=11)\n",
    "\n",
    "plasmid2   = QUEEN(record='https://benchling.com/s/seq-svWfak2pQJnEO9Dp2adN', dbtype='benchling')\n",
    "fw_primer3 = QUEEN('aaagggcctcgtgatacgccta', ssdna=True)\n",
    "rv_primer4 = QUEEN('TGCTCATTTACAACCGTCTCcGGTGGGCgtcacagcttgtctgtaagcgga', ssdna=True)\n",
    "amplicon2  = pcr(plasmid2, fw_primer3, rv_primer4)\n",
    "\n",
    "plasmid3   = QUEEN(record='https://benchling.com/s/seq-R920EgkYUfVPM5CjLyS0', dbtype='benchling')\n",
    "fw_primer5 = QUEEN('ATCCAGCTGCTCGTCTCTgtttCGGTAGGCGTGTACGGTGGGAGG', ssdna=True)\n",
    "rv_primer6 = QUEEN('taggcgtatcacgaggccctttTTACTTGTACAGCTCGTCCA', ssdna=True)\n",
    "amplicon3  = pcr(plasmid3, fw_primer5, rv_primer6)\n",
    "\n",
    "#homology_based_assembly(amplicon1, amplicon2, amplicon3, mode=\"gibson\", unique=True)\n",
    "#pSI949 = joindna(amplicon1, amplicon2, amplicon3, topology=\"circular\")\n",
    "#pSI949.outputgbk('hoge.gbK')\n",
    "#print(amplicon3.printsequence())\n"
   ]
  },
  {
   "cell_type": "code",
   "execution_count": 86,
   "id": "b192fa77",
   "metadata": {},
   "outputs": [],
   "source": [
    "# pLV-CS-282 v2 lenti-dCas9-VPR-P2A-Hygro construction\n",
    "\n",
    "# backbones\n",
    "pSI756 = QUEEN(record='https://benchling.com/s/seq-grmGr2Eu7nbqu6Vabu4j', dbtype='benchling')\n",
    "lentiMS2_P65_Hygr = QUEEN(record='61426', dbtype='addgene')\n",
    "lentidCas9_VP64 = QUEEN(record='https://benchling.com/s/seq-9ujlwGWlgMb1pXrbO0A6', dbtype='benchling')\n",
    "\n",
    "# primers\n",
    "SI2164 = QUEEN('ctaagaaaaagaggaaggtggcggccgctggatccGACGCATTGGACGATTTTGA', ssdna=True)\n",
    "SI2165 = QUEEN('AAACAGAGATGTGTCGAAGAT', ssdna=True)\n",
    "SI2166 = QUEEN('CTGTCCATCTTCGACACATCTCTGTTTGAGGGCAGAGGAAGTCTGCTAAC', ssdna=True)\n",
    "SI2167 = QUEEN('ttgattaccgataagcttgatatcgaattcttactgcagatcCTTTGCCC', ssdna=True)\n",
    "\n",
    "# f282v2-1 Gibson fragments\n",
    "# fragment1\n",
    "fw_pos_1 = pSI756.searchsequence(SI2164.seq[-20:])\n",
    "rv_pos_1 = pSI756.searchsequence(SI2165.seq)\n",
    "ext_seq_1 = cropdna(pSI756, fw_pos_1[0].end, rv_pos_1[0].start)\n",
    "f282v2_amplicon1 = modifyends(ext_seq_1, SI2164.seq, SI2165.rcseq)\n",
    "\n",
    "# fragment2\n",
    "fw_pos_2 = lentiMS2_P65_Hygr.searchsequence(SI2166.seq[-23:])\n",
    "rv_pos_2 = lentiMS2_P65_Hygr.searchsequence(SI2167.seq[-20:])\n",
    "ext_seq_2 = cropdna(lentiMS2_P65_Hygr, fw_pos_2[0].end, rv_pos_2[0].start)\n",
    "f282v2_amplicon2 = modifyends(ext_seq_2, SI2166.seq, SI2167.rcseq)\n",
    "\n",
    "# digested backbone\n",
    "backbone_digested = digestion(lentidCas9_VP64, cutsite.lib[\"BamHI\"], cutsite.lib[\"EcoRI\"])\n",
    "result = homology_based_assembly(backbone_digested[1], f282v2_amplicon1, f282v2_amplicon2, mode=\"gibson\", unique=True)\n",
    "result.outputgbk('pLV-CS-282 v2_QUEEN.gbk')\n"
   ]
  },
  {
   "cell_type": "code",
   "execution_count": 115,
   "id": "c64fae91",
   "metadata": {},
   "outputs": [],
   "source": [
    "# pLV-CS-317, pLV-CS-318, and pLV-CS-319 ClonSifter reporter constructs\n",
    "\n",
    "# primers for CS317\n",
    "SI2214 = QUEEN(\"agtagtagtaagtgataatagaaatcgccaccatgctactgtacccccgATTCCCTACCCCACTG\", ssdna=True)\n",
    "SI2215 = QUEEN(\"cgATTCCCTACCCCACTGTCTCccccgCACGGTCACCCTGACACGCTGGGccccgCTTTTCACGA\", ssdna=False)\n",
    "SI2216 = QUEEN(\"AGACTcggggTGCCAAGGGAGAGGGGTGAAcgggTGTTTGGTCGTCGTGAAAAGcggggCCCAG\", ssdna=True)\n",
    "SI2217 = QUEEN(\"CCCCTCTCCCTTGGCAccccgAGTCTGTCTCTCACAGCGTGccccgCACTACTTCACTACCTTTT\", ssdna=True)\n",
    "SI2218 = QUEEN('cgCACTACTTCACTACCTTTTTcccgAGTCTGGCAGTCACTGGGTGcctc', ssdna=False)\n",
    "SI2219 = QUEEN('cctctgccctctccactgcctgtacagcttgaggCACCCAGTGACTGCCA', ssdna=True)\n",
    "\n",
    "# primers for CS318\n",
    "SI2220 = QUEEN('cgATTCCCTACCCCACTGTCTCccccgTGCGTGTCTCTGTCTCGGTGccccgCTTTTCACGACGA', ssdna=False)\n",
    "SI2221 = QUEEN('TCCGTGACTcggggTGCCAAGGGAGAGGGGTGAAcgggTGTTTGGTCGTCGTGAAAAGcggggCA', ssdna=True)\n",
    "SI2222 = QUEEN('CCCCTCTCCCTTGGCAccccgAGTCACGGAGCCAGTCGGTGccccgCACTACTTCACTACCTTTT', ssdna=True)\n",
    "SI2223 = QUEEN('cgCACTACTTCACTACCTTTTTccccTCTCAGGCTCTGACTCTGTGcctcaagct', ssdna=False)\n",
    "SI2224 = QUEEN('cctctgccctctccactgcctGTACagcttgaggCACAGAGTCAGAGCCT', ssdna=True)\n",
    "\n",
    "# primers for CS319\n",
    "SI2225 = QUEEN('cgATTCCCTACCCCACTGTCTCccccgccTTATGACCCTGACACGCTGGGccccgCTTTTCACGA', ssdna=False)\n",
    "SI2226 = QUEEN('TTAAATcggggTGCCAAGGGAGAGGGGTGAAcgggTGTTTGGTCGTCGTGAAAAGcggggCCCAG', ssdna=True)\n",
    "SI2227 = QUEEN('CCCCTCTCCCTTGGCAccccgATTTAACTGGGCACGTTTGGGGGccccgCACTACTTCACTACCT', ssdna=True)\n",
    "SI2228 = QUEEN('GGGGccccgCACTACTTCACTACCTTTTTcccgGGTTACCTCCACGTCGAACGGGGcctcaagct', ssdna=False)\n",
    "SI2229 = QUEEN('cctctgccctctccactgcctgtacagcttgaggCCCCGTTCGACGTGGA', ssdna=True)\n",
    "\n",
    "# insert fragments\n",
    "frag317_1 = pcr(SI2215, SI2214, SI2216)\n",
    "frag317_2 = pcr(SI2218, SI2217, SI2219)\n",
    "\n",
    "frag318_1 = pcr(SI2220, SI2214, SI2221)\n",
    "frag318_2 = pcr(SI2223, SI2222, SI2224)\n",
    "\n",
    "frag319_1 = pcr(SI2225, SI2214, SI2226)\n",
    "frag319_2 = pcr(SI2228, SI2227, SI2229)\n",
    "\n",
    "# backbone\n",
    "pLentiTMv2 = QUEEN(record='https://benchling.com/s/seq-7CoNZvCuX8noAN87aTzp', dbtype='benchling')\n",
    "backbone_digested = digestion(pLentiTMv2, cutsite.lib[\"BsmBI\"])\n",
    "\n",
    "CS317 = homology_based_assembly(backbone_digested[0], frag317_1, frag317_2, mode=\"gibson\", unique=True)\n",
    "CS318 = homology_based_assembly(backbone_digested[0], frag318_1, frag318_2, mode=\"gibson\", unique=True)\n",
    "CS319 = homology_based_assembly(backbone_digested[0], frag319_1, frag319_2, mode=\"gibson\", unique=True)\n",
    "\n",
    "CS317.outputgbk('pLV-CS-317.gbk')\n",
    "CS318.outputgbk('pLV-CS-318.gbk')\n",
    "CS319.outputgbk('pLV-CS-319.gbk')\n",
    "\n"
   ]
  },
  {
   "cell_type": "code",
   "execution_count": 148,
   "id": "ac8824d1",
   "metadata": {},
   "outputs": [],
   "source": [
    "#fCS281v4-1\tSI#2199\tSI#2200\t681\tpcDNA3.1\n",
    "#pLV-CS-281 v4 ... fCS281v4-1 BsrGI+NheI digested + backbone\n",
    "\n",
    "# backbone\n",
    "pLVCS281v3 = QUEEN(record='https://benchling.com/s/seq-51DzN0A7mEFiprUd6kgy', dbtype='benchling')\n",
    "pLVCS281v3_digested = digestion(pLVCS281v3, cutsite.lib[\"NheI\"], cutsite.lib['BsrGI'])[0]\n",
    "\n",
    "SI2199 = QUEEN('CTCTCGGCATGGACGAGCTGTACAAGTAAACATTGATTATTGACTAGTTATT', ssdna=True)\n",
    "SI2200 = QUEEN('gagacaaaggcttggccatGCTAGCGCTTACCGGTGCCAGTAAGCAGTGGGTTCTC', ssdna=True)\n",
    "\n",
    "pcDNA = QUEEN(record='https://benchling.com/s/seq-gIPSvyR8srYYdDKEHLY2', dbtype='benchling')\n",
    "fw = pcDNA.searchsequence(SI2199.seq[-23:])\n",
    "rv = pcDNA.searchsequence(SI2200.seq[-21:])\n",
    "pos = cropdna(pcDNA, fw[0].end, rv[0].start)\n",
    "CMV_amplicon = modifyends(pos, SI2199.seq, SI2200.rcseq)\n",
    "CMV_amplicon_digested = digestion(CMV_amplicon, cutsite.lib['NheI'], cutsite.lib['BsrGI'])[1]\n",
    "\n",
    "pLVCS281v4 = ligation(pLVCS281v3_digested, CMV_amplicon_digested)\n",
    "pLVCS281v4.outputgbk('pLV-CS-281v4.gbk')"
   ]
  }
 ],
 "metadata": {
  "kernelspec": {
   "display_name": "Python 3 (ipykernel)",
   "language": "python",
   "name": "python3"
  },
  "language_info": {
   "codemirror_mode": {
    "name": "ipython",
    "version": 3
   },
   "file_extension": ".py",
   "mimetype": "text/x-python",
   "name": "python",
   "nbconvert_exporter": "python",
   "pygments_lexer": "ipython3",
   "version": "3.10.0"
  }
 },
 "nbformat": 4,
 "nbformat_minor": 5
}
